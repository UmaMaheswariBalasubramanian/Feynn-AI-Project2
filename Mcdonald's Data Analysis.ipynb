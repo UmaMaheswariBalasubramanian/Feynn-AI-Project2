{
 "cells": [
  {
   "cell_type": "code",
   "execution_count": 1,
   "metadata": {},
   "outputs": [],
   "source": [
    "import numpy as np # linear algebra\n",
    "import pandas as pd # data processing, CSV file I/O (e.g. pd.read_csv)\n",
    "\n",
    "import matplotlib.pyplot as plt\n",
    "import seaborn as sns  # visualization tool\n"
   ]
  },
  {
   "cell_type": "code",
   "execution_count": 2,
   "metadata": {},
   "outputs": [],
   "source": [
    "data=pd.read_csv('mcdonalds.csv')"
   ]
  },
  {
   "cell_type": "code",
   "execution_count": 3,
   "metadata": {},
   "outputs": [
    {
     "data": {
      "text/plain": [
       "Index(['yummy', 'convenient', 'spicy', 'fattening', 'greasy', 'fast', 'cheap',\n",
       "       'tasty', 'expensive', 'healthy', 'disgusting', 'Like', 'Age',\n",
       "       'VisitFrequency', 'Gender'],\n",
       "      dtype='object')"
      ]
     },
     "execution_count": 3,
     "metadata": {},
     "output_type": "execute_result"
    }
   ],
   "source": [
    "data.columns"
   ]
  },
  {
   "cell_type": "markdown",
   "metadata": {},
   "source": [
    "Check for missing calories(data :D)"
   ]
  },
  {
   "cell_type": "code",
   "execution_count": 4,
   "metadata": {},
   "outputs": [
    {
     "data": {
      "text/plain": [
       "yummy             0\n",
       "convenient        0\n",
       "spicy             0\n",
       "fattening         0\n",
       "greasy            0\n",
       "fast              0\n",
       "cheap             0\n",
       "tasty             0\n",
       "expensive         0\n",
       "healthy           0\n",
       "disgusting        0\n",
       "Like              0\n",
       "Age               0\n",
       "VisitFrequency    0\n",
       "Gender            0\n",
       "dtype: int64"
      ]
     },
     "execution_count": 4,
     "metadata": {},
     "output_type": "execute_result"
    }
   ],
   "source": [
    "data.isnull().sum()"
   ]
  },
  {
   "cell_type": "code",
   "execution_count": 5,
   "metadata": {
    "scrolled": true
   },
   "outputs": [
    {
     "data": {
      "text/plain": [
       "False"
      ]
     },
     "execution_count": 5,
     "metadata": {},
     "output_type": "execute_result"
    }
   ],
   "source": [
    "data.isnull().values.any() # Check if there is any missing value\n"
   ]
  },
  {
   "cell_type": "code",
   "execution_count": 6,
   "metadata": {},
   "outputs": [
    {
     "data": {
      "image/png": "[encoded data removed]",
      "text/plain": [
       "<Figure size 864x288 with 1 Axes>"
      ]
     },
     "metadata": {
      "needs_background": "light"
     },
     "output_type": "display_data"
    }
   ],
   "source": [
    "plt.figure(figsize=(12,4))\n",
    "sns.heatmap(data.isnull(),cbar=False,yticklabels=False,cmap='summer')\n",
    "plt.show()"
   ]
  },
  {
   "cell_type": "markdown",
   "metadata": {},
   "source": [
    "Dataset has no missing values.\n",
    "If there is any missing values it would have been represented by different colour shade."
   ]
  },
  {
   "cell_type": "code",
   "execution_count": 7,
   "metadata": {},
   "outputs": [
    {
     "data": {
      "text/html": [
       "<div>\n",
       "<style scoped>\n",
       "    .dataframe tbody tr th:only-of-type {\n",
       "        vertical-align: middle;\n",
       "    }\n",
       "\n",
       "    .dataframe tbody tr th {\n",
       "        vertical-align: top;\n",
       "    }\n",
       "\n",
       "    .dataframe thead th {\n",
       "        text-align: right;\n",
       "    }\n",
       "</style>\n",
       "<table border=\"1\" class=\"dataframe\">\n",
       "  <thead>\n",
       "    <tr style=\"text-align: right;\">\n",
       "      <th></th>\n",
       "      <th>yummy</th>\n",
       "      <th>convenient</th>\n",
       "      <th>spicy</th>\n",
       "      <th>fattening</th>\n",
       "      <th>greasy</th>\n",
       "      <th>fast</th>\n",
       "      <th>cheap</th>\n",
       "      <th>tasty</th>\n",
       "      <th>expensive</th>\n",
       "      <th>healthy</th>\n",
       "      <th>disgusting</th>\n",
       "      <th>Like</th>\n",
       "      <th>Age</th>\n",
       "      <th>VisitFrequency</th>\n",
       "      <th>Gender</th>\n",
       "    </tr>\n",
       "  </thead>\n",
       "  <tbody>\n",
       "    <tr>\n",
       "      <th>0</th>\n",
       "      <td>No</td>\n",
       "      <td>Yes</td>\n",
       "      <td>No</td>\n",
       "      <td>Yes</td>\n",
       "      <td>No</td>\n",
       "      <td>Yes</td>\n",
       "      <td>Yes</td>\n",
       "      <td>No</td>\n",
       "      <td>Yes</td>\n",
       "      <td>No</td>\n",
       "      <td>No</td>\n",
       "      <td>-3</td>\n",
       "      <td>61</td>\n",
       "      <td>Every three months</td>\n",
       "      <td>Female</td>\n",
       "    </tr>\n",
       "    <tr>\n",
       "      <th>1</th>\n",
       "      <td>Yes</td>\n",
       "      <td>Yes</td>\n",
       "      <td>No</td>\n",
       "      <td>Yes</td>\n",
       "      <td>Yes</td>\n",
       "      <td>Yes</td>\n",
       "      <td>Yes</td>\n",
       "      <td>Yes</td>\n",
       "      <td>Yes</td>\n",
       "      <td>No</td>\n",
       "      <td>No</td>\n",
       "      <td>+2</td>\n",
       "      <td>51</td>\n",
       "      <td>Every three months</td>\n",
       "      <td>Female</td>\n",
       "    </tr>\n",
       "    <tr>\n",
       "      <th>2</th>\n",
       "      <td>No</td>\n",
       "      <td>Yes</td>\n",
       "      <td>Yes</td>\n",
       "      <td>Yes</td>\n",
       "      <td>Yes</td>\n",
       "      <td>Yes</td>\n",
       "      <td>No</td>\n",
       "      <td>Yes</td>\n",
       "      <td>Yes</td>\n",
       "      <td>Yes</td>\n",
       "      <td>No</td>\n",
       "      <td>+1</td>\n",
       "      <td>62</td>\n",
       "      <td>Every three months</td>\n",
       "      <td>Female</td>\n",
       "    </tr>\n",
       "    <tr>\n",
       "      <th>3</th>\n",
       "      <td>Yes</td>\n",
       "      <td>Yes</td>\n",
       "      <td>No</td>\n",
       "      <td>Yes</td>\n",
       "      <td>Yes</td>\n",
       "      <td>Yes</td>\n",
       "      <td>Yes</td>\n",
       "      <td>Yes</td>\n",
       "      <td>No</td>\n",
       "      <td>No</td>\n",
       "      <td>Yes</td>\n",
       "      <td>+4</td>\n",
       "      <td>69</td>\n",
       "      <td>Once a week</td>\n",
       "      <td>Female</td>\n",
       "    </tr>\n",
       "    <tr>\n",
       "      <th>4</th>\n",
       "      <td>No</td>\n",
       "      <td>Yes</td>\n",
       "      <td>No</td>\n",
       "      <td>Yes</td>\n",
       "      <td>Yes</td>\n",
       "      <td>Yes</td>\n",
       "      <td>Yes</td>\n",
       "      <td>No</td>\n",
       "      <td>No</td>\n",
       "      <td>Yes</td>\n",
       "      <td>No</td>\n",
       "      <td>+2</td>\n",
       "      <td>49</td>\n",
       "      <td>Once a month</td>\n",
       "      <td>Male</td>\n",
       "    </tr>\n",
       "  </tbody>\n",
       "</table>\n",
       "</div>"
      ],
      "text/plain": [
       "  yummy convenient spicy fattening greasy fast cheap tasty expensive healthy  \\\n",
       "0    No        Yes    No       Yes     No  Yes   Yes    No       Yes      No   \n",
       "1   Yes        Yes    No       Yes    Yes  Yes   Yes   Yes       Yes      No   \n",
       "2    No        Yes   Yes       Yes    Yes  Yes    No   Yes       Yes     Yes   \n",
       "3   Yes        Yes    No       Yes    Yes  Yes   Yes   Yes        No      No   \n",
       "4    No        Yes    No       Yes    Yes  Yes   Yes    No        No     Yes   \n",
       "\n",
       "  disgusting Like  Age      VisitFrequency  Gender  \n",
       "0         No   -3   61  Every three months  Female  \n",
       "1         No   +2   51  Every three months  Female  \n",
       "2         No   +1   62  Every three months  Female  \n",
       "3        Yes   +4   69         Once a week  Female  \n",
       "4         No   +2   49        Once a month    Male  "
      ]
     },
     "execution_count": 7,
     "metadata": {},
     "output_type": "execute_result"
    }
   ],
   "source": [
    "data.head()"
   ]
  },
  {
   "cell_type": "code",
   "execution_count": 8,
   "metadata": {
    "scrolled": true
   },
   "outputs": [
    {
     "data": {
      "text/html": [
       "<div>\n",
       "<style scoped>\n",
       "    .dataframe tbody tr th:only-of-type {\n",
       "        vertical-align: middle;\n",
       "    }\n",
       "\n",
       "    .dataframe tbody tr th {\n",
       "        vertical-align: top;\n",
       "    }\n",
       "\n",
       "    .dataframe thead th {\n",
       "        text-align: right;\n",
       "    }\n",
       "</style>\n",
       "<table border=\"1\" class=\"dataframe\">\n",
       "  <thead>\n",
       "    <tr style=\"text-align: right;\">\n",
       "      <th></th>\n",
       "      <th>yummy</th>\n",
       "      <th>convenient</th>\n",
       "      <th>spicy</th>\n",
       "      <th>fattening</th>\n",
       "      <th>greasy</th>\n",
       "      <th>fast</th>\n",
       "      <th>cheap</th>\n",
       "      <th>tasty</th>\n",
       "      <th>expensive</th>\n",
       "      <th>healthy</th>\n",
       "      <th>disgusting</th>\n",
       "      <th>Like</th>\n",
       "      <th>Age</th>\n",
       "      <th>VisitFrequency</th>\n",
       "      <th>Gender</th>\n",
       "    </tr>\n",
       "  </thead>\n",
       "  <tbody>\n",
       "    <tr>\n",
       "      <th>1448</th>\n",
       "      <td>No</td>\n",
       "      <td>Yes</td>\n",
       "      <td>No</td>\n",
       "      <td>Yes</td>\n",
       "      <td>Yes</td>\n",
       "      <td>No</td>\n",
       "      <td>No</td>\n",
       "      <td>No</td>\n",
       "      <td>Yes</td>\n",
       "      <td>No</td>\n",
       "      <td>Yes</td>\n",
       "      <td>I hate it!-5</td>\n",
       "      <td>47</td>\n",
       "      <td>Once a year</td>\n",
       "      <td>Male</td>\n",
       "    </tr>\n",
       "    <tr>\n",
       "      <th>1449</th>\n",
       "      <td>Yes</td>\n",
       "      <td>Yes</td>\n",
       "      <td>No</td>\n",
       "      <td>Yes</td>\n",
       "      <td>No</td>\n",
       "      <td>No</td>\n",
       "      <td>Yes</td>\n",
       "      <td>Yes</td>\n",
       "      <td>No</td>\n",
       "      <td>Yes</td>\n",
       "      <td>No</td>\n",
       "      <td>+2</td>\n",
       "      <td>36</td>\n",
       "      <td>Once a week</td>\n",
       "      <td>Female</td>\n",
       "    </tr>\n",
       "    <tr>\n",
       "      <th>1450</th>\n",
       "      <td>Yes</td>\n",
       "      <td>Yes</td>\n",
       "      <td>No</td>\n",
       "      <td>Yes</td>\n",
       "      <td>No</td>\n",
       "      <td>Yes</td>\n",
       "      <td>No</td>\n",
       "      <td>Yes</td>\n",
       "      <td>Yes</td>\n",
       "      <td>No</td>\n",
       "      <td>No</td>\n",
       "      <td>+3</td>\n",
       "      <td>52</td>\n",
       "      <td>Once a month</td>\n",
       "      <td>Female</td>\n",
       "    </tr>\n",
       "    <tr>\n",
       "      <th>1451</th>\n",
       "      <td>Yes</td>\n",
       "      <td>Yes</td>\n",
       "      <td>No</td>\n",
       "      <td>No</td>\n",
       "      <td>No</td>\n",
       "      <td>Yes</td>\n",
       "      <td>Yes</td>\n",
       "      <td>Yes</td>\n",
       "      <td>No</td>\n",
       "      <td>Yes</td>\n",
       "      <td>No</td>\n",
       "      <td>+4</td>\n",
       "      <td>41</td>\n",
       "      <td>Every three months</td>\n",
       "      <td>Male</td>\n",
       "    </tr>\n",
       "    <tr>\n",
       "      <th>1452</th>\n",
       "      <td>No</td>\n",
       "      <td>Yes</td>\n",
       "      <td>No</td>\n",
       "      <td>Yes</td>\n",
       "      <td>Yes</td>\n",
       "      <td>No</td>\n",
       "      <td>No</td>\n",
       "      <td>No</td>\n",
       "      <td>Yes</td>\n",
       "      <td>No</td>\n",
       "      <td>Yes</td>\n",
       "      <td>-3</td>\n",
       "      <td>30</td>\n",
       "      <td>Every three months</td>\n",
       "      <td>Male</td>\n",
       "    </tr>\n",
       "  </tbody>\n",
       "</table>\n",
       "</div>"
      ],
      "text/plain": [
       "     yummy convenient spicy fattening greasy fast cheap tasty expensive  \\\n",
       "1448    No        Yes    No       Yes    Yes   No    No    No       Yes   \n",
       "1449   Yes        Yes    No       Yes     No   No   Yes   Yes        No   \n",
       "1450   Yes        Yes    No       Yes     No  Yes    No   Yes       Yes   \n",
       "1451   Yes        Yes    No        No     No  Yes   Yes   Yes        No   \n",
       "1452    No        Yes    No       Yes    Yes   No    No    No       Yes   \n",
       "\n",
       "     healthy disgusting          Like  Age      VisitFrequency  Gender  \n",
       "1448      No        Yes  I hate it!-5   47         Once a year    Male  \n",
       "1449     Yes         No            +2   36         Once a week  Female  \n",
       "1450      No         No            +3   52        Once a month  Female  \n",
       "1451     Yes         No            +4   41  Every three months    Male  \n",
       "1452      No        Yes            -3   30  Every three months    Male  "
      ]
     },
     "execution_count": 8,
     "metadata": {},
     "output_type": "execute_result"
    }
   ],
   "source": [
    "data.tail()"
   ]
  },
  {
   "cell_type": "code",
   "execution_count": 9,
   "metadata": {},
   "outputs": [
    {
     "data": {
      "text/plain": [
       "yummy             object\n",
       "convenient        object\n",
       "spicy             object\n",
       "fattening         object\n",
       "greasy            object\n",
       "fast              object\n",
       "cheap             object\n",
       "tasty             object\n",
       "expensive         object\n",
       "healthy           object\n",
       "disgusting        object\n",
       "Like              object\n",
       "Age                int64\n",
       "VisitFrequency    object\n",
       "Gender            object\n",
       "dtype: object"
      ]
     },
     "execution_count": 9,
     "metadata": {},
     "output_type": "execute_result"
    }
   ],
   "source": [
    "data.dtypes"
   ]
  },
  {
   "cell_type": "code",
   "execution_count": 10,
   "metadata": {},
   "outputs": [
    {
     "data": {
      "text/html": [
       "<div>\n",
       "<style scoped>\n",
       "    .dataframe tbody tr th:only-of-type {\n",
       "        vertical-align: middle;\n",
       "    }\n",
       "\n",
       "    .dataframe tbody tr th {\n",
       "        vertical-align: top;\n",
       "    }\n",
       "\n",
       "    .dataframe thead th {\n",
       "        text-align: right;\n",
       "    }\n",
       "</style>\n",
       "<table border=\"1\" class=\"dataframe\">\n",
       "  <thead>\n",
       "    <tr style=\"text-align: right;\">\n",
       "      <th></th>\n",
       "      <th>Age</th>\n",
       "    </tr>\n",
       "  </thead>\n",
       "  <tbody>\n",
       "    <tr>\n",
       "      <th>Age</th>\n",
       "      <td>1.0</td>\n",
       "    </tr>\n",
       "  </tbody>\n",
       "</table>\n",
       "</div>"
      ],
      "text/plain": [
       "     Age\n",
       "Age  1.0"
      ]
     },
     "execution_count": 10,
     "metadata": {},
     "output_type": "execute_result"
    }
   ],
   "source": [
    "data.corr()"
   ]
  },
  {
   "cell_type": "code",
   "execution_count": 11,
   "metadata": {},
   "outputs": [
    {
     "data": {
      "text/plain": [
       "0        No\n",
       "1       Yes\n",
       "2        No\n",
       "3       Yes\n",
       "4        No\n",
       "5       Yes\n",
       "6       Yes\n",
       "7       Yes\n",
       "8        No\n",
       "9       Yes\n",
       "10       No\n",
       "11      Yes\n",
       "12       No\n",
       "13      Yes\n",
       "14       No\n",
       "15      Yes\n",
       "16      Yes\n",
       "17      Yes\n",
       "18       No\n",
       "19      Yes\n",
       "20      Yes\n",
       "21      Yes\n",
       "22      Yes\n",
       "23      Yes\n",
       "24      Yes\n",
       "25      Yes\n",
       "26      Yes\n",
       "27       No\n",
       "28       No\n",
       "29      Yes\n",
       "       ... \n",
       "1423    Yes\n",
       "1424     No\n",
       "1425    Yes\n",
       "1426    Yes\n",
       "1427     No\n",
       "1428     No\n",
       "1429    Yes\n",
       "1430     No\n",
       "1431    Yes\n",
       "1432     No\n",
       "1433     No\n",
       "1434    Yes\n",
       "1435     No\n",
       "1436    Yes\n",
       "1437    Yes\n",
       "1438    Yes\n",
       "1439    Yes\n",
       "1440    Yes\n",
       "1441    Yes\n",
       "1442    Yes\n",
       "1443    Yes\n",
       "1444     No\n",
       "1445     No\n",
       "1446    Yes\n",
       "1447     No\n",
       "1448     No\n",
       "1449    Yes\n",
       "1450    Yes\n",
       "1451    Yes\n",
       "1452     No\n",
       "Name: yummy, Length: 1453, dtype: object"
      ]
     },
     "execution_count": 11,
     "metadata": {},
     "output_type": "execute_result"
    }
   ],
   "source": [
    "data['yummy']"
   ]
  },
  {
   "cell_type": "code",
   "execution_count": 12,
   "metadata": {},
   "outputs": [
    {
     "data": {
      "text/plain": [
       "(1453, 15)"
      ]
     },
     "execution_count": 12,
     "metadata": {},
     "output_type": "execute_result"
    }
   ],
   "source": [
    "data.shape #rows and columns"
   ]
  },
  {
   "cell_type": "code",
   "execution_count": 13,
   "metadata": {},
   "outputs": [
    {
     "data": {
      "text/html": [
       "<div>\n",
       "<style scoped>\n",
       "    .dataframe tbody tr th:only-of-type {\n",
       "        vertical-align: middle;\n",
       "    }\n",
       "\n",
       "    .dataframe tbody tr th {\n",
       "        vertical-align: top;\n",
       "    }\n",
       "\n",
       "    .dataframe thead th {\n",
       "        text-align: right;\n",
       "    }\n",
       "</style>\n",
       "<table border=\"1\" class=\"dataframe\">\n",
       "  <thead>\n",
       "    <tr style=\"text-align: right;\">\n",
       "      <th></th>\n",
       "      <th>Age</th>\n",
       "    </tr>\n",
       "  </thead>\n",
       "  <tbody>\n",
       "    <tr>\n",
       "      <th>count</th>\n",
       "      <td>1453.000000</td>\n",
       "    </tr>\n",
       "    <tr>\n",
       "      <th>mean</th>\n",
       "      <td>44.604955</td>\n",
       "    </tr>\n",
       "    <tr>\n",
       "      <th>std</th>\n",
       "      <td>14.221178</td>\n",
       "    </tr>\n",
       "    <tr>\n",
       "      <th>min</th>\n",
       "      <td>18.000000</td>\n",
       "    </tr>\n",
       "    <tr>\n",
       "      <th>25%</th>\n",
       "      <td>33.000000</td>\n",
       "    </tr>\n",
       "    <tr>\n",
       "      <th>50%</th>\n",
       "      <td>45.000000</td>\n",
       "    </tr>\n",
       "    <tr>\n",
       "      <th>75%</th>\n",
       "      <td>57.000000</td>\n",
       "    </tr>\n",
       "    <tr>\n",
       "      <th>max</th>\n",
       "      <td>71.000000</td>\n",
       "    </tr>\n",
       "  </tbody>\n",
       "</table>\n",
       "</div>"
      ],
      "text/plain": [
       "               Age\n",
       "count  1453.000000\n",
       "mean     44.604955\n",
       "std      14.221178\n",
       "min      18.000000\n",
       "25%      33.000000\n",
       "50%      45.000000\n",
       "75%      57.000000\n",
       "max      71.000000"
      ]
     },
     "execution_count": 13,
     "metadata": {},
     "output_type": "execute_result"
    }
   ],
   "source": [
    "data.describe() #to remember what i ve\n"
   ]
  },
  {
   "cell_type": "code",
   "execution_count": 14,
   "metadata": {},
   "outputs": [
    {
     "data": {
      "text/html": [
       "<div>\n",
       "<style scoped>\n",
       "    .dataframe tbody tr th:only-of-type {\n",
       "        vertical-align: middle;\n",
       "    }\n",
       "\n",
       "    .dataframe tbody tr th {\n",
       "        vertical-align: top;\n",
       "    }\n",
       "\n",
       "    .dataframe thead th {\n",
       "        text-align: right;\n",
       "    }\n",
       "</style>\n",
       "<table border=\"1\" class=\"dataframe\">\n",
       "  <thead>\n",
       "    <tr style=\"text-align: right;\">\n",
       "      <th></th>\n",
       "      <th>yummy</th>\n",
       "      <th>convenient</th>\n",
       "      <th>spicy</th>\n",
       "      <th>fattening</th>\n",
       "      <th>greasy</th>\n",
       "      <th>fast</th>\n",
       "      <th>cheap</th>\n",
       "      <th>tasty</th>\n",
       "      <th>expensive</th>\n",
       "      <th>healthy</th>\n",
       "      <th>disgusting</th>\n",
       "      <th>Like</th>\n",
       "      <th>Age</th>\n",
       "      <th>VisitFrequency</th>\n",
       "      <th>Gender</th>\n",
       "    </tr>\n",
       "  </thead>\n",
       "  <tbody>\n",
       "    <tr>\n",
       "      <th>0</th>\n",
       "      <td>No</td>\n",
       "      <td>Yes</td>\n",
       "      <td>No</td>\n",
       "      <td>Yes</td>\n",
       "      <td>No</td>\n",
       "      <td>Yes</td>\n",
       "      <td>Yes</td>\n",
       "      <td>No</td>\n",
       "      <td>Yes</td>\n",
       "      <td>No</td>\n",
       "      <td>No</td>\n",
       "      <td>-3</td>\n",
       "      <td>61</td>\n",
       "      <td>Every three months</td>\n",
       "      <td>Female</td>\n",
       "    </tr>\n",
       "    <tr>\n",
       "      <th>1</th>\n",
       "      <td>Yes</td>\n",
       "      <td>Yes</td>\n",
       "      <td>No</td>\n",
       "      <td>Yes</td>\n",
       "      <td>Yes</td>\n",
       "      <td>Yes</td>\n",
       "      <td>Yes</td>\n",
       "      <td>Yes</td>\n",
       "      <td>Yes</td>\n",
       "      <td>No</td>\n",
       "      <td>No</td>\n",
       "      <td>+2</td>\n",
       "      <td>51</td>\n",
       "      <td>Every three months</td>\n",
       "      <td>Female</td>\n",
       "    </tr>\n",
       "    <tr>\n",
       "      <th>2</th>\n",
       "      <td>No</td>\n",
       "      <td>Yes</td>\n",
       "      <td>Yes</td>\n",
       "      <td>Yes</td>\n",
       "      <td>Yes</td>\n",
       "      <td>Yes</td>\n",
       "      <td>No</td>\n",
       "      <td>Yes</td>\n",
       "      <td>Yes</td>\n",
       "      <td>Yes</td>\n",
       "      <td>No</td>\n",
       "      <td>+1</td>\n",
       "      <td>62</td>\n",
       "      <td>Every three months</td>\n",
       "      <td>Female</td>\n",
       "    </tr>\n",
       "    <tr>\n",
       "      <th>3</th>\n",
       "      <td>Yes</td>\n",
       "      <td>Yes</td>\n",
       "      <td>No</td>\n",
       "      <td>Yes</td>\n",
       "      <td>Yes</td>\n",
       "      <td>Yes</td>\n",
       "      <td>Yes</td>\n",
       "      <td>Yes</td>\n",
       "      <td>No</td>\n",
       "      <td>No</td>\n",
       "      <td>Yes</td>\n",
       "      <td>+4</td>\n",
       "      <td>69</td>\n",
       "      <td>Once a week</td>\n",
       "      <td>Female</td>\n",
       "    </tr>\n",
       "    <tr>\n",
       "      <th>4</th>\n",
       "      <td>No</td>\n",
       "      <td>Yes</td>\n",
       "      <td>No</td>\n",
       "      <td>Yes</td>\n",
       "      <td>Yes</td>\n",
       "      <td>Yes</td>\n",
       "      <td>Yes</td>\n",
       "      <td>No</td>\n",
       "      <td>No</td>\n",
       "      <td>Yes</td>\n",
       "      <td>No</td>\n",
       "      <td>+2</td>\n",
       "      <td>49</td>\n",
       "      <td>Once a month</td>\n",
       "      <td>Male</td>\n",
       "    </tr>\n",
       "    <tr>\n",
       "      <th>5</th>\n",
       "      <td>Yes</td>\n",
       "      <td>Yes</td>\n",
       "      <td>No</td>\n",
       "      <td>Yes</td>\n",
       "      <td>No</td>\n",
       "      <td>Yes</td>\n",
       "      <td>Yes</td>\n",
       "      <td>Yes</td>\n",
       "      <td>No</td>\n",
       "      <td>No</td>\n",
       "      <td>No</td>\n",
       "      <td>+2</td>\n",
       "      <td>55</td>\n",
       "      <td>Every three months</td>\n",
       "      <td>Male</td>\n",
       "    </tr>\n",
       "    <tr>\n",
       "      <th>6</th>\n",
       "      <td>Yes</td>\n",
       "      <td>Yes</td>\n",
       "      <td>Yes</td>\n",
       "      <td>Yes</td>\n",
       "      <td>No</td>\n",
       "      <td>Yes</td>\n",
       "      <td>No</td>\n",
       "      <td>Yes</td>\n",
       "      <td>Yes</td>\n",
       "      <td>Yes</td>\n",
       "      <td>No</td>\n",
       "      <td>+2</td>\n",
       "      <td>56</td>\n",
       "      <td>Every three months</td>\n",
       "      <td>Female</td>\n",
       "    </tr>\n",
       "    <tr>\n",
       "      <th>8</th>\n",
       "      <td>No</td>\n",
       "      <td>No</td>\n",
       "      <td>No</td>\n",
       "      <td>Yes</td>\n",
       "      <td>Yes</td>\n",
       "      <td>No</td>\n",
       "      <td>No</td>\n",
       "      <td>No</td>\n",
       "      <td>Yes</td>\n",
       "      <td>No</td>\n",
       "      <td>Yes</td>\n",
       "      <td>I hate it!-5</td>\n",
       "      <td>58</td>\n",
       "      <td>Once a year</td>\n",
       "      <td>Male</td>\n",
       "    </tr>\n",
       "    <tr>\n",
       "      <th>9</th>\n",
       "      <td>Yes</td>\n",
       "      <td>Yes</td>\n",
       "      <td>No</td>\n",
       "      <td>Yes</td>\n",
       "      <td>Yes</td>\n",
       "      <td>Yes</td>\n",
       "      <td>No</td>\n",
       "      <td>Yes</td>\n",
       "      <td>Yes</td>\n",
       "      <td>No</td>\n",
       "      <td>No</td>\n",
       "      <td>+1</td>\n",
       "      <td>32</td>\n",
       "      <td>Every three months</td>\n",
       "      <td>Female</td>\n",
       "    </tr>\n",
       "    <tr>\n",
       "      <th>10</th>\n",
       "      <td>No</td>\n",
       "      <td>Yes</td>\n",
       "      <td>No</td>\n",
       "      <td>Yes</td>\n",
       "      <td>No</td>\n",
       "      <td>Yes</td>\n",
       "      <td>Yes</td>\n",
       "      <td>No</td>\n",
       "      <td>No</td>\n",
       "      <td>No</td>\n",
       "      <td>Yes</td>\n",
       "      <td>-2</td>\n",
       "      <td>53</td>\n",
       "      <td>Every three months</td>\n",
       "      <td>Female</td>\n",
       "    </tr>\n",
       "    <tr>\n",
       "      <th>12</th>\n",
       "      <td>No</td>\n",
       "      <td>Yes</td>\n",
       "      <td>No</td>\n",
       "      <td>Yes</td>\n",
       "      <td>No</td>\n",
       "      <td>Yes</td>\n",
       "      <td>Yes</td>\n",
       "      <td>No</td>\n",
       "      <td>No</td>\n",
       "      <td>No</td>\n",
       "      <td>No</td>\n",
       "      <td>0</td>\n",
       "      <td>65</td>\n",
       "      <td>Every three months</td>\n",
       "      <td>Male</td>\n",
       "    </tr>\n",
       "    <tr>\n",
       "      <th>13</th>\n",
       "      <td>Yes</td>\n",
       "      <td>Yes</td>\n",
       "      <td>No</td>\n",
       "      <td>Yes</td>\n",
       "      <td>No</td>\n",
       "      <td>Yes</td>\n",
       "      <td>No</td>\n",
       "      <td>Yes</td>\n",
       "      <td>Yes</td>\n",
       "      <td>Yes</td>\n",
       "      <td>No</td>\n",
       "      <td>I love it!+5</td>\n",
       "      <td>54</td>\n",
       "      <td>Once a month</td>\n",
       "      <td>Male</td>\n",
       "    </tr>\n",
       "    <tr>\n",
       "      <th>14</th>\n",
       "      <td>No</td>\n",
       "      <td>Yes</td>\n",
       "      <td>No</td>\n",
       "      <td>Yes</td>\n",
       "      <td>No</td>\n",
       "      <td>Yes</td>\n",
       "      <td>No</td>\n",
       "      <td>No</td>\n",
       "      <td>Yes</td>\n",
       "      <td>No</td>\n",
       "      <td>No</td>\n",
       "      <td>-3</td>\n",
       "      <td>67</td>\n",
       "      <td>Once a month</td>\n",
       "      <td>Male</td>\n",
       "    </tr>\n",
       "    <tr>\n",
       "      <th>15</th>\n",
       "      <td>Yes</td>\n",
       "      <td>Yes</td>\n",
       "      <td>No</td>\n",
       "      <td>Yes</td>\n",
       "      <td>No</td>\n",
       "      <td>Yes</td>\n",
       "      <td>Yes</td>\n",
       "      <td>Yes</td>\n",
       "      <td>No</td>\n",
       "      <td>No</td>\n",
       "      <td>No</td>\n",
       "      <td>+3</td>\n",
       "      <td>51</td>\n",
       "      <td>Once a month</td>\n",
       "      <td>Male</td>\n",
       "    </tr>\n",
       "    <tr>\n",
       "      <th>16</th>\n",
       "      <td>Yes</td>\n",
       "      <td>Yes</td>\n",
       "      <td>No</td>\n",
       "      <td>Yes</td>\n",
       "      <td>Yes</td>\n",
       "      <td>Yes</td>\n",
       "      <td>Yes</td>\n",
       "      <td>Yes</td>\n",
       "      <td>No</td>\n",
       "      <td>No</td>\n",
       "      <td>No</td>\n",
       "      <td>0</td>\n",
       "      <td>34</td>\n",
       "      <td>Once a month</td>\n",
       "      <td>Female</td>\n",
       "    </tr>\n",
       "    <tr>\n",
       "      <th>17</th>\n",
       "      <td>Yes</td>\n",
       "      <td>Yes</td>\n",
       "      <td>No</td>\n",
       "      <td>No</td>\n",
       "      <td>Yes</td>\n",
       "      <td>Yes</td>\n",
       "      <td>No</td>\n",
       "      <td>Yes</td>\n",
       "      <td>No</td>\n",
       "      <td>No</td>\n",
       "      <td>No</td>\n",
       "      <td>+2</td>\n",
       "      <td>31</td>\n",
       "      <td>Once a month</td>\n",
       "      <td>Male</td>\n",
       "    </tr>\n",
       "    <tr>\n",
       "      <th>18</th>\n",
       "      <td>No</td>\n",
       "      <td>No</td>\n",
       "      <td>No</td>\n",
       "      <td>Yes</td>\n",
       "      <td>Yes</td>\n",
       "      <td>Yes</td>\n",
       "      <td>Yes</td>\n",
       "      <td>No</td>\n",
       "      <td>Yes</td>\n",
       "      <td>No</td>\n",
       "      <td>Yes</td>\n",
       "      <td>-4</td>\n",
       "      <td>47</td>\n",
       "      <td>Every three months</td>\n",
       "      <td>Female</td>\n",
       "    </tr>\n",
       "    <tr>\n",
       "      <th>19</th>\n",
       "      <td>Yes</td>\n",
       "      <td>Yes</td>\n",
       "      <td>No</td>\n",
       "      <td>Yes</td>\n",
       "      <td>Yes</td>\n",
       "      <td>Yes</td>\n",
       "      <td>No</td>\n",
       "      <td>Yes</td>\n",
       "      <td>Yes</td>\n",
       "      <td>No</td>\n",
       "      <td>Yes</td>\n",
       "      <td>I love it!+5</td>\n",
       "      <td>37</td>\n",
       "      <td>More than once a week</td>\n",
       "      <td>Male</td>\n",
       "    </tr>\n",
       "    <tr>\n",
       "      <th>20</th>\n",
       "      <td>Yes</td>\n",
       "      <td>Yes</td>\n",
       "      <td>No</td>\n",
       "      <td>Yes</td>\n",
       "      <td>Yes</td>\n",
       "      <td>Yes</td>\n",
       "      <td>No</td>\n",
       "      <td>Yes</td>\n",
       "      <td>Yes</td>\n",
       "      <td>No</td>\n",
       "      <td>Yes</td>\n",
       "      <td>+2</td>\n",
       "      <td>41</td>\n",
       "      <td>Once a year</td>\n",
       "      <td>Female</td>\n",
       "    </tr>\n",
       "    <tr>\n",
       "      <th>21</th>\n",
       "      <td>Yes</td>\n",
       "      <td>Yes</td>\n",
       "      <td>No</td>\n",
       "      <td>Yes</td>\n",
       "      <td>No</td>\n",
       "      <td>Yes</td>\n",
       "      <td>Yes</td>\n",
       "      <td>Yes</td>\n",
       "      <td>Yes</td>\n",
       "      <td>No</td>\n",
       "      <td>No</td>\n",
       "      <td>+2</td>\n",
       "      <td>36</td>\n",
       "      <td>Once a month</td>\n",
       "      <td>Male</td>\n",
       "    </tr>\n",
       "    <tr>\n",
       "      <th>23</th>\n",
       "      <td>Yes</td>\n",
       "      <td>Yes</td>\n",
       "      <td>Yes</td>\n",
       "      <td>Yes</td>\n",
       "      <td>No</td>\n",
       "      <td>Yes</td>\n",
       "      <td>No</td>\n",
       "      <td>Yes</td>\n",
       "      <td>Yes</td>\n",
       "      <td>No</td>\n",
       "      <td>No</td>\n",
       "      <td>I love it!+5</td>\n",
       "      <td>50</td>\n",
       "      <td>More than once a week</td>\n",
       "      <td>Female</td>\n",
       "    </tr>\n",
       "    <tr>\n",
       "      <th>24</th>\n",
       "      <td>Yes</td>\n",
       "      <td>Yes</td>\n",
       "      <td>No</td>\n",
       "      <td>Yes</td>\n",
       "      <td>No</td>\n",
       "      <td>Yes</td>\n",
       "      <td>Yes</td>\n",
       "      <td>Yes</td>\n",
       "      <td>No</td>\n",
       "      <td>Yes</td>\n",
       "      <td>No</td>\n",
       "      <td>+2</td>\n",
       "      <td>39</td>\n",
       "      <td>Every three months</td>\n",
       "      <td>Female</td>\n",
       "    </tr>\n",
       "    <tr>\n",
       "      <th>25</th>\n",
       "      <td>Yes</td>\n",
       "      <td>Yes</td>\n",
       "      <td>No</td>\n",
       "      <td>Yes</td>\n",
       "      <td>Yes</td>\n",
       "      <td>Yes</td>\n",
       "      <td>Yes</td>\n",
       "      <td>No</td>\n",
       "      <td>Yes</td>\n",
       "      <td>No</td>\n",
       "      <td>No</td>\n",
       "      <td>0</td>\n",
       "      <td>35</td>\n",
       "      <td>Every three months</td>\n",
       "      <td>Female</td>\n",
       "    </tr>\n",
       "    <tr>\n",
       "      <th>27</th>\n",
       "      <td>No</td>\n",
       "      <td>Yes</td>\n",
       "      <td>No</td>\n",
       "      <td>Yes</td>\n",
       "      <td>Yes</td>\n",
       "      <td>Yes</td>\n",
       "      <td>No</td>\n",
       "      <td>Yes</td>\n",
       "      <td>No</td>\n",
       "      <td>Yes</td>\n",
       "      <td>No</td>\n",
       "      <td>0</td>\n",
       "      <td>34</td>\n",
       "      <td>Once a month</td>\n",
       "      <td>Female</td>\n",
       "    </tr>\n",
       "    <tr>\n",
       "      <th>28</th>\n",
       "      <td>No</td>\n",
       "      <td>Yes</td>\n",
       "      <td>No</td>\n",
       "      <td>No</td>\n",
       "      <td>No</td>\n",
       "      <td>Yes</td>\n",
       "      <td>No</td>\n",
       "      <td>No</td>\n",
       "      <td>No</td>\n",
       "      <td>No</td>\n",
       "      <td>No</td>\n",
       "      <td>0</td>\n",
       "      <td>55</td>\n",
       "      <td>Every three months</td>\n",
       "      <td>Male</td>\n",
       "    </tr>\n",
       "    <tr>\n",
       "      <th>30</th>\n",
       "      <td>Yes</td>\n",
       "      <td>Yes</td>\n",
       "      <td>No</td>\n",
       "      <td>Yes</td>\n",
       "      <td>Yes</td>\n",
       "      <td>Yes</td>\n",
       "      <td>Yes</td>\n",
       "      <td>Yes</td>\n",
       "      <td>No</td>\n",
       "      <td>No</td>\n",
       "      <td>No</td>\n",
       "      <td>+3</td>\n",
       "      <td>44</td>\n",
       "      <td>Once a month</td>\n",
       "      <td>Male</td>\n",
       "    </tr>\n",
       "    <tr>\n",
       "      <th>31</th>\n",
       "      <td>No</td>\n",
       "      <td>Yes</td>\n",
       "      <td>No</td>\n",
       "      <td>No</td>\n",
       "      <td>No</td>\n",
       "      <td>Yes</td>\n",
       "      <td>Yes</td>\n",
       "      <td>Yes</td>\n",
       "      <td>No</td>\n",
       "      <td>Yes</td>\n",
       "      <td>No</td>\n",
       "      <td>+3</td>\n",
       "      <td>40</td>\n",
       "      <td>Once a month</td>\n",
       "      <td>Female</td>\n",
       "    </tr>\n",
       "    <tr>\n",
       "      <th>32</th>\n",
       "      <td>Yes</td>\n",
       "      <td>Yes</td>\n",
       "      <td>No</td>\n",
       "      <td>Yes</td>\n",
       "      <td>Yes</td>\n",
       "      <td>Yes</td>\n",
       "      <td>Yes</td>\n",
       "      <td>Yes</td>\n",
       "      <td>No</td>\n",
       "      <td>No</td>\n",
       "      <td>No</td>\n",
       "      <td>+1</td>\n",
       "      <td>55</td>\n",
       "      <td>Once a month</td>\n",
       "      <td>Male</td>\n",
       "    </tr>\n",
       "    <tr>\n",
       "      <th>33</th>\n",
       "      <td>No</td>\n",
       "      <td>Yes</td>\n",
       "      <td>No</td>\n",
       "      <td>Yes</td>\n",
       "      <td>Yes</td>\n",
       "      <td>Yes</td>\n",
       "      <td>Yes</td>\n",
       "      <td>No</td>\n",
       "      <td>No</td>\n",
       "      <td>No</td>\n",
       "      <td>Yes</td>\n",
       "      <td>-4</td>\n",
       "      <td>37</td>\n",
       "      <td>Never</td>\n",
       "      <td>Male</td>\n",
       "    </tr>\n",
       "    <tr>\n",
       "      <th>34</th>\n",
       "      <td>Yes</td>\n",
       "      <td>Yes</td>\n",
       "      <td>No</td>\n",
       "      <td>Yes</td>\n",
       "      <td>No</td>\n",
       "      <td>Yes</td>\n",
       "      <td>Yes</td>\n",
       "      <td>Yes</td>\n",
       "      <td>No</td>\n",
       "      <td>Yes</td>\n",
       "      <td>No</td>\n",
       "      <td>+4</td>\n",
       "      <td>48</td>\n",
       "      <td>Once a week</td>\n",
       "      <td>Male</td>\n",
       "    </tr>\n",
       "    <tr>\n",
       "      <th>...</th>\n",
       "      <td>...</td>\n",
       "      <td>...</td>\n",
       "      <td>...</td>\n",
       "      <td>...</td>\n",
       "      <td>...</td>\n",
       "      <td>...</td>\n",
       "      <td>...</td>\n",
       "      <td>...</td>\n",
       "      <td>...</td>\n",
       "      <td>...</td>\n",
       "      <td>...</td>\n",
       "      <td>...</td>\n",
       "      <td>...</td>\n",
       "      <td>...</td>\n",
       "      <td>...</td>\n",
       "    </tr>\n",
       "    <tr>\n",
       "      <th>1414</th>\n",
       "      <td>No</td>\n",
       "      <td>Yes</td>\n",
       "      <td>No</td>\n",
       "      <td>Yes</td>\n",
       "      <td>No</td>\n",
       "      <td>Yes</td>\n",
       "      <td>Yes</td>\n",
       "      <td>No</td>\n",
       "      <td>No</td>\n",
       "      <td>No</td>\n",
       "      <td>Yes</td>\n",
       "      <td>-4</td>\n",
       "      <td>55</td>\n",
       "      <td>Once a year</td>\n",
       "      <td>Male</td>\n",
       "    </tr>\n",
       "    <tr>\n",
       "      <th>1415</th>\n",
       "      <td>No</td>\n",
       "      <td>Yes</td>\n",
       "      <td>No</td>\n",
       "      <td>Yes</td>\n",
       "      <td>Yes</td>\n",
       "      <td>Yes</td>\n",
       "      <td>No</td>\n",
       "      <td>Yes</td>\n",
       "      <td>Yes</td>\n",
       "      <td>No</td>\n",
       "      <td>Yes</td>\n",
       "      <td>-3</td>\n",
       "      <td>57</td>\n",
       "      <td>Every three months</td>\n",
       "      <td>Male</td>\n",
       "    </tr>\n",
       "    <tr>\n",
       "      <th>1417</th>\n",
       "      <td>Yes</td>\n",
       "      <td>Yes</td>\n",
       "      <td>No</td>\n",
       "      <td>Yes</td>\n",
       "      <td>No</td>\n",
       "      <td>Yes</td>\n",
       "      <td>No</td>\n",
       "      <td>Yes</td>\n",
       "      <td>Yes</td>\n",
       "      <td>Yes</td>\n",
       "      <td>No</td>\n",
       "      <td>+4</td>\n",
       "      <td>46</td>\n",
       "      <td>Once a month</td>\n",
       "      <td>Female</td>\n",
       "    </tr>\n",
       "    <tr>\n",
       "      <th>1418</th>\n",
       "      <td>No</td>\n",
       "      <td>No</td>\n",
       "      <td>No</td>\n",
       "      <td>Yes</td>\n",
       "      <td>Yes</td>\n",
       "      <td>Yes</td>\n",
       "      <td>Yes</td>\n",
       "      <td>No</td>\n",
       "      <td>No</td>\n",
       "      <td>No</td>\n",
       "      <td>Yes</td>\n",
       "      <td>I hate it!-5</td>\n",
       "      <td>62</td>\n",
       "      <td>Never</td>\n",
       "      <td>Female</td>\n",
       "    </tr>\n",
       "    <tr>\n",
       "      <th>1419</th>\n",
       "      <td>No</td>\n",
       "      <td>Yes</td>\n",
       "      <td>No</td>\n",
       "      <td>Yes</td>\n",
       "      <td>Yes</td>\n",
       "      <td>Yes</td>\n",
       "      <td>Yes</td>\n",
       "      <td>No</td>\n",
       "      <td>No</td>\n",
       "      <td>No</td>\n",
       "      <td>Yes</td>\n",
       "      <td>0</td>\n",
       "      <td>59</td>\n",
       "      <td>Every three months</td>\n",
       "      <td>Female</td>\n",
       "    </tr>\n",
       "    <tr>\n",
       "      <th>1420</th>\n",
       "      <td>Yes</td>\n",
       "      <td>Yes</td>\n",
       "      <td>No</td>\n",
       "      <td>Yes</td>\n",
       "      <td>No</td>\n",
       "      <td>Yes</td>\n",
       "      <td>Yes</td>\n",
       "      <td>Yes</td>\n",
       "      <td>No</td>\n",
       "      <td>No</td>\n",
       "      <td>No</td>\n",
       "      <td>+3</td>\n",
       "      <td>53</td>\n",
       "      <td>Once a month</td>\n",
       "      <td>Female</td>\n",
       "    </tr>\n",
       "    <tr>\n",
       "      <th>1421</th>\n",
       "      <td>Yes</td>\n",
       "      <td>Yes</td>\n",
       "      <td>No</td>\n",
       "      <td>Yes</td>\n",
       "      <td>Yes</td>\n",
       "      <td>Yes</td>\n",
       "      <td>Yes</td>\n",
       "      <td>Yes</td>\n",
       "      <td>No</td>\n",
       "      <td>No</td>\n",
       "      <td>No</td>\n",
       "      <td>+3</td>\n",
       "      <td>57</td>\n",
       "      <td>Every three months</td>\n",
       "      <td>Female</td>\n",
       "    </tr>\n",
       "    <tr>\n",
       "      <th>1422</th>\n",
       "      <td>Yes</td>\n",
       "      <td>Yes</td>\n",
       "      <td>No</td>\n",
       "      <td>Yes</td>\n",
       "      <td>No</td>\n",
       "      <td>Yes</td>\n",
       "      <td>Yes</td>\n",
       "      <td>Yes</td>\n",
       "      <td>No</td>\n",
       "      <td>No</td>\n",
       "      <td>No</td>\n",
       "      <td>+1</td>\n",
       "      <td>59</td>\n",
       "      <td>Every three months</td>\n",
       "      <td>Female</td>\n",
       "    </tr>\n",
       "    <tr>\n",
       "      <th>1423</th>\n",
       "      <td>Yes</td>\n",
       "      <td>Yes</td>\n",
       "      <td>No</td>\n",
       "      <td>Yes</td>\n",
       "      <td>No</td>\n",
       "      <td>Yes</td>\n",
       "      <td>Yes</td>\n",
       "      <td>Yes</td>\n",
       "      <td>No</td>\n",
       "      <td>No</td>\n",
       "      <td>No</td>\n",
       "      <td>+3</td>\n",
       "      <td>41</td>\n",
       "      <td>Once a month</td>\n",
       "      <td>Male</td>\n",
       "    </tr>\n",
       "    <tr>\n",
       "      <th>1424</th>\n",
       "      <td>No</td>\n",
       "      <td>Yes</td>\n",
       "      <td>No</td>\n",
       "      <td>Yes</td>\n",
       "      <td>No</td>\n",
       "      <td>Yes</td>\n",
       "      <td>Yes</td>\n",
       "      <td>No</td>\n",
       "      <td>No</td>\n",
       "      <td>No</td>\n",
       "      <td>No</td>\n",
       "      <td>+1</td>\n",
       "      <td>36</td>\n",
       "      <td>Once a month</td>\n",
       "      <td>Male</td>\n",
       "    </tr>\n",
       "    <tr>\n",
       "      <th>1425</th>\n",
       "      <td>Yes</td>\n",
       "      <td>Yes</td>\n",
       "      <td>No</td>\n",
       "      <td>Yes</td>\n",
       "      <td>No</td>\n",
       "      <td>Yes</td>\n",
       "      <td>Yes</td>\n",
       "      <td>Yes</td>\n",
       "      <td>No</td>\n",
       "      <td>No</td>\n",
       "      <td>No</td>\n",
       "      <td>+4</td>\n",
       "      <td>57</td>\n",
       "      <td>Once a month</td>\n",
       "      <td>Male</td>\n",
       "    </tr>\n",
       "    <tr>\n",
       "      <th>1426</th>\n",
       "      <td>Yes</td>\n",
       "      <td>No</td>\n",
       "      <td>No</td>\n",
       "      <td>No</td>\n",
       "      <td>No</td>\n",
       "      <td>Yes</td>\n",
       "      <td>Yes</td>\n",
       "      <td>Yes</td>\n",
       "      <td>No</td>\n",
       "      <td>No</td>\n",
       "      <td>No</td>\n",
       "      <td>I love it!+5</td>\n",
       "      <td>33</td>\n",
       "      <td>Once a month</td>\n",
       "      <td>Female</td>\n",
       "    </tr>\n",
       "    <tr>\n",
       "      <th>1427</th>\n",
       "      <td>No</td>\n",
       "      <td>Yes</td>\n",
       "      <td>No</td>\n",
       "      <td>Yes</td>\n",
       "      <td>No</td>\n",
       "      <td>Yes</td>\n",
       "      <td>No</td>\n",
       "      <td>No</td>\n",
       "      <td>Yes</td>\n",
       "      <td>Yes</td>\n",
       "      <td>No</td>\n",
       "      <td>+3</td>\n",
       "      <td>38</td>\n",
       "      <td>Once a month</td>\n",
       "      <td>Female</td>\n",
       "    </tr>\n",
       "    <tr>\n",
       "      <th>1428</th>\n",
       "      <td>No</td>\n",
       "      <td>Yes</td>\n",
       "      <td>No</td>\n",
       "      <td>Yes</td>\n",
       "      <td>Yes</td>\n",
       "      <td>Yes</td>\n",
       "      <td>Yes</td>\n",
       "      <td>Yes</td>\n",
       "      <td>No</td>\n",
       "      <td>No</td>\n",
       "      <td>No</td>\n",
       "      <td>+1</td>\n",
       "      <td>37</td>\n",
       "      <td>Every three months</td>\n",
       "      <td>Male</td>\n",
       "    </tr>\n",
       "    <tr>\n",
       "      <th>1430</th>\n",
       "      <td>No</td>\n",
       "      <td>Yes</td>\n",
       "      <td>No</td>\n",
       "      <td>Yes</td>\n",
       "      <td>Yes</td>\n",
       "      <td>Yes</td>\n",
       "      <td>Yes</td>\n",
       "      <td>No</td>\n",
       "      <td>Yes</td>\n",
       "      <td>No</td>\n",
       "      <td>Yes</td>\n",
       "      <td>-3</td>\n",
       "      <td>42</td>\n",
       "      <td>Once a week</td>\n",
       "      <td>Male</td>\n",
       "    </tr>\n",
       "    <tr>\n",
       "      <th>1431</th>\n",
       "      <td>Yes</td>\n",
       "      <td>Yes</td>\n",
       "      <td>No</td>\n",
       "      <td>Yes</td>\n",
       "      <td>No</td>\n",
       "      <td>Yes</td>\n",
       "      <td>No</td>\n",
       "      <td>Yes</td>\n",
       "      <td>Yes</td>\n",
       "      <td>No</td>\n",
       "      <td>No</td>\n",
       "      <td>+3</td>\n",
       "      <td>55</td>\n",
       "      <td>Every three months</td>\n",
       "      <td>Female</td>\n",
       "    </tr>\n",
       "    <tr>\n",
       "      <th>1433</th>\n",
       "      <td>No</td>\n",
       "      <td>No</td>\n",
       "      <td>No</td>\n",
       "      <td>No</td>\n",
       "      <td>No</td>\n",
       "      <td>No</td>\n",
       "      <td>No</td>\n",
       "      <td>No</td>\n",
       "      <td>Yes</td>\n",
       "      <td>No</td>\n",
       "      <td>Yes</td>\n",
       "      <td>I hate it!-5</td>\n",
       "      <td>44</td>\n",
       "      <td>Once a year</td>\n",
       "      <td>Male</td>\n",
       "    </tr>\n",
       "    <tr>\n",
       "      <th>1434</th>\n",
       "      <td>Yes</td>\n",
       "      <td>Yes</td>\n",
       "      <td>No</td>\n",
       "      <td>Yes</td>\n",
       "      <td>Yes</td>\n",
       "      <td>Yes</td>\n",
       "      <td>Yes</td>\n",
       "      <td>Yes</td>\n",
       "      <td>No</td>\n",
       "      <td>No</td>\n",
       "      <td>Yes</td>\n",
       "      <td>+4</td>\n",
       "      <td>41</td>\n",
       "      <td>Once a week</td>\n",
       "      <td>Male</td>\n",
       "    </tr>\n",
       "    <tr>\n",
       "      <th>1437</th>\n",
       "      <td>Yes</td>\n",
       "      <td>Yes</td>\n",
       "      <td>No</td>\n",
       "      <td>Yes</td>\n",
       "      <td>No</td>\n",
       "      <td>Yes</td>\n",
       "      <td>Yes</td>\n",
       "      <td>Yes</td>\n",
       "      <td>No</td>\n",
       "      <td>Yes</td>\n",
       "      <td>No</td>\n",
       "      <td>+4</td>\n",
       "      <td>61</td>\n",
       "      <td>Every three months</td>\n",
       "      <td>Female</td>\n",
       "    </tr>\n",
       "    <tr>\n",
       "      <th>1439</th>\n",
       "      <td>Yes</td>\n",
       "      <td>Yes</td>\n",
       "      <td>Yes</td>\n",
       "      <td>Yes</td>\n",
       "      <td>Yes</td>\n",
       "      <td>No</td>\n",
       "      <td>Yes</td>\n",
       "      <td>Yes</td>\n",
       "      <td>No</td>\n",
       "      <td>Yes</td>\n",
       "      <td>Yes</td>\n",
       "      <td>+1</td>\n",
       "      <td>61</td>\n",
       "      <td>Once a month</td>\n",
       "      <td>Male</td>\n",
       "    </tr>\n",
       "    <tr>\n",
       "      <th>1440</th>\n",
       "      <td>Yes</td>\n",
       "      <td>Yes</td>\n",
       "      <td>No</td>\n",
       "      <td>No</td>\n",
       "      <td>No</td>\n",
       "      <td>Yes</td>\n",
       "      <td>Yes</td>\n",
       "      <td>Yes</td>\n",
       "      <td>No</td>\n",
       "      <td>No</td>\n",
       "      <td>No</td>\n",
       "      <td>+3</td>\n",
       "      <td>55</td>\n",
       "      <td>Once a month</td>\n",
       "      <td>Female</td>\n",
       "    </tr>\n",
       "    <tr>\n",
       "      <th>1442</th>\n",
       "      <td>Yes</td>\n",
       "      <td>Yes</td>\n",
       "      <td>No</td>\n",
       "      <td>No</td>\n",
       "      <td>Yes</td>\n",
       "      <td>Yes</td>\n",
       "      <td>Yes</td>\n",
       "      <td>Yes</td>\n",
       "      <td>No</td>\n",
       "      <td>No</td>\n",
       "      <td>No</td>\n",
       "      <td>+4</td>\n",
       "      <td>31</td>\n",
       "      <td>Once a month</td>\n",
       "      <td>Male</td>\n",
       "    </tr>\n",
       "    <tr>\n",
       "      <th>1443</th>\n",
       "      <td>Yes</td>\n",
       "      <td>Yes</td>\n",
       "      <td>No</td>\n",
       "      <td>Yes</td>\n",
       "      <td>No</td>\n",
       "      <td>Yes</td>\n",
       "      <td>Yes</td>\n",
       "      <td>Yes</td>\n",
       "      <td>No</td>\n",
       "      <td>No</td>\n",
       "      <td>No</td>\n",
       "      <td>+2</td>\n",
       "      <td>50</td>\n",
       "      <td>Once a year</td>\n",
       "      <td>Female</td>\n",
       "    </tr>\n",
       "    <tr>\n",
       "      <th>1444</th>\n",
       "      <td>No</td>\n",
       "      <td>Yes</td>\n",
       "      <td>No</td>\n",
       "      <td>Yes</td>\n",
       "      <td>Yes</td>\n",
       "      <td>Yes</td>\n",
       "      <td>Yes</td>\n",
       "      <td>No</td>\n",
       "      <td>No</td>\n",
       "      <td>Yes</td>\n",
       "      <td>No</td>\n",
       "      <td>-3</td>\n",
       "      <td>55</td>\n",
       "      <td>Never</td>\n",
       "      <td>Male</td>\n",
       "    </tr>\n",
       "    <tr>\n",
       "      <th>1446</th>\n",
       "      <td>Yes</td>\n",
       "      <td>Yes</td>\n",
       "      <td>No</td>\n",
       "      <td>Yes</td>\n",
       "      <td>Yes</td>\n",
       "      <td>Yes</td>\n",
       "      <td>Yes</td>\n",
       "      <td>Yes</td>\n",
       "      <td>No</td>\n",
       "      <td>Yes</td>\n",
       "      <td>No</td>\n",
       "      <td>+1</td>\n",
       "      <td>52</td>\n",
       "      <td>Every three months</td>\n",
       "      <td>Female</td>\n",
       "    </tr>\n",
       "    <tr>\n",
       "      <th>1447</th>\n",
       "      <td>No</td>\n",
       "      <td>Yes</td>\n",
       "      <td>No</td>\n",
       "      <td>Yes</td>\n",
       "      <td>Yes</td>\n",
       "      <td>No</td>\n",
       "      <td>No</td>\n",
       "      <td>Yes</td>\n",
       "      <td>Yes</td>\n",
       "      <td>No</td>\n",
       "      <td>No</td>\n",
       "      <td>0</td>\n",
       "      <td>43</td>\n",
       "      <td>Once a month</td>\n",
       "      <td>Male</td>\n",
       "    </tr>\n",
       "    <tr>\n",
       "      <th>1448</th>\n",
       "      <td>No</td>\n",
       "      <td>Yes</td>\n",
       "      <td>No</td>\n",
       "      <td>Yes</td>\n",
       "      <td>Yes</td>\n",
       "      <td>No</td>\n",
       "      <td>No</td>\n",
       "      <td>No</td>\n",
       "      <td>Yes</td>\n",
       "      <td>No</td>\n",
       "      <td>Yes</td>\n",
       "      <td>I hate it!-5</td>\n",
       "      <td>47</td>\n",
       "      <td>Once a year</td>\n",
       "      <td>Male</td>\n",
       "    </tr>\n",
       "    <tr>\n",
       "      <th>1449</th>\n",
       "      <td>Yes</td>\n",
       "      <td>Yes</td>\n",
       "      <td>No</td>\n",
       "      <td>Yes</td>\n",
       "      <td>No</td>\n",
       "      <td>No</td>\n",
       "      <td>Yes</td>\n",
       "      <td>Yes</td>\n",
       "      <td>No</td>\n",
       "      <td>Yes</td>\n",
       "      <td>No</td>\n",
       "      <td>+2</td>\n",
       "      <td>36</td>\n",
       "      <td>Once a week</td>\n",
       "      <td>Female</td>\n",
       "    </tr>\n",
       "    <tr>\n",
       "      <th>1450</th>\n",
       "      <td>Yes</td>\n",
       "      <td>Yes</td>\n",
       "      <td>No</td>\n",
       "      <td>Yes</td>\n",
       "      <td>No</td>\n",
       "      <td>Yes</td>\n",
       "      <td>No</td>\n",
       "      <td>Yes</td>\n",
       "      <td>Yes</td>\n",
       "      <td>No</td>\n",
       "      <td>No</td>\n",
       "      <td>+3</td>\n",
       "      <td>52</td>\n",
       "      <td>Once a month</td>\n",
       "      <td>Female</td>\n",
       "    </tr>\n",
       "    <tr>\n",
       "      <th>1451</th>\n",
       "      <td>Yes</td>\n",
       "      <td>Yes</td>\n",
       "      <td>No</td>\n",
       "      <td>No</td>\n",
       "      <td>No</td>\n",
       "      <td>Yes</td>\n",
       "      <td>Yes</td>\n",
       "      <td>Yes</td>\n",
       "      <td>No</td>\n",
       "      <td>Yes</td>\n",
       "      <td>No</td>\n",
       "      <td>+4</td>\n",
       "      <td>41</td>\n",
       "      <td>Every three months</td>\n",
       "      <td>Male</td>\n",
       "    </tr>\n",
       "  </tbody>\n",
       "</table>\n",
       "<p>1151 rows × 15 columns</p>\n",
       "</div>"
      ],
      "text/plain": [
       "     yummy convenient spicy fattening greasy fast cheap tasty expensive  \\\n",
       "0       No        Yes    No       Yes     No  Yes   Yes    No       Yes   \n",
       "1      Yes        Yes    No       Yes    Yes  Yes   Yes   Yes       Yes   \n",
       "2       No        Yes   Yes       Yes    Yes  Yes    No   Yes       Yes   \n",
       "3      Yes        Yes    No       Yes    Yes  Yes   Yes   Yes        No   \n",
       "4       No        Yes    No       Yes    Yes  Yes   Yes    No        No   \n",
       "5      Yes        Yes    No       Yes     No  Yes   Yes   Yes        No   \n",
       "6      Yes        Yes   Yes       Yes     No  Yes    No   Yes       Yes   \n",
       "8       No         No    No       Yes    Yes   No    No    No       Yes   \n",
       "9      Yes        Yes    No       Yes    Yes  Yes    No   Yes       Yes   \n",
       "10      No        Yes    No       Yes     No  Yes   Yes    No        No   \n",
       "12      No        Yes    No       Yes     No  Yes   Yes    No        No   \n",
       "13     Yes        Yes    No       Yes     No  Yes    No   Yes       Yes   \n",
       "14      No        Yes    No       Yes     No  Yes    No    No       Yes   \n",
       "15     Yes        Yes    No       Yes     No  Yes   Yes   Yes        No   \n",
       "16     Yes        Yes    No       Yes    Yes  Yes   Yes   Yes        No   \n",
       "17     Yes        Yes    No        No    Yes  Yes    No   Yes        No   \n",
       "18      No         No    No       Yes    Yes  Yes   Yes    No       Yes   \n",
       "19     Yes        Yes    No       Yes    Yes  Yes    No   Yes       Yes   \n",
       "20     Yes        Yes    No       Yes    Yes  Yes    No   Yes       Yes   \n",
       "21     Yes        Yes    No       Yes     No  Yes   Yes   Yes       Yes   \n",
       "23     Yes        Yes   Yes       Yes     No  Yes    No   Yes       Yes   \n",
       "24     Yes        Yes    No       Yes     No  Yes   Yes   Yes        No   \n",
       "25     Yes        Yes    No       Yes    Yes  Yes   Yes    No       Yes   \n",
       "27      No        Yes    No       Yes    Yes  Yes    No   Yes        No   \n",
       "28      No        Yes    No        No     No  Yes    No    No        No   \n",
       "30     Yes        Yes    No       Yes    Yes  Yes   Yes   Yes        No   \n",
       "31      No        Yes    No        No     No  Yes   Yes   Yes        No   \n",
       "32     Yes        Yes    No       Yes    Yes  Yes   Yes   Yes        No   \n",
       "33      No        Yes    No       Yes    Yes  Yes   Yes    No        No   \n",
       "34     Yes        Yes    No       Yes     No  Yes   Yes   Yes        No   \n",
       "...    ...        ...   ...       ...    ...  ...   ...   ...       ...   \n",
       "1414    No        Yes    No       Yes     No  Yes   Yes    No        No   \n",
       "1415    No        Yes    No       Yes    Yes  Yes    No   Yes       Yes   \n",
       "1417   Yes        Yes    No       Yes     No  Yes    No   Yes       Yes   \n",
       "1418    No         No    No       Yes    Yes  Yes   Yes    No        No   \n",
       "1419    No        Yes    No       Yes    Yes  Yes   Yes    No        No   \n",
       "1420   Yes        Yes    No       Yes     No  Yes   Yes   Yes        No   \n",
       "1421   Yes        Yes    No       Yes    Yes  Yes   Yes   Yes        No   \n",
       "1422   Yes        Yes    No       Yes     No  Yes   Yes   Yes        No   \n",
       "1423   Yes        Yes    No       Yes     No  Yes   Yes   Yes        No   \n",
       "1424    No        Yes    No       Yes     No  Yes   Yes    No        No   \n",
       "1425   Yes        Yes    No       Yes     No  Yes   Yes   Yes        No   \n",
       "1426   Yes         No    No        No     No  Yes   Yes   Yes        No   \n",
       "1427    No        Yes    No       Yes     No  Yes    No    No       Yes   \n",
       "1428    No        Yes    No       Yes    Yes  Yes   Yes   Yes        No   \n",
       "1430    No        Yes    No       Yes    Yes  Yes   Yes    No       Yes   \n",
       "1431   Yes        Yes    No       Yes     No  Yes    No   Yes       Yes   \n",
       "1433    No         No    No        No     No   No    No    No       Yes   \n",
       "1434   Yes        Yes    No       Yes    Yes  Yes   Yes   Yes        No   \n",
       "1437   Yes        Yes    No       Yes     No  Yes   Yes   Yes        No   \n",
       "1439   Yes        Yes   Yes       Yes    Yes   No   Yes   Yes        No   \n",
       "1440   Yes        Yes    No        No     No  Yes   Yes   Yes        No   \n",
       "1442   Yes        Yes    No        No    Yes  Yes   Yes   Yes        No   \n",
       "1443   Yes        Yes    No       Yes     No  Yes   Yes   Yes        No   \n",
       "1444    No        Yes    No       Yes    Yes  Yes   Yes    No        No   \n",
       "1446   Yes        Yes    No       Yes    Yes  Yes   Yes   Yes        No   \n",
       "1447    No        Yes    No       Yes    Yes   No    No   Yes       Yes   \n",
       "1448    No        Yes    No       Yes    Yes   No    No    No       Yes   \n",
       "1449   Yes        Yes    No       Yes     No   No   Yes   Yes        No   \n",
       "1450   Yes        Yes    No       Yes     No  Yes    No   Yes       Yes   \n",
       "1451   Yes        Yes    No        No     No  Yes   Yes   Yes        No   \n",
       "\n",
       "     healthy disgusting          Like  Age         VisitFrequency  Gender  \n",
       "0         No         No            -3   61     Every three months  Female  \n",
       "1         No         No            +2   51     Every three months  Female  \n",
       "2        Yes         No            +1   62     Every three months  Female  \n",
       "3         No        Yes            +4   69            Once a week  Female  \n",
       "4        Yes         No            +2   49           Once a month    Male  \n",
       "5         No         No            +2   55     Every three months    Male  \n",
       "6        Yes         No            +2   56     Every three months  Female  \n",
       "8         No        Yes  I hate it!-5   58            Once a year    Male  \n",
       "9         No         No            +1   32     Every three months  Female  \n",
       "10        No        Yes            -2   53     Every three months  Female  \n",
       "12        No         No             0   65     Every three months    Male  \n",
       "13       Yes         No  I love it!+5   54           Once a month    Male  \n",
       "14        No         No            -3   67           Once a month    Male  \n",
       "15        No         No            +3   51           Once a month    Male  \n",
       "16        No         No             0   34           Once a month  Female  \n",
       "17        No         No            +2   31           Once a month    Male  \n",
       "18        No        Yes            -4   47     Every three months  Female  \n",
       "19        No        Yes  I love it!+5   37  More than once a week    Male  \n",
       "20        No        Yes            +2   41            Once a year  Female  \n",
       "21        No         No            +2   36           Once a month    Male  \n",
       "23        No         No  I love it!+5   50  More than once a week  Female  \n",
       "24       Yes         No            +2   39     Every three months  Female  \n",
       "25        No         No             0   35     Every three months  Female  \n",
       "27       Yes         No             0   34           Once a month  Female  \n",
       "28        No         No             0   55     Every three months    Male  \n",
       "30        No         No            +3   44           Once a month    Male  \n",
       "31       Yes         No            +3   40           Once a month  Female  \n",
       "32        No         No            +1   55           Once a month    Male  \n",
       "33        No        Yes            -4   37                  Never    Male  \n",
       "34       Yes         No            +4   48            Once a week    Male  \n",
       "...      ...        ...           ...  ...                    ...     ...  \n",
       "1414      No        Yes            -4   55            Once a year    Male  \n",
       "1415      No        Yes            -3   57     Every three months    Male  \n",
       "1417     Yes         No            +4   46           Once a month  Female  \n",
       "1418      No        Yes  I hate it!-5   62                  Never  Female  \n",
       "1419      No        Yes             0   59     Every three months  Female  \n",
       "1420      No         No            +3   53           Once a month  Female  \n",
       "1421      No         No            +3   57     Every three months  Female  \n",
       "1422      No         No            +1   59     Every three months  Female  \n",
       "1423      No         No            +3   41           Once a month    Male  \n",
       "1424      No         No            +1   36           Once a month    Male  \n",
       "1425      No         No            +4   57           Once a month    Male  \n",
       "1426      No         No  I love it!+5   33           Once a month  Female  \n",
       "1427     Yes         No            +3   38           Once a month  Female  \n",
       "1428      No         No            +1   37     Every three months    Male  \n",
       "1430      No        Yes            -3   42            Once a week    Male  \n",
       "1431      No         No            +3   55     Every three months  Female  \n",
       "1433      No        Yes  I hate it!-5   44            Once a year    Male  \n",
       "1434      No        Yes            +4   41            Once a week    Male  \n",
       "1437     Yes         No            +4   61     Every three months  Female  \n",
       "1439     Yes        Yes            +1   61           Once a month    Male  \n",
       "1440      No         No            +3   55           Once a month  Female  \n",
       "1442      No         No            +4   31           Once a month    Male  \n",
       "1443      No         No            +2   50            Once a year  Female  \n",
       "1444     Yes         No            -3   55                  Never    Male  \n",
       "1446     Yes         No            +1   52     Every three months  Female  \n",
       "1447      No         No             0   43           Once a month    Male  \n",
       "1448      No        Yes  I hate it!-5   47            Once a year    Male  \n",
       "1449     Yes         No            +2   36            Once a week  Female  \n",
       "1450      No         No            +3   52           Once a month  Female  \n",
       "1451     Yes         No            +4   41     Every three months    Male  \n",
       "\n",
       "[1151 rows x 15 columns]"
      ]
     },
     "execution_count": 14,
     "metadata": {},
     "output_type": "execute_result"
    }
   ],
   "source": [
    "x=data['Age'] > 30\n",
    "data[x]"
   ]
  },
  {
   "cell_type": "code",
   "execution_count": 15,
   "metadata": {},
   "outputs": [
    {
     "data": {
      "text/plain": [
       "Text(0, 0.5, 'Age')"
      ]
     },
     "execution_count": 15,
     "metadata": {},
     "output_type": "execute_result"
    },
    {
     "data": {
      "image/png": "[encoded data removed]",
      "text/plain": [
       "<Figure size 1296x792 with 1 Axes>"
      ]
     },
     "metadata": {
      "needs_background": "light"
     },
     "output_type": "display_data"
    }
   ],
   "source": [
    "data.plot(kind='hist',bins=40,figsize=(18,11))\n",
    "plt.xlabel('healthy')\n",
    "plt.ylabel('Age')"
   ]
  },
  {
   "cell_type": "code",
   "execution_count": 16,
   "metadata": {},
   "outputs": [
    {
     "data": {
      "text/html": [
       "<div>\n",
       "<style scoped>\n",
       "    .dataframe tbody tr th:only-of-type {\n",
       "        vertical-align: middle;\n",
       "    }\n",
       "\n",
       "    .dataframe tbody tr th {\n",
       "        vertical-align: top;\n",
       "    }\n",
       "\n",
       "    .dataframe thead th {\n",
       "        text-align: right;\n",
       "    }\n",
       "</style>\n",
       "<table border=\"1\" class=\"dataframe\">\n",
       "  <thead>\n",
       "    <tr style=\"text-align: right;\">\n",
       "      <th></th>\n",
       "      <th>yummy</th>\n",
       "      <th>convenient</th>\n",
       "      <th>spicy</th>\n",
       "      <th>fattening</th>\n",
       "      <th>greasy</th>\n",
       "      <th>fast</th>\n",
       "      <th>cheap</th>\n",
       "      <th>tasty</th>\n",
       "      <th>expensive</th>\n",
       "      <th>healthy</th>\n",
       "    </tr>\n",
       "  </thead>\n",
       "  <tbody>\n",
       "    <tr>\n",
       "      <th>0</th>\n",
       "      <td>No</td>\n",
       "      <td>Yes</td>\n",
       "      <td>No</td>\n",
       "      <td>Yes</td>\n",
       "      <td>No</td>\n",
       "      <td>Yes</td>\n",
       "      <td>Yes</td>\n",
       "      <td>No</td>\n",
       "      <td>Yes</td>\n",
       "      <td>No</td>\n",
       "    </tr>\n",
       "    <tr>\n",
       "      <th>1</th>\n",
       "      <td>Yes</td>\n",
       "      <td>Yes</td>\n",
       "      <td>No</td>\n",
       "      <td>Yes</td>\n",
       "      <td>Yes</td>\n",
       "      <td>Yes</td>\n",
       "      <td>Yes</td>\n",
       "      <td>Yes</td>\n",
       "      <td>Yes</td>\n",
       "      <td>No</td>\n",
       "    </tr>\n",
       "    <tr>\n",
       "      <th>2</th>\n",
       "      <td>No</td>\n",
       "      <td>Yes</td>\n",
       "      <td>Yes</td>\n",
       "      <td>Yes</td>\n",
       "      <td>Yes</td>\n",
       "      <td>Yes</td>\n",
       "      <td>No</td>\n",
       "      <td>Yes</td>\n",
       "      <td>Yes</td>\n",
       "      <td>Yes</td>\n",
       "    </tr>\n",
       "    <tr>\n",
       "      <th>3</th>\n",
       "      <td>Yes</td>\n",
       "      <td>Yes</td>\n",
       "      <td>No</td>\n",
       "      <td>Yes</td>\n",
       "      <td>Yes</td>\n",
       "      <td>Yes</td>\n",
       "      <td>Yes</td>\n",
       "      <td>Yes</td>\n",
       "      <td>No</td>\n",
       "      <td>No</td>\n",
       "    </tr>\n",
       "  </tbody>\n",
       "</table>\n",
       "</div>"
      ],
      "text/plain": [
       "  yummy convenient spicy fattening greasy fast cheap tasty expensive healthy\n",
       "0    No        Yes    No       Yes     No  Yes   Yes    No       Yes      No\n",
       "1   Yes        Yes    No       Yes    Yes  Yes   Yes   Yes       Yes      No\n",
       "2    No        Yes   Yes       Yes    Yes  Yes    No   Yes       Yes     Yes\n",
       "3   Yes        Yes    No       Yes    Yes  Yes   Yes   Yes        No      No"
      ]
     },
     "execution_count": 16,
     "metadata": {},
     "output_type": "execute_result"
    }
   ],
   "source": [
    "data.loc[:3,\"yummy\" :\"healthy\"] #between yummy and healthy"
   ]
  },
  {
   "cell_type": "code",
   "execution_count": 17,
   "metadata": {},
   "outputs": [
    {
     "data": {
      "text/plain": [
       "<matplotlib.axes._subplots.AxesSubplot at 0x21511c1e7b8>"
      ]
     },
     "execution_count": 17,
     "metadata": {},
     "output_type": "execute_result"
    },
    {
     "data": {
      "image/png": "[encoded data removed]",
      "text/plain": [
       "<Figure size 432x288 with 1 Axes>"
      ]
     },
     "metadata": {
      "needs_background": "light"
     },
     "output_type": "display_data"
    }
   ],
   "source": [
    "data['yummy'].value_counts().head(10).plot.bar()\n"
   ]
  },
  {
   "cell_type": "code",
   "execution_count": 18,
   "metadata": {},
   "outputs": [
    {
     "data": {
      "text/plain": [
       "<matplotlib.axes._subplots.AxesSubplot at 0x21511d706a0>"
      ]
     },
     "execution_count": 18,
     "metadata": {},
     "output_type": "execute_result"
    },
    {
     "data": {
      "image/png": "[encoded data removed]",
      "text/plain": [
       "<Figure size 432x288 with 1 Axes>"
      ]
     },
     "metadata": {
      "needs_background": "light"
     },
     "output_type": "display_data"
    }
   ],
   "source": [
    "data['convenient'].value_counts().sort_index().plot.line()\n"
   ]
  },
  {
   "cell_type": "code",
   "execution_count": 19,
   "metadata": {},
   "outputs": [
    {
     "data": {
      "text/plain": [
       "<matplotlib.axes._subplots.AxesSubplot at 0x215121ad908>"
      ]
     },
     "execution_count": 19,
     "metadata": {},
     "output_type": "execute_result"
    },
    {
     "data": {
      "image/png": "[encoded data removed]",
      "text/plain": [
       "<Figure size 432x288 with 1 Axes>"
      ]
     },
     "metadata": {
      "needs_background": "light"
     },
     "output_type": "display_data"
    }
   ],
   "source": [
    "data['spicy'].value_counts().sort_index().plot.line()\n"
   ]
  },
  {
   "cell_type": "code",
   "execution_count": 20,
   "metadata": {
    "scrolled": true
   },
   "outputs": [
    {
     "data": {
      "text/plain": [
       "<matplotlib.axes._subplots.AxesSubplot at 0x21512218da0>"
      ]
     },
     "execution_count": 20,
     "metadata": {},
     "output_type": "execute_result"
    },
    {
     "data": {
      "image/png": "[encoded data removed]",
      "text/plain": [
       "<Figure size 432x288 with 1 Axes>"
      ]
     },
     "metadata": {
      "needs_background": "light"
     },
     "output_type": "display_data"
    }
   ],
   "source": [
    "data['Like'].value_counts().sort_index().plot.line()\n"
   ]
  },
  {
   "cell_type": "markdown",
   "metadata": {},
   "source": [
    "# Encoding the Categorical Columns to Numerical"
   ]
  },
  {
   "cell_type": "code",
   "execution_count": 21,
   "metadata": {},
   "outputs": [],
   "source": [
    "from sklearn.preprocessing import LabelEncoder"
   ]
  },
  {
   "cell_type": "code",
   "execution_count": 22,
   "metadata": {},
   "outputs": [],
   "source": [
    "LB = LabelEncoder()"
   ]
  },
  {
   "cell_type": "code",
   "execution_count": 23,
   "metadata": {},
   "outputs": [],
   "source": [
    "data['yummy'] = LB.fit_transform(data['yummy'])"
   ]
  },
  {
   "cell_type": "code",
   "execution_count": 24,
   "metadata": {},
   "outputs": [],
   "source": [
    "data['yummy'] = LB.fit_transform(data['yummy'])\n",
    "data['convenient'] = LB.fit_transform(data['convenient'])\n",
    "data['spicy'] = LB.fit_transform(data['spicy'])\n",
    "data['fattening'] = LB.fit_transform(data['fattening'])\n",
    "data['greasy'] = LB.fit_transform(data['greasy'])\n",
    "data['fast'] = LB.fit_transform(data['fast'])\n",
    "data['cheap'] = LB.fit_transform(data['cheap'])\n",
    "data['tasty'] = LB.fit_transform(data['tasty'])\n",
    "data['expensive'] = LB.fit_transform(data['expensive'])\n",
    "data['healthy'] = LB.fit_transform(data['healthy'])\n",
    "data['disgusting'] = LB.fit_transform(data['disgusting'])\n",
    "data['Like'] = LB.fit_transform(data['Like'])\n",
    "data['VisitFrequency'] = LB.fit_transform(data['VisitFrequency'])\n",
    "data['Gender'] = LB.fit_transform(data['Gender'])\n",
    "\n"
   ]
  },
  {
   "cell_type": "code",
   "execution_count": 25,
   "metadata": {},
   "outputs": [
    {
     "data": {
      "text/html": [
       "<div>\n",
       "<style scoped>\n",
       "    .dataframe tbody tr th:only-of-type {\n",
       "        vertical-align: middle;\n",
       "    }\n",
       "\n",
       "    .dataframe tbody tr th {\n",
       "        vertical-align: top;\n",
       "    }\n",
       "\n",
       "    .dataframe thead th {\n",
       "        text-align: right;\n",
       "    }\n",
       "</style>\n",
       "<table border=\"1\" class=\"dataframe\">\n",
       "  <thead>\n",
       "    <tr style=\"text-align: right;\">\n",
       "      <th></th>\n",
       "      <th>yummy</th>\n",
       "      <th>convenient</th>\n",
       "      <th>spicy</th>\n",
       "      <th>fattening</th>\n",
       "      <th>greasy</th>\n",
       "      <th>fast</th>\n",
       "      <th>cheap</th>\n",
       "      <th>tasty</th>\n",
       "      <th>expensive</th>\n",
       "      <th>healthy</th>\n",
       "      <th>disgusting</th>\n",
       "      <th>Like</th>\n",
       "      <th>Age</th>\n",
       "      <th>VisitFrequency</th>\n",
       "      <th>Gender</th>\n",
       "    </tr>\n",
       "  </thead>\n",
       "  <tbody>\n",
       "    <tr>\n",
       "      <th>0</th>\n",
       "      <td>0</td>\n",
       "      <td>1</td>\n",
       "      <td>0</td>\n",
       "      <td>1</td>\n",
       "      <td>0</td>\n",
       "      <td>1</td>\n",
       "      <td>1</td>\n",
       "      <td>0</td>\n",
       "      <td>1</td>\n",
       "      <td>0</td>\n",
       "      <td>0</td>\n",
       "      <td>6</td>\n",
       "      <td>61</td>\n",
       "      <td>0</td>\n",
       "      <td>0</td>\n",
       "    </tr>\n",
       "    <tr>\n",
       "      <th>1</th>\n",
       "      <td>1</td>\n",
       "      <td>1</td>\n",
       "      <td>0</td>\n",
       "      <td>1</td>\n",
       "      <td>1</td>\n",
       "      <td>1</td>\n",
       "      <td>1</td>\n",
       "      <td>1</td>\n",
       "      <td>1</td>\n",
       "      <td>0</td>\n",
       "      <td>0</td>\n",
       "      <td>1</td>\n",
       "      <td>51</td>\n",
       "      <td>0</td>\n",
       "      <td>0</td>\n",
       "    </tr>\n",
       "    <tr>\n",
       "      <th>2</th>\n",
       "      <td>0</td>\n",
       "      <td>1</td>\n",
       "      <td>1</td>\n",
       "      <td>1</td>\n",
       "      <td>1</td>\n",
       "      <td>1</td>\n",
       "      <td>0</td>\n",
       "      <td>1</td>\n",
       "      <td>1</td>\n",
       "      <td>1</td>\n",
       "      <td>0</td>\n",
       "      <td>0</td>\n",
       "      <td>62</td>\n",
       "      <td>0</td>\n",
       "      <td>0</td>\n",
       "    </tr>\n",
       "    <tr>\n",
       "      <th>3</th>\n",
       "      <td>1</td>\n",
       "      <td>1</td>\n",
       "      <td>0</td>\n",
       "      <td>1</td>\n",
       "      <td>1</td>\n",
       "      <td>1</td>\n",
       "      <td>1</td>\n",
       "      <td>1</td>\n",
       "      <td>0</td>\n",
       "      <td>0</td>\n",
       "      <td>1</td>\n",
       "      <td>3</td>\n",
       "      <td>69</td>\n",
       "      <td>4</td>\n",
       "      <td>0</td>\n",
       "    </tr>\n",
       "    <tr>\n",
       "      <th>4</th>\n",
       "      <td>0</td>\n",
       "      <td>1</td>\n",
       "      <td>0</td>\n",
       "      <td>1</td>\n",
       "      <td>1</td>\n",
       "      <td>1</td>\n",
       "      <td>1</td>\n",
       "      <td>0</td>\n",
       "      <td>0</td>\n",
       "      <td>1</td>\n",
       "      <td>0</td>\n",
       "      <td>1</td>\n",
       "      <td>49</td>\n",
       "      <td>3</td>\n",
       "      <td>1</td>\n",
       "    </tr>\n",
       "  </tbody>\n",
       "</table>\n",
       "</div>"
      ],
      "text/plain": [
       "   yummy  convenient  spicy  fattening  greasy  fast  cheap  tasty  expensive  \\\n",
       "0      0           1      0          1       0     1      1      0          1   \n",
       "1      1           1      0          1       1     1      1      1          1   \n",
       "2      0           1      1          1       1     1      0      1          1   \n",
       "3      1           1      0          1       1     1      1      1          0   \n",
       "4      0           1      0          1       1     1      1      0          0   \n",
       "\n",
       "   healthy  disgusting  Like  Age  VisitFrequency  Gender  \n",
       "0        0           0     6   61               0       0  \n",
       "1        0           0     1   51               0       0  \n",
       "2        1           0     0   62               0       0  \n",
       "3        0           1     3   69               4       0  \n",
       "4        1           0     1   49               3       1  "
      ]
     },
     "execution_count": 25,
     "metadata": {},
     "output_type": "execute_result"
    }
   ],
   "source": [
    "data.head()"
   ]
  },
  {
   "cell_type": "code",
   "execution_count": 26,
   "metadata": {},
   "outputs": [
    {
     "data": {
      "image/png": "[encoded data removed]",
      "text/plain": [
       "<Figure size 432x288 with 1 Axes>"
      ]
     },
     "metadata": {
      "needs_background": "light"
     },
     "output_type": "display_data"
    },
    {
     "data": {
      "image/png": "[encoded data removed]",
      "text/plain": [
       "<Figure size 432x288 with 1 Axes>"
      ]
     },
     "metadata": {
      "needs_background": "light"
     },
     "output_type": "display_data"
    },
    {
     "data": {
      "image/png": "[encoded data removed]",
      "text/plain": [
       "<Figure size 432x288 with 1 Axes>"
      ]
     },
     "metadata": {
      "needs_background": "light"
     },
     "output_type": "display_data"
    },
    {
     "data": {
      "image/png": "[encoded data removed]",
      "text/plain": [
       "<Figure size 432x288 with 1 Axes>"
      ]
     },
     "metadata": {
      "needs_background": "light"
     },
     "output_type": "display_data"
    },
    {
     "data": {
      "image/png": "[encoded data removed]",
      "text/plain": [
       "<Figure size 432x288 with 1 Axes>"
      ]
     },
     "metadata": {
      "needs_background": "light"
     },
     "output_type": "display_data"
    },
    {
     "data": {
      "image/png": "[encoded data removed]",
      "text/plain": [
       "<Figure size 432x288 with 1 Axes>"
      ]
     },
     "metadata": {
      "needs_background": "light"
     },
     "output_type": "display_data"
    },
    {
     "data": {
      "image/png": "[encoded data removed]",
      "text/plain": [
       "<Figure size 432x288 with 1 Axes>"
      ]
     },
     "metadata": {
      "needs_background": "light"
     },
     "output_type": "display_data"
    },
    {
     "data": {
      "image/png": "[encoded data removed]",
      "text/plain": [
       "<Figure size 432x288 with 1 Axes>"
      ]
     },
     "metadata": {
      "needs_background": "light"
     },
     "output_type": "display_data"
    },
    {
     "data": {
      "image/png": "[encoded data removed]",
      "text/plain": [
       "<Figure size 432x288 with 1 Axes>"
      ]
     },
     "metadata": {
      "needs_background": "light"
     },
     "output_type": "display_data"
    },
    {
     "data": {
      "image/png": "[encoded data removed]",
      "text/plain": [
       "<Figure size 432x288 with 1 Axes>"
      ]
     },
     "metadata": {
      "needs_background": "light"
     },
     "output_type": "display_data"
    },
    {
     "data": {
      "image/png": "[encoded data removed]",
      "text/plain": [
       "<Figure size 432x288 with 1 Axes>"
      ]
     },
     "metadata": {
      "needs_background": "light"
     },
     "output_type": "display_data"
    },
    {
     "data": {
      "image/png": "[encoded data removed]",
      "text/plain": [
       "<Figure size 432x288 with 1 Axes>"
      ]
     },
     "metadata": {
      "needs_background": "light"
     },
     "output_type": "display_data"
    },
    {
     "data": {
      "image/png": "[encoded data removed]",
      "text/plain": [
       "<Figure size 432x288 with 1 Axes>"
      ]
     },
     "metadata": {
      "needs_background": "light"
     },
     "output_type": "display_data"
    },
    {
     "data": {
      "image/png": "[encoded data removed]",
      "text/plain": [
       "<Figure size 432x288 with 1 Axes>"
      ]
     },
     "metadata": {
      "needs_background": "light"
     },
     "output_type": "display_data"
    }
   ],
   "source": [
    "col_nutritions = ['convenient', 'spicy', 'fattening', 'greasy', 'fast', 'cheap',\n",
    "       'tasty', 'expensive', 'healthy', 'disgusting', 'Like', 'Age',\n",
    "       'VisitFrequency', 'Gender']\n",
    "for i in col_nutritions:\n",
    "    data.pivot_table(values=i, index='yummy').plot(kind='bar', stacked=True)"
   ]
  },
  {
   "cell_type": "markdown",
   "metadata": {},
   "source": [
    "# Checking Correlation\n"
   ]
  },
  {
   "cell_type": "code",
   "execution_count": 27,
   "metadata": {},
   "outputs": [
    {
     "data": {
      "text/plain": [
       "<matplotlib.axes._subplots.AxesSubplot at 0x2151318c4a8>"
      ]
     },
     "execution_count": 27,
     "metadata": {},
     "output_type": "execute_result"
    },
    {
     "data": {
      "image/png": "[encoded data removed]",
      "text/plain": [
       "<Figure size 864x648 with 2 Axes>"
      ]
     },
     "metadata": {
      "needs_background": "light"
     },
     "output_type": "display_data"
    }
   ],
   "source": [
    "corrmat = data.corr()\n",
    "f, ax = plt.subplots(figsize=(12, 9))\n",
    "sns.heatmap(corrmat)"
   ]
  },
  {
   "cell_type": "code",
   "execution_count": 28,
   "metadata": {},
   "outputs": [],
   "source": [
    "Numerical_List =['yummy', 'convenient', 'spicy', 'fattening', 'greasy', 'fast', 'cheap',\n",
    "       'tasty', 'expensive', 'healthy', 'disgusting', 'Age',\n",
    "       'VisitFrequency', 'Gender']\n"
   ]
  },
  {
   "cell_type": "code",
   "execution_count": 29,
   "metadata": {},
   "outputs": [
    {
     "data": {
      "image/png": "[encoded data removed]",
      "text/plain": [
       "<Figure size 1008x1080 with 14 Axes>"
      ]
     },
     "metadata": {
      "needs_background": "light"
     },
     "output_type": "display_data"
    }
   ],
   "source": [
    "plt.figure(figsize=(14,15))\n",
    "for i in range(0,len(Numerical_List)):\n",
    "    plt.subplot(4,4,i+1)\n",
    "    sns.boxplot(data[Numerical_List[i]],color='green',orient='v')\n",
    "    plt.title(Numerical_List[i])"
   ]
  },
  {
   "cell_type": "code",
   "execution_count": 30,
   "metadata": {},
   "outputs": [],
   "source": [
    "from sklearn.preprocessing import StandardScaler,MinMaxScaler,MaxAbsScaler,RobustScaler,QuantileTransformer,PowerTransformer,Normalizer"
   ]
  },
  {
   "cell_type": "code",
   "execution_count": 31,
   "metadata": {
    "scrolled": true
   },
   "outputs": [
    {
     "name": "stderr",
     "output_type": "stream",
     "text": [
      "C:\\ProgramData\\Anaconda3\\lib\\site-packages\\sklearn\\preprocessing\\data.py:625: DataConversionWarning: Data with input dtype int32, int64 were all converted to float64 by StandardScaler.\n",
      "  return self.partial_fit(X, y)\n",
      "C:\\ProgramData\\Anaconda3\\lib\\site-packages\\sklearn\\base.py:462: DataConversionWarning: Data with input dtype int32, int64 were all converted to float64 by StandardScaler.\n",
      "  return self.fit(X, **fit_params).transform(X)\n"
     ]
    }
   ],
   "source": [
    "sc = StandardScaler()\n",
    "sc_data = sc.fit_transform(data)\n",
    "sc_data = pd.DataFrame(sc_data,columns=data.columns)"
   ]
  },
  {
   "cell_type": "code",
   "execution_count": 32,
   "metadata": {},
   "outputs": [
    {
     "name": "stderr",
     "output_type": "stream",
     "text": [
      "C:\\ProgramData\\Anaconda3\\lib\\site-packages\\sklearn\\preprocessing\\data.py:323: DataConversionWarning: Data with input dtype int32, int64 were all converted to float64 by MinMaxScaler.\n",
      "  return self.partial_fit(X, y)\n"
     ]
    }
   ],
   "source": [
    "mm = MinMaxScaler()\n",
    "mm_data = mm.fit_transform(data)\n",
    "mm_data = pd.DataFrame(mm_data,columns=data.columns)"
   ]
  },
  {
   "cell_type": "code",
   "execution_count": 33,
   "metadata": {},
   "outputs": [],
   "source": [
    "ma = MaxAbsScaler()\n",
    "ma_data = ma.fit_transform(data)\n",
    "ma_data = pd.DataFrame(ma_data,columns=data.columns)"
   ]
  },
  {
   "cell_type": "code",
   "execution_count": 34,
   "metadata": {},
   "outputs": [],
   "source": [
    "rs = RobustScaler()\n",
    "rs_data = rs.fit_transform(data)\n",
    "rs_data = pd.DataFrame(rs_data,columns=data.columns)"
   ]
  },
  {
   "cell_type": "code",
   "execution_count": 35,
   "metadata": {},
   "outputs": [],
   "source": [
    "qt = QuantileTransformer(output_distribution='normal')\n",
    "qt_data = qt.fit_transform(data)\n",
    "qt_data = pd.DataFrame(qt_data,columns=data.columns)"
   ]
  },
  {
   "cell_type": "code",
   "execution_count": 36,
   "metadata": {},
   "outputs": [],
   "source": [
    "qt_u = QuantileTransformer(output_distribution='uniform')\n",
    "qtu_data = qt_u.fit_transform(data)\n",
    "qtu_data = pd.DataFrame(qtu_data,columns=data.columns)"
   ]
  },
  {
   "cell_type": "code",
   "execution_count": 37,
   "metadata": {},
   "outputs": [],
   "source": [
    "pt = PowerTransformer(method='yeo-johnson')\n",
    "pt_data = pt.fit_transform(data)\n",
    "pt_data = pd.DataFrame(pt_data,columns=data.columns)"
   ]
  },
  {
   "cell_type": "code",
   "execution_count": 38,
   "metadata": {},
   "outputs": [],
   "source": [
    "nm = Normalizer()\n",
    "nm_data = nm.fit_transform(data)\n",
    "nm_data =pd.DataFrame(nm_data,columns=data.columns)"
   ]
  },
  {
   "cell_type": "code",
   "execution_count": 39,
   "metadata": {},
   "outputs": [],
   "source": [
    "from sklearn.linear_model import LogisticRegression\n",
    "from sklearn.neighbors import KNeighborsRegressor\n",
    "from sklearn.tree import DecisionTreeClassifier\n",
    "from sklearn.ensemble import RandomForestClassifier\n",
    "from sklearn.model_selection import GridSearchCV,KFold\n",
    "import sklearn.metrics as metrics"
   ]
  },
  {
   "cell_type": "markdown",
   "metadata": {},
   "source": [
    "# Standard Scalar"
   ]
  },
  {
   "cell_type": "markdown",
   "metadata": {},
   "source": [
    "# Logistic Regression"
   ]
  },
  {
   "cell_type": "code",
   "execution_count": 40,
   "metadata": {},
   "outputs": [],
   "source": [
    "X = sc_data.drop('Gender',axis=1)\n",
    "Y = data.Gender"
   ]
  },
  {
   "cell_type": "code",
   "execution_count": 41,
   "metadata": {},
   "outputs": [],
   "source": [
    "LR = LogisticRegression()"
   ]
  },
  {
   "cell_type": "markdown",
   "metadata": {},
   "source": [
    "# K Fold Cross Validation"
   ]
  },
  {
   "cell_type": "code",
   "execution_count": 42,
   "metadata": {},
   "outputs": [],
   "source": [
    "kf = KFold(n_splits=5,shuffle=True,random_state=0)"
   ]
  },
  {
   "cell_type": "code",
   "execution_count": 43,
   "metadata": {},
   "outputs": [
    {
     "name": "stderr",
     "output_type": "stream",
     "text": [
      "C:\\ProgramData\\Anaconda3\\lib\\site-packages\\sklearn\\linear_model\\logistic.py:433: FutureWarning: Default solver will be changed to 'lbfgs' in 0.22. Specify a solver to silence this warning.\n",
      "  FutureWarning)\n"
     ]
    },
    {
     "name": "stdout",
     "output_type": "stream",
     "text": [
      " Accuracy: 0.56  Precision: 0.53  Recall: 0.39  ROC-AOC: 0.55\n"
     ]
    },
    {
     "name": "stderr",
     "output_type": "stream",
     "text": [
      "C:\\ProgramData\\Anaconda3\\lib\\site-packages\\sklearn\\linear_model\\logistic.py:433: FutureWarning: Default solver will be changed to 'lbfgs' in 0.22. Specify a solver to silence this warning.\n",
      "  FutureWarning)\n",
      "C:\\ProgramData\\Anaconda3\\lib\\site-packages\\sklearn\\linear_model\\logistic.py:433: FutureWarning: Default solver will be changed to 'lbfgs' in 0.22. Specify a solver to silence this warning.\n",
      "  FutureWarning)\n",
      "C:\\ProgramData\\Anaconda3\\lib\\site-packages\\sklearn\\linear_model\\logistic.py:433: FutureWarning: Default solver will be changed to 'lbfgs' in 0.22. Specify a solver to silence this warning.\n",
      "  FutureWarning)\n",
      "C:\\ProgramData\\Anaconda3\\lib\\site-packages\\sklearn\\linear_model\\logistic.py:433: FutureWarning: Default solver will be changed to 'lbfgs' in 0.22. Specify a solver to silence this warning.\n",
      "  FutureWarning)\n"
     ]
    }
   ],
   "source": [
    "precision=[]\n",
    "recall  =[]\n",
    "roc_auc = []\n",
    "accuracy=[]\n",
    "for train,test in kf.split(X,Y):\n",
    "    xtrain,xtest=X.iloc[train,:],X.iloc[test,:]\n",
    "    ytrain,ytest=Y.iloc[train],Y.iloc[test]\n",
    "    LR.fit(xtrain,ytrain)\n",
    "    y_predict = LR.predict(xtest)\n",
    "    precision.append(metrics.precision_score(ytest,y_predict))\n",
    "    recall.append(metrics.recall_score(ytest,y_predict))\n",
    "    fpr,tpr,_=metrics.roc_curve(ytest,y_predict)\n",
    "    roc_auc.append(metrics.auc(fpr,tpr))\n",
    "    accuracy.append(metrics.accuracy_score(ytest,y_predict))\n",
    "print(' Accuracy: %0.02f  Precision: %0.02f  Recall: %0.02f  ROC-AOC: %0.02F'\n",
    "      %(np.mean(accuracy),np.mean(precision),np.mean(recall),np.mean(roc_auc)))"
   ]
  },
  {
   "cell_type": "code",
   "execution_count": 44,
   "metadata": {},
   "outputs": [
    {
     "data": {
      "text/html": [
       "<div>\n",
       "<style scoped>\n",
       "    .dataframe tbody tr th:only-of-type {\n",
       "        vertical-align: middle;\n",
       "    }\n",
       "\n",
       "    .dataframe tbody tr th {\n",
       "        vertical-align: top;\n",
       "    }\n",
       "\n",
       "    .dataframe thead th {\n",
       "        text-align: right;\n",
       "    }\n",
       "</style>\n",
       "<table border=\"1\" class=\"dataframe\">\n",
       "  <thead>\n",
       "    <tr style=\"text-align: right;\">\n",
       "      <th></th>\n",
       "      <th>Scaling</th>\n",
       "      <th>Model</th>\n",
       "      <th>Accuracy</th>\n",
       "      <th>Precision</th>\n",
       "      <th>Recall</th>\n",
       "      <th>ROC-AUC</th>\n",
       "    </tr>\n",
       "  </thead>\n",
       "  <tbody>\n",
       "    <tr>\n",
       "      <th>0</th>\n",
       "      <td>Standard</td>\n",
       "      <td>Logistic Regression</td>\n",
       "      <td>0.560927</td>\n",
       "      <td>0.527719</td>\n",
       "      <td>0.39134</td>\n",
       "      <td>0.547769</td>\n",
       "    </tr>\n",
       "  </tbody>\n",
       "</table>\n",
       "</div>"
      ],
      "text/plain": [
       "    Scaling                Model  Accuracy  Precision   Recall   ROC-AUC\n",
       "0  Standard  Logistic Regression  0.560927   0.527719  0.39134  0.547769"
      ]
     },
     "execution_count": 44,
     "metadata": {},
     "output_type": "execute_result"
    }
   ],
   "source": [
    "# Storing results in a dataframe\n",
    "resultsDf = pd.DataFrame({'Scaling':['Standard'],'Model':['Logistic Regression'], \n",
    "                          'Accuracy': [np.mean(accuracy)], 'Precision': [np.mean(precision)],\n",
    "                          'Recall':[np.mean(recall)],'ROC-AUC':[np.mean(roc_auc)]})\n",
    "resultsDf = resultsDf[['Scaling','Model', 'Accuracy', 'Precision','Recall','ROC-AUC']]\n",
    "resultsDf"
   ]
  },
  {
   "cell_type": "markdown",
   "metadata": {},
   "source": [
    "# Decision Tree"
   ]
  },
  {
   "cell_type": "code",
   "execution_count": 45,
   "metadata": {},
   "outputs": [],
   "source": [
    "DT = DecisionTreeClassifier()"
   ]
  },
  {
   "cell_type": "code",
   "execution_count": 46,
   "metadata": {},
   "outputs": [
    {
     "data": {
      "text/plain": [
       "GridSearchCV(cv=3, error_score='raise-deprecating',\n",
       "       estimator=DecisionTreeClassifier(class_weight=None, criterion='gini', max_depth=None,\n",
       "            max_features=None, max_leaf_nodes=None,\n",
       "            min_impurity_decrease=0.0, min_impurity_split=None,\n",
       "            min_samples_leaf=1, min_samples_split=2,\n",
       "            min_weight_fraction_leaf=0.0, presort=False, random_state=None,\n",
       "            splitter='best'),\n",
       "       fit_params=None, iid='warn', n_jobs=None,\n",
       "       param_grid={'max_depth': array([1, 2, 3, 4, 5, 6, 7, 8, 9])},\n",
       "       pre_dispatch='2*n_jobs', refit=True, return_train_score='warn',\n",
       "       scoring=None, verbose=0)"
      ]
     },
     "execution_count": 46,
     "metadata": {},
     "output_type": "execute_result"
    }
   ],
   "source": [
    "parameter ={'max_depth':np.arange(1,10)}\n",
    "GS=GridSearchCV(DT,parameter,cv=3)\n",
    "GS.fit(X,Y)"
   ]
  },
  {
   "cell_type": "code",
   "execution_count": 47,
   "metadata": {},
   "outputs": [
    {
     "data": {
      "text/plain": [
       "{'max_depth': 1}"
      ]
     },
     "execution_count": 47,
     "metadata": {},
     "output_type": "execute_result"
    }
   ],
   "source": [
    "GS.best_params_"
   ]
  },
  {
   "cell_type": "code",
   "execution_count": 48,
   "metadata": {},
   "outputs": [],
   "source": [
    "DT = DecisionTreeClassifier(max_depth=2)"
   ]
  },
  {
   "cell_type": "markdown",
   "metadata": {},
   "source": [
    "# K Fold Cross Validation"
   ]
  },
  {
   "cell_type": "code",
   "execution_count": 49,
   "metadata": {},
   "outputs": [],
   "source": [
    "kf = KFold(n_splits=5,shuffle=True,random_state=0)"
   ]
  },
  {
   "cell_type": "code",
   "execution_count": 50,
   "metadata": {},
   "outputs": [
    {
     "name": "stdout",
     "output_type": "stream",
     "text": [
      " Accuracy: 0.57  Precision: 0.54  Recall: 0.35  ROC-AOC: 0.55\n"
     ]
    }
   ],
   "source": [
    "precision=[]\n",
    "recall  =[]\n",
    "roc_auc = []\n",
    "accuracy=[]\n",
    "for train,test in kf.split(X,Y):\n",
    "    xtrain,xtest=X.iloc[train,:],X.iloc[test,:]\n",
    "    ytrain,ytest=Y.iloc[train],Y.iloc[test]\n",
    "    DT.fit(xtrain,ytrain)\n",
    "    y_predict = DT.predict(xtest)\n",
    "    precision.append(metrics.precision_score(ytest,y_predict))\n",
    "    recall.append(metrics.recall_score(ytest,y_predict))\n",
    "    fpr,tpr,_=metrics.roc_curve(ytest,y_predict)\n",
    "    roc_auc.append(metrics.auc(fpr,tpr))\n",
    "    accuracy.append(metrics.accuracy_score(ytest,y_predict))\n",
    "print(' Accuracy: %0.02f  Precision: %0.02f  Recall: %0.02f  ROC-AOC: %0.02F'\n",
    "      %(np.mean(accuracy),np.mean(precision),np.mean(recall),np.mean(roc_auc)))"
   ]
  },
  {
   "cell_type": "code",
   "execution_count": 51,
   "metadata": {},
   "outputs": [
    {
     "data": {
      "text/html": [
       "<div>\n",
       "<style scoped>\n",
       "    .dataframe tbody tr th:only-of-type {\n",
       "        vertical-align: middle;\n",
       "    }\n",
       "\n",
       "    .dataframe tbody tr th {\n",
       "        vertical-align: top;\n",
       "    }\n",
       "\n",
       "    .dataframe thead th {\n",
       "        text-align: right;\n",
       "    }\n",
       "</style>\n",
       "<table border=\"1\" class=\"dataframe\">\n",
       "  <thead>\n",
       "    <tr style=\"text-align: right;\">\n",
       "      <th></th>\n",
       "      <th>Scaling</th>\n",
       "      <th>Model</th>\n",
       "      <th>Accuracy</th>\n",
       "      <th>Precision</th>\n",
       "      <th>Recall</th>\n",
       "      <th>ROC-AUC</th>\n",
       "    </tr>\n",
       "  </thead>\n",
       "  <tbody>\n",
       "    <tr>\n",
       "      <th>0</th>\n",
       "      <td>Standard</td>\n",
       "      <td>Logistic Regression</td>\n",
       "      <td>0.560927</td>\n",
       "      <td>0.527719</td>\n",
       "      <td>0.391340</td>\n",
       "      <td>0.547769</td>\n",
       "    </tr>\n",
       "    <tr>\n",
       "      <th>0</th>\n",
       "      <td>Standard</td>\n",
       "      <td>Decision Tree</td>\n",
       "      <td>0.567833</td>\n",
       "      <td>0.535098</td>\n",
       "      <td>0.354889</td>\n",
       "      <td>0.550978</td>\n",
       "    </tr>\n",
       "  </tbody>\n",
       "</table>\n",
       "</div>"
      ],
      "text/plain": [
       "    Scaling                Model  Accuracy  Precision    Recall   ROC-AUC\n",
       "0  Standard  Logistic Regression  0.560927   0.527719  0.391340  0.547769\n",
       "0  Standard        Decision Tree  0.567833   0.535098  0.354889  0.550978"
      ]
     },
     "execution_count": 51,
     "metadata": {},
     "output_type": "execute_result"
    }
   ],
   "source": [
    "# Storing results in a dataframe\n",
    "tempResultsDf = pd.DataFrame({'Scaling':['Standard'],'Model':['Decision Tree'], \n",
    "                          'Accuracy': [np.mean(accuracy)], 'Precision': [np.mean(precision)],\n",
    "                          'Recall':[np.mean(recall)],'ROC-AUC':[np.mean(roc_auc)]})\n",
    "resultsDf = pd.concat([resultsDf, tempResultsDf])\n",
    "resultsDf = resultsDf[['Scaling','Model', 'Accuracy', 'Precision','Recall','ROC-AUC']]\n",
    "resultsDf"
   ]
  },
  {
   "cell_type": "markdown",
   "metadata": {},
   "source": [
    "# Random Forest"
   ]
  },
  {
   "cell_type": "code",
   "execution_count": 52,
   "metadata": {},
   "outputs": [],
   "source": [
    "RT = RandomForestClassifier(random_state=0)"
   ]
  },
  {
   "cell_type": "code",
   "execution_count": 53,
   "metadata": {},
   "outputs": [
    {
     "data": {
      "text/plain": [
       "GridSearchCV(cv=3, error_score='raise-deprecating',\n",
       "       estimator=RandomForestClassifier(bootstrap=True, class_weight=None, criterion='gini',\n",
       "            max_depth=None, max_features='auto', max_leaf_nodes=None,\n",
       "            min_impurity_decrease=0.0, min_impurity_split=None,\n",
       "            min_samples_leaf=1, min_samples_split=2,\n",
       "            min_weight_fraction_leaf=0.0, n_estimators='warn', n_jobs=None,\n",
       "            oob_score=False, random_state=0, verbose=0, warm_start=False),\n",
       "       fit_params=None, iid='warn', n_jobs=None,\n",
       "       param_grid={'n_estimators': array([1, 2, 3, 4, 5, 6, 7, 8, 9]), 'max_depth': array([1, 2, 3, 4, 5, 6, 7, 8, 9])},\n",
       "       pre_dispatch='2*n_jobs', refit=True, return_train_score='warn',\n",
       "       scoring=None, verbose=0)"
      ]
     },
     "execution_count": 53,
     "metadata": {},
     "output_type": "execute_result"
    }
   ],
   "source": [
    "parameter ={'n_estimators':np.arange(1,10),'max_depth':np.arange(1,10)}\n",
    "GS=GridSearchCV(RT,parameter,cv=3)\n",
    "GS.fit(X,Y)"
   ]
  },
  {
   "cell_type": "code",
   "execution_count": 54,
   "metadata": {},
   "outputs": [
    {
     "data": {
      "text/plain": [
       "{'max_depth': 1, 'n_estimators': 1}"
      ]
     },
     "execution_count": 54,
     "metadata": {},
     "output_type": "execute_result"
    }
   ],
   "source": [
    "GS.best_params_"
   ]
  },
  {
   "cell_type": "markdown",
   "metadata": {},
   "source": [
    "\n",
    "\n",
    "# MinMax Scalar"
   ]
  },
  {
   "cell_type": "markdown",
   "metadata": {},
   "source": [
    "# Logistic Regression"
   ]
  },
  {
   "cell_type": "code",
   "execution_count": 55,
   "metadata": {},
   "outputs": [],
   "source": [
    "X = mm_data.drop('Gender',axis=1)\n",
    "Y = data.Gender"
   ]
  },
  {
   "cell_type": "code",
   "execution_count": 56,
   "metadata": {},
   "outputs": [],
   "source": [
    "LR = LogisticRegression()"
   ]
  },
  {
   "cell_type": "markdown",
   "metadata": {},
   "source": [
    "# K Fold Cross Validation"
   ]
  },
  {
   "cell_type": "code",
   "execution_count": 57,
   "metadata": {},
   "outputs": [],
   "source": [
    "kf = KFold(n_splits=5,shuffle=True,random_state=0)"
   ]
  },
  {
   "cell_type": "code",
   "execution_count": 58,
   "metadata": {},
   "outputs": [
    {
     "name": "stdout",
     "output_type": "stream",
     "text": [
      " Accuracy: 0.56  Precision: 0.53  Recall: 0.39  ROC-AOC: 0.55\n"
     ]
    },
    {
     "name": "stderr",
     "output_type": "stream",
     "text": [
      "C:\\ProgramData\\Anaconda3\\lib\\site-packages\\sklearn\\linear_model\\logistic.py:433: FutureWarning: Default solver will be changed to 'lbfgs' in 0.22. Specify a solver to silence this warning.\n",
      "  FutureWarning)\n",
      "C:\\ProgramData\\Anaconda3\\lib\\site-packages\\sklearn\\linear_model\\logistic.py:433: FutureWarning: Default solver will be changed to 'lbfgs' in 0.22. Specify a solver to silence this warning.\n",
      "  FutureWarning)\n",
      "C:\\ProgramData\\Anaconda3\\lib\\site-packages\\sklearn\\linear_model\\logistic.py:433: FutureWarning: Default solver will be changed to 'lbfgs' in 0.22. Specify a solver to silence this warning.\n",
      "  FutureWarning)\n",
      "C:\\ProgramData\\Anaconda3\\lib\\site-packages\\sklearn\\linear_model\\logistic.py:433: FutureWarning: Default solver will be changed to 'lbfgs' in 0.22. Specify a solver to silence this warning.\n",
      "  FutureWarning)\n",
      "C:\\ProgramData\\Anaconda3\\lib\\site-packages\\sklearn\\linear_model\\logistic.py:433: FutureWarning: Default solver will be changed to 'lbfgs' in 0.22. Specify a solver to silence this warning.\n",
      "  FutureWarning)\n"
     ]
    }
   ],
   "source": [
    "precision=[]\n",
    "recall  =[]\n",
    "roc_auc = []\n",
    "accuracy=[]\n",
    "for train,test in kf.split(X,Y):\n",
    "    xtrain,xtest=X.iloc[train,:],X.iloc[test,:]\n",
    "    ytrain,ytest=Y.iloc[train],Y.iloc[test]\n",
    "    LR.fit(xtrain,ytrain)\n",
    "    y_predict = LR.predict(xtest)\n",
    "    precision.append(metrics.precision_score(ytest,y_predict))\n",
    "    recall.append(metrics.recall_score(ytest,y_predict))\n",
    "    fpr,tpr,_=metrics.roc_curve(ytest,y_predict)\n",
    "    roc_auc.append(metrics.auc(fpr,tpr))\n",
    "    accuracy.append(metrics.accuracy_score(ytest,y_predict))\n",
    "print(' Accuracy: %0.02f  Precision: %0.02f  Recall: %0.02f  ROC-AOC: %0.02F'\n",
    "      %(np.mean(accuracy),np.mean(precision),np.mean(recall),np.mean(roc_auc)))"
   ]
  },
  {
   "cell_type": "code",
   "execution_count": 59,
   "metadata": {},
   "outputs": [
    {
     "data": {
      "text/html": [
       "<div>\n",
       "<style scoped>\n",
       "    .dataframe tbody tr th:only-of-type {\n",
       "        vertical-align: middle;\n",
       "    }\n",
       "\n",
       "    .dataframe tbody tr th {\n",
       "        vertical-align: top;\n",
       "    }\n",
       "\n",
       "    .dataframe thead th {\n",
       "        text-align: right;\n",
       "    }\n",
       "</style>\n",
       "<table border=\"1\" class=\"dataframe\">\n",
       "  <thead>\n",
       "    <tr style=\"text-align: right;\">\n",
       "      <th></th>\n",
       "      <th>Scaling</th>\n",
       "      <th>Model</th>\n",
       "      <th>Accuracy</th>\n",
       "      <th>Precision</th>\n",
       "      <th>Recall</th>\n",
       "      <th>ROC-AUC</th>\n",
       "    </tr>\n",
       "  </thead>\n",
       "  <tbody>\n",
       "    <tr>\n",
       "      <th>0</th>\n",
       "      <td>Standard</td>\n",
       "      <td>Logistic Regression</td>\n",
       "      <td>0.560927</td>\n",
       "      <td>0.527719</td>\n",
       "      <td>0.391340</td>\n",
       "      <td>0.547769</td>\n",
       "    </tr>\n",
       "    <tr>\n",
       "      <th>0</th>\n",
       "      <td>Standard</td>\n",
       "      <td>Decision Tree</td>\n",
       "      <td>0.567833</td>\n",
       "      <td>0.535098</td>\n",
       "      <td>0.354889</td>\n",
       "      <td>0.550978</td>\n",
       "    </tr>\n",
       "    <tr>\n",
       "      <th>0</th>\n",
       "      <td>MinMax</td>\n",
       "      <td>Logistic Regression</td>\n",
       "      <td>0.564370</td>\n",
       "      <td>0.533324</td>\n",
       "      <td>0.389673</td>\n",
       "      <td>0.550706</td>\n",
       "    </tr>\n",
       "  </tbody>\n",
       "</table>\n",
       "</div>"
      ],
      "text/plain": [
       "    Scaling                Model  Accuracy  Precision    Recall   ROC-AUC\n",
       "0  Standard  Logistic Regression  0.560927   0.527719  0.391340  0.547769\n",
       "0  Standard        Decision Tree  0.567833   0.535098  0.354889  0.550978\n",
       "0    MinMax  Logistic Regression  0.564370   0.533324  0.389673  0.550706"
      ]
     },
     "execution_count": 59,
     "metadata": {},
     "output_type": "execute_result"
    }
   ],
   "source": [
    "# Storing results in a dataframe\n",
    "tempResultsDf = pd.DataFrame({'Scaling':['MinMax'],'Model':['Logistic Regression'], \n",
    "                          'Accuracy': [np.mean(accuracy)], 'Precision': [np.mean(precision)],\n",
    "                          'Recall':[np.mean(recall)],'ROC-AUC':[np.mean(roc_auc)]})\n",
    "resultsDf = pd.concat([resultsDf, tempResultsDf])\n",
    "resultsDf = resultsDf[['Scaling','Model', 'Accuracy', 'Precision','Recall','ROC-AUC']]\n",
    "resultsDf"
   ]
  },
  {
   "cell_type": "markdown",
   "metadata": {},
   "source": [
    "# Decision Tree"
   ]
  },
  {
   "cell_type": "code",
   "execution_count": 60,
   "metadata": {},
   "outputs": [],
   "source": [
    "DT = DecisionTreeClassifier()"
   ]
  },
  {
   "cell_type": "code",
   "execution_count": 61,
   "metadata": {},
   "outputs": [
    {
     "data": {
      "text/plain": [
       "GridSearchCV(cv=3, error_score='raise-deprecating',\n",
       "       estimator=DecisionTreeClassifier(class_weight=None, criterion='gini', max_depth=None,\n",
       "            max_features=None, max_leaf_nodes=None,\n",
       "            min_impurity_decrease=0.0, min_impurity_split=None,\n",
       "            min_samples_leaf=1, min_samples_split=2,\n",
       "            min_weight_fraction_leaf=0.0, presort=False, random_state=None,\n",
       "            splitter='best'),\n",
       "       fit_params=None, iid='warn', n_jobs=None,\n",
       "       param_grid={'max_depth': array([1, 2, 3, 4, 5, 6, 7, 8, 9])},\n",
       "       pre_dispatch='2*n_jobs', refit=True, return_train_score='warn',\n",
       "       scoring=None, verbose=0)"
      ]
     },
     "execution_count": 61,
     "metadata": {},
     "output_type": "execute_result"
    }
   ],
   "source": [
    "parameter ={'max_depth':np.arange(1,10)}\n",
    "GS=GridSearchCV(DT,parameter,cv=3)\n",
    "GS.fit(X,Y)"
   ]
  },
  {
   "cell_type": "code",
   "execution_count": 62,
   "metadata": {},
   "outputs": [
    {
     "data": {
      "text/plain": [
       "{'max_depth': 1}"
      ]
     },
     "execution_count": 62,
     "metadata": {},
     "output_type": "execute_result"
    }
   ],
   "source": [
    "GS.best_params_"
   ]
  },
  {
   "cell_type": "code",
   "execution_count": 63,
   "metadata": {},
   "outputs": [],
   "source": [
    "DT = DecisionTreeClassifier(max_depth=1)"
   ]
  },
  {
   "cell_type": "markdown",
   "metadata": {},
   "source": [
    "# K Fold Cross Validation"
   ]
  },
  {
   "cell_type": "code",
   "execution_count": 64,
   "metadata": {},
   "outputs": [],
   "source": [
    "kf = KFold(n_splits=5,shuffle=True,random_state=0)"
   ]
  },
  {
   "cell_type": "code",
   "execution_count": 65,
   "metadata": {},
   "outputs": [
    {
     "name": "stdout",
     "output_type": "stream",
     "text": [
      " Accuracy: 0.58  Precision: 0.56  Recall: 0.43  ROC-AOC: 0.57\n"
     ]
    }
   ],
   "source": [
    "precision=[]\n",
    "recall  =[]\n",
    "roc_auc = []\n",
    "accuracy=[]\n",
    "for train,test in kf.split(X,Y):\n",
    "    xtrain,xtest=X.iloc[train,:],X.iloc[test,:]\n",
    "    ytrain,ytest=Y.iloc[train],Y.iloc[test]\n",
    "    DT.fit(xtrain,ytrain)\n",
    "    y_predict = DT.predict(xtest)\n",
    "    precision.append(metrics.precision_score(ytest,y_predict))\n",
    "    recall.append(metrics.recall_score(ytest,y_predict))\n",
    "    fpr,tpr,_=metrics.roc_curve(ytest,y_predict)\n",
    "    roc_auc.append(metrics.auc(fpr,tpr))\n",
    "    accuracy.append(metrics.accuracy_score(ytest,y_predict))\n",
    "print(' Accuracy: %0.02f  Precision: %0.02f  Recall: %0.02f  ROC-AOC: %0.02F'\n",
    "      %(np.mean(accuracy),np.mean(precision),np.mean(recall),np.mean(roc_auc)))"
   ]
  },
  {
   "cell_type": "code",
   "execution_count": 66,
   "metadata": {},
   "outputs": [
    {
     "data": {
      "text/html": [
       "<div>\n",
       "<style scoped>\n",
       "    .dataframe tbody tr th:only-of-type {\n",
       "        vertical-align: middle;\n",
       "    }\n",
       "\n",
       "    .dataframe tbody tr th {\n",
       "        vertical-align: top;\n",
       "    }\n",
       "\n",
       "    .dataframe thead th {\n",
       "        text-align: right;\n",
       "    }\n",
       "</style>\n",
       "<table border=\"1\" class=\"dataframe\">\n",
       "  <thead>\n",
       "    <tr style=\"text-align: right;\">\n",
       "      <th></th>\n",
       "      <th>Scaling</th>\n",
       "      <th>Model</th>\n",
       "      <th>Accuracy</th>\n",
       "      <th>Precision</th>\n",
       "      <th>Recall</th>\n",
       "      <th>ROC-AUC</th>\n",
       "    </tr>\n",
       "  </thead>\n",
       "  <tbody>\n",
       "    <tr>\n",
       "      <th>0</th>\n",
       "      <td>Standard</td>\n",
       "      <td>Logistic Regression</td>\n",
       "      <td>0.560927</td>\n",
       "      <td>0.527719</td>\n",
       "      <td>0.391340</td>\n",
       "      <td>0.547769</td>\n",
       "    </tr>\n",
       "    <tr>\n",
       "      <th>0</th>\n",
       "      <td>Standard</td>\n",
       "      <td>Decision Tree</td>\n",
       "      <td>0.567833</td>\n",
       "      <td>0.535098</td>\n",
       "      <td>0.354889</td>\n",
       "      <td>0.550978</td>\n",
       "    </tr>\n",
       "    <tr>\n",
       "      <th>0</th>\n",
       "      <td>MinMax</td>\n",
       "      <td>Logistic Regression</td>\n",
       "      <td>0.564370</td>\n",
       "      <td>0.533324</td>\n",
       "      <td>0.389673</td>\n",
       "      <td>0.550706</td>\n",
       "    </tr>\n",
       "    <tr>\n",
       "      <th>0</th>\n",
       "      <td>MinMax</td>\n",
       "      <td>Decision Tree</td>\n",
       "      <td>0.580891</td>\n",
       "      <td>0.555105</td>\n",
       "      <td>0.433380</td>\n",
       "      <td>0.569397</td>\n",
       "    </tr>\n",
       "  </tbody>\n",
       "</table>\n",
       "</div>"
      ],
      "text/plain": [
       "    Scaling                Model  Accuracy  Precision    Recall   ROC-AUC\n",
       "0  Standard  Logistic Regression  0.560927   0.527719  0.391340  0.547769\n",
       "0  Standard        Decision Tree  0.567833   0.535098  0.354889  0.550978\n",
       "0    MinMax  Logistic Regression  0.564370   0.533324  0.389673  0.550706\n",
       "0    MinMax        Decision Tree  0.580891   0.555105  0.433380  0.569397"
      ]
     },
     "execution_count": 66,
     "metadata": {},
     "output_type": "execute_result"
    }
   ],
   "source": [
    "# Storing results in a dataframe\n",
    "tempResultsDf = pd.DataFrame({'Scaling':['MinMax'],'Model':['Decision Tree'], \n",
    "                          'Accuracy': [np.mean(accuracy)], 'Precision': [np.mean(precision)],\n",
    "                          'Recall':[np.mean(recall)],'ROC-AUC':[np.mean(roc_auc)]})\n",
    "resultsDf = pd.concat([resultsDf, tempResultsDf])\n",
    "resultsDf = resultsDf[['Scaling','Model', 'Accuracy', 'Precision','Recall','ROC-AUC']]\n",
    "resultsDf"
   ]
  },
  {
   "cell_type": "markdown",
   "metadata": {},
   "source": [
    "# Random Forest"
   ]
  },
  {
   "cell_type": "code",
   "execution_count": 67,
   "metadata": {},
   "outputs": [],
   "source": [
    "RT = RandomForestClassifier(random_state=0)"
   ]
  },
  {
   "cell_type": "code",
   "execution_count": 68,
   "metadata": {},
   "outputs": [
    {
     "data": {
      "text/plain": [
       "GridSearchCV(cv=3, error_score='raise-deprecating',\n",
       "       estimator=RandomForestClassifier(bootstrap=True, class_weight=None, criterion='gini',\n",
       "            max_depth=None, max_features='auto', max_leaf_nodes=None,\n",
       "            min_impurity_decrease=0.0, min_impurity_split=None,\n",
       "            min_samples_leaf=1, min_samples_split=2,\n",
       "            min_weight_fraction_leaf=0.0, n_estimators='warn', n_jobs=None,\n",
       "            oob_score=False, random_state=0, verbose=0, warm_start=False),\n",
       "       fit_params=None, iid='warn', n_jobs=None,\n",
       "       param_grid={'n_estimators': array([1, 2, 3, 4, 5, 6, 7, 8, 9]), 'max_depth': array([1, 2, 3, 4, 5, 6, 7, 8, 9])},\n",
       "       pre_dispatch='2*n_jobs', refit=True, return_train_score='warn',\n",
       "       scoring=None, verbose=0)"
      ]
     },
     "execution_count": 68,
     "metadata": {},
     "output_type": "execute_result"
    }
   ],
   "source": [
    "parameter ={'n_estimators':np.arange(1,10),'max_depth':np.arange(1,10)}\n",
    "GS=GridSearchCV(RT,parameter,cv=3)\n",
    "GS.fit(X,Y)"
   ]
  },
  {
   "cell_type": "code",
   "execution_count": 69,
   "metadata": {},
   "outputs": [
    {
     "data": {
      "text/plain": [
       "{'max_depth': 1, 'n_estimators': 1}"
      ]
     },
     "execution_count": 69,
     "metadata": {},
     "output_type": "execute_result"
    }
   ],
   "source": [
    "GS.best_params_"
   ]
  },
  {
   "cell_type": "code",
   "execution_count": 70,
   "metadata": {},
   "outputs": [],
   "source": [
    "RT = RandomForestClassifier(n_estimators=3,max_depth=5,random_state=0)"
   ]
  },
  {
   "cell_type": "markdown",
   "metadata": {},
   "source": [
    "# K Fold Cross Validation"
   ]
  },
  {
   "cell_type": "code",
   "execution_count": 71,
   "metadata": {},
   "outputs": [],
   "source": [
    "kf = KFold(n_splits=5,shuffle=True,random_state=0)"
   ]
  },
  {
   "cell_type": "code",
   "execution_count": 72,
   "metadata": {},
   "outputs": [
    {
     "name": "stdout",
     "output_type": "stream",
     "text": [
      " Accuracy: 0.56  Precision: 0.52  Recall: 0.36  ROC-AOC: 0.54\n"
     ]
    }
   ],
   "source": [
    "precision=[]\n",
    "recall  =[]\n",
    "roc_auc = []\n",
    "accuracy=[]\n",
    "for train,test in kf.split(X,Y):\n",
    "    xtrain,xtest=X.iloc[train,:],X.iloc[test,:]\n",
    "    ytrain,ytest=Y.iloc[train],Y.iloc[test]\n",
    "    RT.fit(xtrain,ytrain)\n",
    "    y_predict = RT.predict(xtest)\n",
    "    precision.append(metrics.precision_score(ytest,y_predict))\n",
    "    recall.append(metrics.recall_score(ytest,y_predict))\n",
    "    fpr,tpr,_=metrics.roc_curve(ytest,y_predict)\n",
    "    roc_auc.append(metrics.auc(fpr,tpr))\n",
    "    accuracy.append(metrics.accuracy_score(ytest,y_predict))\n",
    "print(' Accuracy: %0.02f  Precision: %0.02f  Recall: %0.02f  ROC-AOC: %0.02F'\n",
    "      %(np.mean(accuracy),np.mean(precision),np.mean(recall),np.mean(roc_auc)))"
   ]
  },
  {
   "cell_type": "code",
   "execution_count": 73,
   "metadata": {},
   "outputs": [
    {
     "data": {
      "text/html": [
       "<div>\n",
       "<style scoped>\n",
       "    .dataframe tbody tr th:only-of-type {\n",
       "        vertical-align: middle;\n",
       "    }\n",
       "\n",
       "    .dataframe tbody tr th {\n",
       "        vertical-align: top;\n",
       "    }\n",
       "\n",
       "    .dataframe thead th {\n",
       "        text-align: right;\n",
       "    }\n",
       "</style>\n",
       "<table border=\"1\" class=\"dataframe\">\n",
       "  <thead>\n",
       "    <tr style=\"text-align: right;\">\n",
       "      <th></th>\n",
       "      <th>Scaling</th>\n",
       "      <th>Model</th>\n",
       "      <th>Accuracy</th>\n",
       "      <th>Precision</th>\n",
       "      <th>Recall</th>\n",
       "      <th>ROC-AUC</th>\n",
       "    </tr>\n",
       "  </thead>\n",
       "  <tbody>\n",
       "    <tr>\n",
       "      <th>0</th>\n",
       "      <td>Standard</td>\n",
       "      <td>Logistic Regression</td>\n",
       "      <td>0.560927</td>\n",
       "      <td>0.527719</td>\n",
       "      <td>0.391340</td>\n",
       "      <td>0.547769</td>\n",
       "    </tr>\n",
       "    <tr>\n",
       "      <th>0</th>\n",
       "      <td>Standard</td>\n",
       "      <td>Decision Tree</td>\n",
       "      <td>0.567833</td>\n",
       "      <td>0.535098</td>\n",
       "      <td>0.354889</td>\n",
       "      <td>0.550978</td>\n",
       "    </tr>\n",
       "    <tr>\n",
       "      <th>0</th>\n",
       "      <td>MinMax</td>\n",
       "      <td>Logistic Regression</td>\n",
       "      <td>0.564370</td>\n",
       "      <td>0.533324</td>\n",
       "      <td>0.389673</td>\n",
       "      <td>0.550706</td>\n",
       "    </tr>\n",
       "    <tr>\n",
       "      <th>0</th>\n",
       "      <td>MinMax</td>\n",
       "      <td>Decision Tree</td>\n",
       "      <td>0.580891</td>\n",
       "      <td>0.555105</td>\n",
       "      <td>0.433380</td>\n",
       "      <td>0.569397</td>\n",
       "    </tr>\n",
       "    <tr>\n",
       "      <th>0</th>\n",
       "      <td>MinMax</td>\n",
       "      <td>Random Forest</td>\n",
       "      <td>0.555431</td>\n",
       "      <td>0.521858</td>\n",
       "      <td>0.360856</td>\n",
       "      <td>0.540039</td>\n",
       "    </tr>\n",
       "  </tbody>\n",
       "</table>\n",
       "</div>"
      ],
      "text/plain": [
       "    Scaling                Model  Accuracy  Precision    Recall   ROC-AUC\n",
       "0  Standard  Logistic Regression  0.560927   0.527719  0.391340  0.547769\n",
       "0  Standard        Decision Tree  0.567833   0.535098  0.354889  0.550978\n",
       "0    MinMax  Logistic Regression  0.564370   0.533324  0.389673  0.550706\n",
       "0    MinMax        Decision Tree  0.580891   0.555105  0.433380  0.569397\n",
       "0    MinMax        Random Forest  0.555431   0.521858  0.360856  0.540039"
      ]
     },
     "execution_count": 73,
     "metadata": {},
     "output_type": "execute_result"
    }
   ],
   "source": [
    "# Storing results in a dataframe\n",
    "tempResultsDf = pd.DataFrame({'Scaling':['MinMax'],'Model':['Random Forest'], \n",
    "                          'Accuracy': [np.mean(accuracy)], 'Precision': [np.mean(precision)],\n",
    "                          'Recall':[np.mean(recall)],'ROC-AUC':[np.mean(roc_auc)]})\n",
    "resultsDf = pd.concat([resultsDf, tempResultsDf])\n",
    "resultsDf = resultsDf[['Scaling','Model', 'Accuracy', 'Precision','Recall','ROC-AUC']]\n",
    "resultsDf"
   ]
  },
  {
   "cell_type": "markdown",
   "metadata": {},
   "source": [
    "# MAXABS Scalar"
   ]
  },
  {
   "cell_type": "markdown",
   "metadata": {},
   "source": [
    "# Logistic Regression"
   ]
  },
  {
   "cell_type": "code",
   "execution_count": 74,
   "metadata": {},
   "outputs": [],
   "source": [
    "X = ma_data.drop('Gender',axis=1)\n",
    "Y = data.Gender"
   ]
  },
  {
   "cell_type": "code",
   "execution_count": 75,
   "metadata": {},
   "outputs": [],
   "source": [
    "LR = LogisticRegression()"
   ]
  },
  {
   "cell_type": "markdown",
   "metadata": {},
   "source": [
    "# K Fold Cross Validation"
   ]
  },
  {
   "cell_type": "code",
   "execution_count": 76,
   "metadata": {},
   "outputs": [],
   "source": [
    "kf = KFold(n_splits=5,shuffle=True,random_state=0)"
   ]
  },
  {
   "cell_type": "code",
   "execution_count": 77,
   "metadata": {},
   "outputs": [
    {
     "name": "stdout",
     "output_type": "stream",
     "text": [
      " Accuracy: 0.56  Precision: 0.53  Recall: 0.39  ROC-AOC: 0.55\n"
     ]
    },
    {
     "name": "stderr",
     "output_type": "stream",
     "text": [
      "C:\\ProgramData\\Anaconda3\\lib\\site-packages\\sklearn\\linear_model\\logistic.py:433: FutureWarning: Default solver will be changed to 'lbfgs' in 0.22. Specify a solver to silence this warning.\n",
      "  FutureWarning)\n",
      "C:\\ProgramData\\Anaconda3\\lib\\site-packages\\sklearn\\linear_model\\logistic.py:433: FutureWarning: Default solver will be changed to 'lbfgs' in 0.22. Specify a solver to silence this warning.\n",
      "  FutureWarning)\n",
      "C:\\ProgramData\\Anaconda3\\lib\\site-packages\\sklearn\\linear_model\\logistic.py:433: FutureWarning: Default solver will be changed to 'lbfgs' in 0.22. Specify a solver to silence this warning.\n",
      "  FutureWarning)\n",
      "C:\\ProgramData\\Anaconda3\\lib\\site-packages\\sklearn\\linear_model\\logistic.py:433: FutureWarning: Default solver will be changed to 'lbfgs' in 0.22. Specify a solver to silence this warning.\n",
      "  FutureWarning)\n",
      "C:\\ProgramData\\Anaconda3\\lib\\site-packages\\sklearn\\linear_model\\logistic.py:433: FutureWarning: Default solver will be changed to 'lbfgs' in 0.22. Specify a solver to silence this warning.\n",
      "  FutureWarning)\n"
     ]
    }
   ],
   "source": [
    "precision=[]\n",
    "recall  =[]\n",
    "roc_auc = []\n",
    "accuracy=[]\n",
    "for train,test in kf.split(X,Y):\n",
    "    xtrain,xtest=X.iloc[train,:],X.iloc[test,:]\n",
    "    ytrain,ytest=Y.iloc[train],Y.iloc[test]\n",
    "    LR.fit(xtrain,ytrain)\n",
    "    y_predict = LR.predict(xtest)\n",
    "    precision.append(metrics.precision_score(ytest,y_predict))\n",
    "    recall.append(metrics.recall_score(ytest,y_predict))\n",
    "    fpr,tpr,_=metrics.roc_curve(ytest,y_predict)\n",
    "    roc_auc.append(metrics.auc(fpr,tpr))\n",
    "    accuracy.append(metrics.accuracy_score(ytest,y_predict))\n",
    "print(' Accuracy: %0.02f  Precision: %0.02f  Recall: %0.02f  ROC-AOC: %0.02F'\n",
    "      %(np.mean(accuracy),np.mean(precision),np.mean(recall),np.mean(roc_auc)))"
   ]
  },
  {
   "cell_type": "code",
   "execution_count": 78,
   "metadata": {},
   "outputs": [
    {
     "data": {
      "text/html": [
       "<div>\n",
       "<style scoped>\n",
       "    .dataframe tbody tr th:only-of-type {\n",
       "        vertical-align: middle;\n",
       "    }\n",
       "\n",
       "    .dataframe tbody tr th {\n",
       "        vertical-align: top;\n",
       "    }\n",
       "\n",
       "    .dataframe thead th {\n",
       "        text-align: right;\n",
       "    }\n",
       "</style>\n",
       "<table border=\"1\" class=\"dataframe\">\n",
       "  <thead>\n",
       "    <tr style=\"text-align: right;\">\n",
       "      <th></th>\n",
       "      <th>Scaling</th>\n",
       "      <th>Model</th>\n",
       "      <th>Accuracy</th>\n",
       "      <th>Precision</th>\n",
       "      <th>Recall</th>\n",
       "      <th>ROC-AUC</th>\n",
       "    </tr>\n",
       "  </thead>\n",
       "  <tbody>\n",
       "    <tr>\n",
       "      <th>0</th>\n",
       "      <td>Standard</td>\n",
       "      <td>Logistic Regression</td>\n",
       "      <td>0.560927</td>\n",
       "      <td>0.527719</td>\n",
       "      <td>0.391340</td>\n",
       "      <td>0.547769</td>\n",
       "    </tr>\n",
       "    <tr>\n",
       "      <th>0</th>\n",
       "      <td>Standard</td>\n",
       "      <td>Decision Tree</td>\n",
       "      <td>0.567833</td>\n",
       "      <td>0.535098</td>\n",
       "      <td>0.354889</td>\n",
       "      <td>0.550978</td>\n",
       "    </tr>\n",
       "    <tr>\n",
       "      <th>0</th>\n",
       "      <td>MinMax</td>\n",
       "      <td>Logistic Regression</td>\n",
       "      <td>0.564370</td>\n",
       "      <td>0.533324</td>\n",
       "      <td>0.389673</td>\n",
       "      <td>0.550706</td>\n",
       "    </tr>\n",
       "    <tr>\n",
       "      <th>0</th>\n",
       "      <td>MinMax</td>\n",
       "      <td>Decision Tree</td>\n",
       "      <td>0.580891</td>\n",
       "      <td>0.555105</td>\n",
       "      <td>0.433380</td>\n",
       "      <td>0.569397</td>\n",
       "    </tr>\n",
       "    <tr>\n",
       "      <th>0</th>\n",
       "      <td>MinMax</td>\n",
       "      <td>Random Forest</td>\n",
       "      <td>0.555431</td>\n",
       "      <td>0.521858</td>\n",
       "      <td>0.360856</td>\n",
       "      <td>0.540039</td>\n",
       "    </tr>\n",
       "    <tr>\n",
       "      <th>0</th>\n",
       "      <td>MaxAbs</td>\n",
       "      <td>Logistic Regression</td>\n",
       "      <td>0.563683</td>\n",
       "      <td>0.532241</td>\n",
       "      <td>0.389639</td>\n",
       "      <td>0.550048</td>\n",
       "    </tr>\n",
       "  </tbody>\n",
       "</table>\n",
       "</div>"
      ],
      "text/plain": [
       "    Scaling                Model  Accuracy  Precision    Recall   ROC-AUC\n",
       "0  Standard  Logistic Regression  0.560927   0.527719  0.391340  0.547769\n",
       "0  Standard        Decision Tree  0.567833   0.535098  0.354889  0.550978\n",
       "0    MinMax  Logistic Regression  0.564370   0.533324  0.389673  0.550706\n",
       "0    MinMax        Decision Tree  0.580891   0.555105  0.433380  0.569397\n",
       "0    MinMax        Random Forest  0.555431   0.521858  0.360856  0.540039\n",
       "0    MaxAbs  Logistic Regression  0.563683   0.532241  0.389639  0.550048"
      ]
     },
     "execution_count": 78,
     "metadata": {},
     "output_type": "execute_result"
    }
   ],
   "source": [
    "# Storing results in a dataframe\n",
    "tempResultsDf = pd.DataFrame({'Scaling':['MaxAbs'],'Model':['Logistic Regression'], \n",
    "                          'Accuracy': [np.mean(accuracy)], 'Precision': [np.mean(precision)],\n",
    "                          'Recall':[np.mean(recall)],'ROC-AUC':[np.mean(roc_auc)]})\n",
    "resultsDf = pd.concat([resultsDf, tempResultsDf])\n",
    "resultsDf = resultsDf[['Scaling','Model', 'Accuracy', 'Precision','Recall','ROC-AUC']]\n",
    "resultsDf"
   ]
  },
  {
   "cell_type": "markdown",
   "metadata": {},
   "source": [
    "# Decision Tree"
   ]
  },
  {
   "cell_type": "code",
   "execution_count": 79,
   "metadata": {},
   "outputs": [],
   "source": [
    "DT = DecisionTreeClassifier()"
   ]
  },
  {
   "cell_type": "code",
   "execution_count": 80,
   "metadata": {},
   "outputs": [
    {
     "data": {
      "text/plain": [
       "GridSearchCV(cv=3, error_score='raise-deprecating',\n",
       "       estimator=DecisionTreeClassifier(class_weight=None, criterion='gini', max_depth=None,\n",
       "            max_features=None, max_leaf_nodes=None,\n",
       "            min_impurity_decrease=0.0, min_impurity_split=None,\n",
       "            min_samples_leaf=1, min_samples_split=2,\n",
       "            min_weight_fraction_leaf=0.0, presort=False, random_state=None,\n",
       "            splitter='best'),\n",
       "       fit_params=None, iid='warn', n_jobs=None,\n",
       "       param_grid={'max_depth': array([1, 2, 3, 4, 5, 6, 7, 8, 9])},\n",
       "       pre_dispatch='2*n_jobs', refit=True, return_train_score='warn',\n",
       "       scoring=None, verbose=0)"
      ]
     },
     "execution_count": 80,
     "metadata": {},
     "output_type": "execute_result"
    }
   ],
   "source": [
    "parameter ={'max_depth':np.arange(1,10)}\n",
    "GS=GridSearchCV(DT,parameter,cv=3)\n",
    "GS.fit(X,Y)"
   ]
  },
  {
   "cell_type": "code",
   "execution_count": 81,
   "metadata": {},
   "outputs": [
    {
     "data": {
      "text/plain": [
       "{'max_depth': 1}"
      ]
     },
     "execution_count": 81,
     "metadata": {},
     "output_type": "execute_result"
    }
   ],
   "source": [
    "GS.best_params_"
   ]
  },
  {
   "cell_type": "code",
   "execution_count": 82,
   "metadata": {},
   "outputs": [],
   "source": [
    "DT = DecisionTreeClassifier(max_depth=1)"
   ]
  },
  {
   "cell_type": "markdown",
   "metadata": {},
   "source": [
    "# K Fold Cross Validation"
   ]
  },
  {
   "cell_type": "code",
   "execution_count": 83,
   "metadata": {},
   "outputs": [],
   "source": [
    "kf = KFold(n_splits=5,shuffle=True,random_state=0)"
   ]
  },
  {
   "cell_type": "code",
   "execution_count": 84,
   "metadata": {},
   "outputs": [
    {
     "name": "stdout",
     "output_type": "stream",
     "text": [
      " Accuracy: 0.58  Precision: 0.56  Recall: 0.43  ROC-AOC: 0.57\n"
     ]
    }
   ],
   "source": [
    "precision=[]\n",
    "recall  =[]\n",
    "roc_auc = []\n",
    "accuracy=[]\n",
    "for train,test in kf.split(X,Y):\n",
    "    xtrain,xtest=X.iloc[train,:],X.iloc[test,:]\n",
    "    ytrain,ytest=Y.iloc[train],Y.iloc[test]\n",
    "    DT.fit(xtrain,ytrain)\n",
    "    y_predict = DT.predict(xtest)\n",
    "    precision.append(metrics.precision_score(ytest,y_predict))\n",
    "    recall.append(metrics.recall_score(ytest,y_predict))\n",
    "    fpr,tpr,_=metrics.roc_curve(ytest,y_predict)\n",
    "    roc_auc.append(metrics.auc(fpr,tpr))\n",
    "    accuracy.append(metrics.accuracy_score(ytest,y_predict))\n",
    "print(' Accuracy: %0.02f  Precision: %0.02f  Recall: %0.02f  ROC-AOC: %0.02F'\n",
    "      %(np.mean(accuracy),np.mean(precision),np.mean(recall),np.mean(roc_auc)))"
   ]
  },
  {
   "cell_type": "code",
   "execution_count": 85,
   "metadata": {},
   "outputs": [
    {
     "data": {
      "text/html": [
       "<div>\n",
       "<style scoped>\n",
       "    .dataframe tbody tr th:only-of-type {\n",
       "        vertical-align: middle;\n",
       "    }\n",
       "\n",
       "    .dataframe tbody tr th {\n",
       "        vertical-align: top;\n",
       "    }\n",
       "\n",
       "    .dataframe thead th {\n",
       "        text-align: right;\n",
       "    }\n",
       "</style>\n",
       "<table border=\"1\" class=\"dataframe\">\n",
       "  <thead>\n",
       "    <tr style=\"text-align: right;\">\n",
       "      <th></th>\n",
       "      <th>Scaling</th>\n",
       "      <th>Model</th>\n",
       "      <th>Accuracy</th>\n",
       "      <th>Precision</th>\n",
       "      <th>Recall</th>\n",
       "      <th>ROC-AUC</th>\n",
       "    </tr>\n",
       "  </thead>\n",
       "  <tbody>\n",
       "    <tr>\n",
       "      <th>0</th>\n",
       "      <td>Standard</td>\n",
       "      <td>Logistic Regression</td>\n",
       "      <td>0.560927</td>\n",
       "      <td>0.527719</td>\n",
       "      <td>0.391340</td>\n",
       "      <td>0.547769</td>\n",
       "    </tr>\n",
       "    <tr>\n",
       "      <th>0</th>\n",
       "      <td>Standard</td>\n",
       "      <td>Decision Tree</td>\n",
       "      <td>0.567833</td>\n",
       "      <td>0.535098</td>\n",
       "      <td>0.354889</td>\n",
       "      <td>0.550978</td>\n",
       "    </tr>\n",
       "    <tr>\n",
       "      <th>0</th>\n",
       "      <td>MinMax</td>\n",
       "      <td>Logistic Regression</td>\n",
       "      <td>0.564370</td>\n",
       "      <td>0.533324</td>\n",
       "      <td>0.389673</td>\n",
       "      <td>0.550706</td>\n",
       "    </tr>\n",
       "    <tr>\n",
       "      <th>0</th>\n",
       "      <td>MinMax</td>\n",
       "      <td>Decision Tree</td>\n",
       "      <td>0.580891</td>\n",
       "      <td>0.555105</td>\n",
       "      <td>0.433380</td>\n",
       "      <td>0.569397</td>\n",
       "    </tr>\n",
       "    <tr>\n",
       "      <th>0</th>\n",
       "      <td>MinMax</td>\n",
       "      <td>Random Forest</td>\n",
       "      <td>0.555431</td>\n",
       "      <td>0.521858</td>\n",
       "      <td>0.360856</td>\n",
       "      <td>0.540039</td>\n",
       "    </tr>\n",
       "    <tr>\n",
       "      <th>0</th>\n",
       "      <td>MaxAbs</td>\n",
       "      <td>Logistic Regression</td>\n",
       "      <td>0.563683</td>\n",
       "      <td>0.532241</td>\n",
       "      <td>0.389639</td>\n",
       "      <td>0.550048</td>\n",
       "    </tr>\n",
       "    <tr>\n",
       "      <th>0</th>\n",
       "      <td>MaxABS</td>\n",
       "      <td>Decision Tree</td>\n",
       "      <td>0.580891</td>\n",
       "      <td>0.555105</td>\n",
       "      <td>0.433380</td>\n",
       "      <td>0.569397</td>\n",
       "    </tr>\n",
       "  </tbody>\n",
       "</table>\n",
       "</div>"
      ],
      "text/plain": [
       "    Scaling                Model  Accuracy  Precision    Recall   ROC-AUC\n",
       "0  Standard  Logistic Regression  0.560927   0.527719  0.391340  0.547769\n",
       "0  Standard        Decision Tree  0.567833   0.535098  0.354889  0.550978\n",
       "0    MinMax  Logistic Regression  0.564370   0.533324  0.389673  0.550706\n",
       "0    MinMax        Decision Tree  0.580891   0.555105  0.433380  0.569397\n",
       "0    MinMax        Random Forest  0.555431   0.521858  0.360856  0.540039\n",
       "0    MaxAbs  Logistic Regression  0.563683   0.532241  0.389639  0.550048\n",
       "0    MaxABS        Decision Tree  0.580891   0.555105  0.433380  0.569397"
      ]
     },
     "execution_count": 85,
     "metadata": {},
     "output_type": "execute_result"
    }
   ],
   "source": [
    "# Storing results in a dataframe\n",
    "tempResultsDf = pd.DataFrame({'Scaling':['MaxABS'],'Model':['Decision Tree'], \n",
    "                          'Accuracy': [np.mean(accuracy)], 'Precision': [np.mean(precision)],\n",
    "                          'Recall':[np.mean(recall)],'ROC-AUC':[np.mean(roc_auc)]})\n",
    "resultsDf = pd.concat([resultsDf, tempResultsDf])\n",
    "resultsDf = resultsDf[['Scaling','Model', 'Accuracy', 'Precision','Recall','ROC-AUC']]\n",
    "resultsDf"
   ]
  },
  {
   "cell_type": "markdown",
   "metadata": {},
   "source": [
    "# Random Forest"
   ]
  },
  {
   "cell_type": "code",
   "execution_count": 86,
   "metadata": {},
   "outputs": [],
   "source": [
    "RT = RandomForestClassifier(random_state=0)"
   ]
  },
  {
   "cell_type": "code",
   "execution_count": 87,
   "metadata": {},
   "outputs": [
    {
     "data": {
      "text/plain": [
       "GridSearchCV(cv=3, error_score='raise-deprecating',\n",
       "       estimator=RandomForestClassifier(bootstrap=True, class_weight=None, criterion='gini',\n",
       "            max_depth=None, max_features='auto', max_leaf_nodes=None,\n",
       "            min_impurity_decrease=0.0, min_impurity_split=None,\n",
       "            min_samples_leaf=1, min_samples_split=2,\n",
       "            min_weight_fraction_leaf=0.0, n_estimators='warn', n_jobs=None,\n",
       "            oob_score=False, random_state=0, verbose=0, warm_start=False),\n",
       "       fit_params=None, iid='warn', n_jobs=None,\n",
       "       param_grid={'n_estimators': array([1, 2, 3, 4, 5, 6, 7, 8, 9]), 'max_depth': array([1, 2, 3, 4, 5, 6, 7, 8, 9])},\n",
       "       pre_dispatch='2*n_jobs', refit=True, return_train_score='warn',\n",
       "       scoring=None, verbose=0)"
      ]
     },
     "execution_count": 87,
     "metadata": {},
     "output_type": "execute_result"
    }
   ],
   "source": [
    "parameter ={'n_estimators':np.arange(1,10),'max_depth':np.arange(1,10)}\n",
    "GS=GridSearchCV(RT,parameter,cv=3)\n",
    "GS.fit(X,Y)"
   ]
  },
  {
   "cell_type": "code",
   "execution_count": 88,
   "metadata": {},
   "outputs": [
    {
     "data": {
      "text/plain": [
       "{'max_depth': 1, 'n_estimators': 1}"
      ]
     },
     "execution_count": 88,
     "metadata": {},
     "output_type": "execute_result"
    }
   ],
   "source": [
    "GS.best_params_"
   ]
  },
  {
   "cell_type": "code",
   "execution_count": 89,
   "metadata": {},
   "outputs": [],
   "source": [
    "RT = RandomForestClassifier(n_estimators=3,max_depth=5,random_state=0)"
   ]
  },
  {
   "cell_type": "markdown",
   "metadata": {},
   "source": [
    "# K Fold Cross Validation"
   ]
  },
  {
   "cell_type": "code",
   "execution_count": 90,
   "metadata": {},
   "outputs": [],
   "source": [
    "kf = KFold(n_splits=5,shuffle=True,random_state=0)"
   ]
  },
  {
   "cell_type": "code",
   "execution_count": 91,
   "metadata": {},
   "outputs": [
    {
     "name": "stdout",
     "output_type": "stream",
     "text": [
      " Accuracy: 0.55  Precision: 0.52  Recall: 0.36  ROC-AOC: 0.54\n"
     ]
    }
   ],
   "source": [
    "precision=[]\n",
    "recall  =[]\n",
    "roc_auc = []\n",
    "accuracy=[]\n",
    "for train,test in kf.split(X,Y):\n",
    "    xtrain,xtest=X.iloc[train,:],X.iloc[test,:]\n",
    "    ytrain,ytest=Y.iloc[train],Y.iloc[test]\n",
    "    RT.fit(xtrain,ytrain)\n",
    "    y_predict = RT.predict(xtest)\n",
    "    precision.append(metrics.precision_score(ytest,y_predict))\n",
    "    recall.append(metrics.recall_score(ytest,y_predict))\n",
    "    fpr,tpr,_=metrics.roc_curve(ytest,y_predict)\n",
    "    roc_auc.append(metrics.auc(fpr,tpr))\n",
    "    accuracy.append(metrics.accuracy_score(ytest,y_predict))\n",
    "print(' Accuracy: %0.02f  Precision: %0.02f  Recall: %0.02f  ROC-AOC: %0.02F'\n",
    "      %(np.mean(accuracy),np.mean(precision),np.mean(recall),np.mean(roc_auc)))"
   ]
  },
  {
   "cell_type": "code",
   "execution_count": 92,
   "metadata": {},
   "outputs": [
    {
     "data": {
      "text/html": [
       "<div>\n",
       "<style scoped>\n",
       "    .dataframe tbody tr th:only-of-type {\n",
       "        vertical-align: middle;\n",
       "    }\n",
       "\n",
       "    .dataframe tbody tr th {\n",
       "        vertical-align: top;\n",
       "    }\n",
       "\n",
       "    .dataframe thead th {\n",
       "        text-align: right;\n",
       "    }\n",
       "</style>\n",
       "<table border=\"1\" class=\"dataframe\">\n",
       "  <thead>\n",
       "    <tr style=\"text-align: right;\">\n",
       "      <th></th>\n",
       "      <th>Scaling</th>\n",
       "      <th>Model</th>\n",
       "      <th>Accuracy</th>\n",
       "      <th>Precision</th>\n",
       "      <th>Recall</th>\n",
       "      <th>ROC-AUC</th>\n",
       "    </tr>\n",
       "  </thead>\n",
       "  <tbody>\n",
       "    <tr>\n",
       "      <th>0</th>\n",
       "      <td>Standard</td>\n",
       "      <td>Logistic Regression</td>\n",
       "      <td>0.560927</td>\n",
       "      <td>0.527719</td>\n",
       "      <td>0.391340</td>\n",
       "      <td>0.547769</td>\n",
       "    </tr>\n",
       "    <tr>\n",
       "      <th>0</th>\n",
       "      <td>Standard</td>\n",
       "      <td>Decision Tree</td>\n",
       "      <td>0.567833</td>\n",
       "      <td>0.535098</td>\n",
       "      <td>0.354889</td>\n",
       "      <td>0.550978</td>\n",
       "    </tr>\n",
       "    <tr>\n",
       "      <th>0</th>\n",
       "      <td>MinMax</td>\n",
       "      <td>Logistic Regression</td>\n",
       "      <td>0.564370</td>\n",
       "      <td>0.533324</td>\n",
       "      <td>0.389673</td>\n",
       "      <td>0.550706</td>\n",
       "    </tr>\n",
       "    <tr>\n",
       "      <th>0</th>\n",
       "      <td>MinMax</td>\n",
       "      <td>Decision Tree</td>\n",
       "      <td>0.580891</td>\n",
       "      <td>0.555105</td>\n",
       "      <td>0.433380</td>\n",
       "      <td>0.569397</td>\n",
       "    </tr>\n",
       "    <tr>\n",
       "      <th>0</th>\n",
       "      <td>MinMax</td>\n",
       "      <td>Random Forest</td>\n",
       "      <td>0.555431</td>\n",
       "      <td>0.521858</td>\n",
       "      <td>0.360856</td>\n",
       "      <td>0.540039</td>\n",
       "    </tr>\n",
       "    <tr>\n",
       "      <th>0</th>\n",
       "      <td>MaxAbs</td>\n",
       "      <td>Logistic Regression</td>\n",
       "      <td>0.563683</td>\n",
       "      <td>0.532241</td>\n",
       "      <td>0.389639</td>\n",
       "      <td>0.550048</td>\n",
       "    </tr>\n",
       "    <tr>\n",
       "      <th>0</th>\n",
       "      <td>MaxABS</td>\n",
       "      <td>Decision Tree</td>\n",
       "      <td>0.580891</td>\n",
       "      <td>0.555105</td>\n",
       "      <td>0.433380</td>\n",
       "      <td>0.569397</td>\n",
       "    </tr>\n",
       "    <tr>\n",
       "      <th>0</th>\n",
       "      <td>MaxABS</td>\n",
       "      <td>Random Forest</td>\n",
       "      <td>0.554743</td>\n",
       "      <td>0.520918</td>\n",
       "      <td>0.359375</td>\n",
       "      <td>0.539298</td>\n",
       "    </tr>\n",
       "  </tbody>\n",
       "</table>\n",
       "</div>"
      ],
      "text/plain": [
       "    Scaling                Model  Accuracy  Precision    Recall   ROC-AUC\n",
       "0  Standard  Logistic Regression  0.560927   0.527719  0.391340  0.547769\n",
       "0  Standard        Decision Tree  0.567833   0.535098  0.354889  0.550978\n",
       "0    MinMax  Logistic Regression  0.564370   0.533324  0.389673  0.550706\n",
       "0    MinMax        Decision Tree  0.580891   0.555105  0.433380  0.569397\n",
       "0    MinMax        Random Forest  0.555431   0.521858  0.360856  0.540039\n",
       "0    MaxAbs  Logistic Regression  0.563683   0.532241  0.389639  0.550048\n",
       "0    MaxABS        Decision Tree  0.580891   0.555105  0.433380  0.569397\n",
       "0    MaxABS        Random Forest  0.554743   0.520918  0.359375  0.539298"
      ]
     },
     "execution_count": 92,
     "metadata": {},
     "output_type": "execute_result"
    }
   ],
   "source": [
    "# Storing results in a dataframe\n",
    "tempResultsDf = pd.DataFrame({'Scaling':['MaxABS'],'Model':['Random Forest'], \n",
    "                          'Accuracy': [np.mean(accuracy)], 'Precision': [np.mean(precision)],\n",
    "                          'Recall':[np.mean(recall)],'ROC-AUC':[np.mean(roc_auc)]})\n",
    "resultsDf = pd.concat([resultsDf, tempResultsDf])\n",
    "resultsDf = resultsDf[['Scaling','Model', 'Accuracy', 'Precision','Recall','ROC-AUC']]\n",
    "resultsDf"
   ]
  },
  {
   "cell_type": "markdown",
   "metadata": {},
   "source": [
    "# Robust Scalar"
   ]
  },
  {
   "cell_type": "markdown",
   "metadata": {},
   "source": [
    "# Logistic Regression"
   ]
  },
  {
   "cell_type": "code",
   "execution_count": 93,
   "metadata": {},
   "outputs": [],
   "source": [
    "X = rs_data.drop('Gender',axis=1)\n",
    "Y = data.Gender"
   ]
  },
  {
   "cell_type": "code",
   "execution_count": 94,
   "metadata": {},
   "outputs": [],
   "source": [
    "LR = LogisticRegression()"
   ]
  },
  {
   "cell_type": "markdown",
   "metadata": {},
   "source": [
    "# K Fold Cross Validation"
   ]
  },
  {
   "cell_type": "code",
   "execution_count": 95,
   "metadata": {},
   "outputs": [],
   "source": [
    "kf = KFold(n_splits=5,shuffle=True,random_state=0)"
   ]
  },
  {
   "cell_type": "code",
   "execution_count": 96,
   "metadata": {},
   "outputs": [
    {
     "name": "stdout",
     "output_type": "stream",
     "text": [
      " Accuracy: 0.57  Precision: 0.54  Recall: 0.39  ROC-AOC: 0.55\n"
     ]
    },
    {
     "name": "stderr",
     "output_type": "stream",
     "text": [
      "C:\\ProgramData\\Anaconda3\\lib\\site-packages\\sklearn\\linear_model\\logistic.py:433: FutureWarning: Default solver will be changed to 'lbfgs' in 0.22. Specify a solver to silence this warning.\n",
      "  FutureWarning)\n",
      "C:\\ProgramData\\Anaconda3\\lib\\site-packages\\sklearn\\linear_model\\logistic.py:433: FutureWarning: Default solver will be changed to 'lbfgs' in 0.22. Specify a solver to silence this warning.\n",
      "  FutureWarning)\n",
      "C:\\ProgramData\\Anaconda3\\lib\\site-packages\\sklearn\\linear_model\\logistic.py:433: FutureWarning: Default solver will be changed to 'lbfgs' in 0.22. Specify a solver to silence this warning.\n",
      "  FutureWarning)\n",
      "C:\\ProgramData\\Anaconda3\\lib\\site-packages\\sklearn\\linear_model\\logistic.py:433: FutureWarning: Default solver will be changed to 'lbfgs' in 0.22. Specify a solver to silence this warning.\n",
      "  FutureWarning)\n",
      "C:\\ProgramData\\Anaconda3\\lib\\site-packages\\sklearn\\linear_model\\logistic.py:433: FutureWarning: Default solver will be changed to 'lbfgs' in 0.22. Specify a solver to silence this warning.\n",
      "  FutureWarning)\n"
     ]
    }
   ],
   "source": [
    "precision=[]\n",
    "recall  =[]\n",
    "roc_auc = []\n",
    "accuracy=[]\n",
    "for train,test in kf.split(X,Y):\n",
    "    xtrain,xtest=X.iloc[train,:],X.iloc[test,:]\n",
    "    ytrain,ytest=Y.iloc[train],Y.iloc[test]\n",
    "    LR.fit(xtrain,ytrain)\n",
    "    y_predict = LR.predict(xtest)\n",
    "    precision.append(metrics.precision_score(ytest,y_predict))\n",
    "    recall.append(metrics.recall_score(ytest,y_predict))\n",
    "    fpr,tpr,_=metrics.roc_curve(ytest,y_predict)\n",
    "    roc_auc.append(metrics.auc(fpr,tpr))\n",
    "    accuracy.append(metrics.accuracy_score(ytest,y_predict))\n",
    "print(' Accuracy: %0.02f  Precision: %0.02f  Recall: %0.02f  ROC-AOC: %0.02F'\n",
    "      %(np.mean(accuracy),np.mean(precision),np.mean(recall),np.mean(roc_auc)))"
   ]
  },
  {
   "cell_type": "code",
   "execution_count": 97,
   "metadata": {},
   "outputs": [
    {
     "data": {
      "text/html": [
       "<div>\n",
       "<style scoped>\n",
       "    .dataframe tbody tr th:only-of-type {\n",
       "        vertical-align: middle;\n",
       "    }\n",
       "\n",
       "    .dataframe tbody tr th {\n",
       "        vertical-align: top;\n",
       "    }\n",
       "\n",
       "    .dataframe thead th {\n",
       "        text-align: right;\n",
       "    }\n",
       "</style>\n",
       "<table border=\"1\" class=\"dataframe\">\n",
       "  <thead>\n",
       "    <tr style=\"text-align: right;\">\n",
       "      <th></th>\n",
       "      <th>Scaling</th>\n",
       "      <th>Model</th>\n",
       "      <th>Accuracy</th>\n",
       "      <th>Precision</th>\n",
       "      <th>Recall</th>\n",
       "      <th>ROC-AUC</th>\n",
       "    </tr>\n",
       "  </thead>\n",
       "  <tbody>\n",
       "    <tr>\n",
       "      <th>0</th>\n",
       "      <td>Standard</td>\n",
       "      <td>Logistic Regression</td>\n",
       "      <td>0.560927</td>\n",
       "      <td>0.527719</td>\n",
       "      <td>0.391340</td>\n",
       "      <td>0.547769</td>\n",
       "    </tr>\n",
       "    <tr>\n",
       "      <th>0</th>\n",
       "      <td>Standard</td>\n",
       "      <td>Decision Tree</td>\n",
       "      <td>0.567833</td>\n",
       "      <td>0.535098</td>\n",
       "      <td>0.354889</td>\n",
       "      <td>0.550978</td>\n",
       "    </tr>\n",
       "    <tr>\n",
       "      <th>0</th>\n",
       "      <td>MinMax</td>\n",
       "      <td>Logistic Regression</td>\n",
       "      <td>0.564370</td>\n",
       "      <td>0.533324</td>\n",
       "      <td>0.389673</td>\n",
       "      <td>0.550706</td>\n",
       "    </tr>\n",
       "    <tr>\n",
       "      <th>0</th>\n",
       "      <td>MinMax</td>\n",
       "      <td>Decision Tree</td>\n",
       "      <td>0.580891</td>\n",
       "      <td>0.555105</td>\n",
       "      <td>0.433380</td>\n",
       "      <td>0.569397</td>\n",
       "    </tr>\n",
       "    <tr>\n",
       "      <th>0</th>\n",
       "      <td>MinMax</td>\n",
       "      <td>Random Forest</td>\n",
       "      <td>0.555431</td>\n",
       "      <td>0.521858</td>\n",
       "      <td>0.360856</td>\n",
       "      <td>0.540039</td>\n",
       "    </tr>\n",
       "    <tr>\n",
       "      <th>0</th>\n",
       "      <td>MaxAbs</td>\n",
       "      <td>Logistic Regression</td>\n",
       "      <td>0.563683</td>\n",
       "      <td>0.532241</td>\n",
       "      <td>0.389639</td>\n",
       "      <td>0.550048</td>\n",
       "    </tr>\n",
       "    <tr>\n",
       "      <th>0</th>\n",
       "      <td>MaxABS</td>\n",
       "      <td>Decision Tree</td>\n",
       "      <td>0.580891</td>\n",
       "      <td>0.555105</td>\n",
       "      <td>0.433380</td>\n",
       "      <td>0.569397</td>\n",
       "    </tr>\n",
       "    <tr>\n",
       "      <th>0</th>\n",
       "      <td>MaxABS</td>\n",
       "      <td>Random Forest</td>\n",
       "      <td>0.554743</td>\n",
       "      <td>0.520918</td>\n",
       "      <td>0.359375</td>\n",
       "      <td>0.539298</td>\n",
       "    </tr>\n",
       "    <tr>\n",
       "      <th>0</th>\n",
       "      <td>Robust</td>\n",
       "      <td>Logistic Regression</td>\n",
       "      <td>0.565745</td>\n",
       "      <td>0.535218</td>\n",
       "      <td>0.394348</td>\n",
       "      <td>0.552442</td>\n",
       "    </tr>\n",
       "  </tbody>\n",
       "</table>\n",
       "</div>"
      ],
      "text/plain": [
       "    Scaling                Model  Accuracy  Precision    Recall   ROC-AUC\n",
       "0  Standard  Logistic Regression  0.560927   0.527719  0.391340  0.547769\n",
       "0  Standard        Decision Tree  0.567833   0.535098  0.354889  0.550978\n",
       "0    MinMax  Logistic Regression  0.564370   0.533324  0.389673  0.550706\n",
       "0    MinMax        Decision Tree  0.580891   0.555105  0.433380  0.569397\n",
       "0    MinMax        Random Forest  0.555431   0.521858  0.360856  0.540039\n",
       "0    MaxAbs  Logistic Regression  0.563683   0.532241  0.389639  0.550048\n",
       "0    MaxABS        Decision Tree  0.580891   0.555105  0.433380  0.569397\n",
       "0    MaxABS        Random Forest  0.554743   0.520918  0.359375  0.539298\n",
       "0    Robust  Logistic Regression  0.565745   0.535218  0.394348  0.552442"
      ]
     },
     "execution_count": 97,
     "metadata": {},
     "output_type": "execute_result"
    }
   ],
   "source": [
    "# Storing results in a dataframe\n",
    "tempResultsDf = pd.DataFrame({'Scaling':['Robust'],'Model':['Logistic Regression'], \n",
    "                          'Accuracy': [np.mean(accuracy)], 'Precision': [np.mean(precision)],\n",
    "                          'Recall':[np.mean(recall)],'ROC-AUC':[np.mean(roc_auc)]})\n",
    "resultsDf = pd.concat([resultsDf, tempResultsDf])\n",
    "resultsDf = resultsDf[['Scaling','Model', 'Accuracy', 'Precision','Recall','ROC-AUC']]\n",
    "resultsDf"
   ]
  },
  {
   "cell_type": "markdown",
   "metadata": {},
   "source": [
    "# Decision Tree"
   ]
  },
  {
   "cell_type": "code",
   "execution_count": 98,
   "metadata": {},
   "outputs": [],
   "source": [
    "DT = DecisionTreeClassifier()"
   ]
  },
  {
   "cell_type": "code",
   "execution_count": 99,
   "metadata": {},
   "outputs": [
    {
     "data": {
      "text/plain": [
       "GridSearchCV(cv=3, error_score='raise-deprecating',\n",
       "       estimator=DecisionTreeClassifier(class_weight=None, criterion='gini', max_depth=None,\n",
       "            max_features=None, max_leaf_nodes=None,\n",
       "            min_impurity_decrease=0.0, min_impurity_split=None,\n",
       "            min_samples_leaf=1, min_samples_split=2,\n",
       "            min_weight_fraction_leaf=0.0, presort=False, random_state=None,\n",
       "            splitter='best'),\n",
       "       fit_params=None, iid='warn', n_jobs=None,\n",
       "       param_grid={'max_depth': array([1, 2, 3, 4, 5, 6, 7, 8, 9])},\n",
       "       pre_dispatch='2*n_jobs', refit=True, return_train_score='warn',\n",
       "       scoring=None, verbose=0)"
      ]
     },
     "execution_count": 99,
     "metadata": {},
     "output_type": "execute_result"
    }
   ],
   "source": [
    "parameter ={'max_depth':np.arange(1,10)}\n",
    "GS=GridSearchCV(DT,parameter,cv=3)\n",
    "GS.fit(X,Y)"
   ]
  },
  {
   "cell_type": "code",
   "execution_count": 100,
   "metadata": {
    "scrolled": true
   },
   "outputs": [
    {
     "data": {
      "text/plain": [
       "{'max_depth': 1}"
      ]
     },
     "execution_count": 100,
     "metadata": {},
     "output_type": "execute_result"
    }
   ],
   "source": [
    "GS.best_params_"
   ]
  },
  {
   "cell_type": "code",
   "execution_count": 102,
   "metadata": {},
   "outputs": [],
   "source": [
    "DT = DecisionTreeClassifier(max_depth=1)"
   ]
  },
  {
   "cell_type": "markdown",
   "metadata": {},
   "source": [
    "# K Fold Cross Validation"
   ]
  },
  {
   "cell_type": "code",
   "execution_count": 103,
   "metadata": {},
   "outputs": [],
   "source": [
    "kf = KFold(n_splits=5,shuffle=True,random_state=0)"
   ]
  },
  {
   "cell_type": "code",
   "execution_count": 104,
   "metadata": {},
   "outputs": [
    {
     "name": "stdout",
     "output_type": "stream",
     "text": [
      " Accuracy: 0.57  Precision: 0.54  Recall: 0.39  ROC-AOC: 0.55\n"
     ]
    },
    {
     "name": "stderr",
     "output_type": "stream",
     "text": [
      "C:\\ProgramData\\Anaconda3\\lib\\site-packages\\sklearn\\linear_model\\logistic.py:433: FutureWarning: Default solver will be changed to 'lbfgs' in 0.22. Specify a solver to silence this warning.\n",
      "  FutureWarning)\n",
      "C:\\ProgramData\\Anaconda3\\lib\\site-packages\\sklearn\\linear_model\\logistic.py:433: FutureWarning: Default solver will be changed to 'lbfgs' in 0.22. Specify a solver to silence this warning.\n",
      "  FutureWarning)\n",
      "C:\\ProgramData\\Anaconda3\\lib\\site-packages\\sklearn\\linear_model\\logistic.py:433: FutureWarning: Default solver will be changed to 'lbfgs' in 0.22. Specify a solver to silence this warning.\n",
      "  FutureWarning)\n",
      "C:\\ProgramData\\Anaconda3\\lib\\site-packages\\sklearn\\linear_model\\logistic.py:433: FutureWarning: Default solver will be changed to 'lbfgs' in 0.22. Specify a solver to silence this warning.\n",
      "  FutureWarning)\n",
      "C:\\ProgramData\\Anaconda3\\lib\\site-packages\\sklearn\\linear_model\\logistic.py:433: FutureWarning: Default solver will be changed to 'lbfgs' in 0.22. Specify a solver to silence this warning.\n",
      "  FutureWarning)\n"
     ]
    }
   ],
   "source": [
    "precision=[]\n",
    "recall  =[]\n",
    "roc_auc = []\n",
    "accuracy=[]\n",
    "for train,test in kf.split(X,Y):\n",
    "    xtrain,xtest=X.iloc[train,:],X.iloc[test,:]\n",
    "    ytrain,ytest=Y.iloc[train],Y.iloc[test]\n",
    "    LR.fit(xtrain,ytrain)\n",
    "    y_predict = LR.predict(xtest)\n",
    "    precision.append(metrics.precision_score(ytest,y_predict))\n",
    "    recall.append(metrics.recall_score(ytest,y_predict))\n",
    "    fpr,tpr,_=metrics.roc_curve(ytest,y_predict)\n",
    "    roc_auc.append(metrics.auc(fpr,tpr))\n",
    "    accuracy.append(metrics.accuracy_score(ytest,y_predict))\n",
    "print(' Accuracy: %0.02f  Precision: %0.02f  Recall: %0.02f  ROC-AOC: %0.02F'\n",
    "      %(np.mean(accuracy),np.mean(precision),np.mean(recall),np.mean(roc_auc)))"
   ]
  },
  {
   "cell_type": "code",
   "execution_count": 105,
   "metadata": {},
   "outputs": [
    {
     "data": {
      "text/html": [
       "<div>\n",
       "<style scoped>\n",
       "    .dataframe tbody tr th:only-of-type {\n",
       "        vertical-align: middle;\n",
       "    }\n",
       "\n",
       "    .dataframe tbody tr th {\n",
       "        vertical-align: top;\n",
       "    }\n",
       "\n",
       "    .dataframe thead th {\n",
       "        text-align: right;\n",
       "    }\n",
       "</style>\n",
       "<table border=\"1\" class=\"dataframe\">\n",
       "  <thead>\n",
       "    <tr style=\"text-align: right;\">\n",
       "      <th></th>\n",
       "      <th>Scaling</th>\n",
       "      <th>Model</th>\n",
       "      <th>Accuracy</th>\n",
       "      <th>Precision</th>\n",
       "      <th>Recall</th>\n",
       "      <th>ROC-AUC</th>\n",
       "    </tr>\n",
       "  </thead>\n",
       "  <tbody>\n",
       "    <tr>\n",
       "      <th>0</th>\n",
       "      <td>Standard</td>\n",
       "      <td>Logistic Regression</td>\n",
       "      <td>0.560927</td>\n",
       "      <td>0.527719</td>\n",
       "      <td>0.391340</td>\n",
       "      <td>0.547769</td>\n",
       "    </tr>\n",
       "    <tr>\n",
       "      <th>0</th>\n",
       "      <td>Standard</td>\n",
       "      <td>Decision Tree</td>\n",
       "      <td>0.567833</td>\n",
       "      <td>0.535098</td>\n",
       "      <td>0.354889</td>\n",
       "      <td>0.550978</td>\n",
       "    </tr>\n",
       "    <tr>\n",
       "      <th>0</th>\n",
       "      <td>MinMax</td>\n",
       "      <td>Logistic Regression</td>\n",
       "      <td>0.564370</td>\n",
       "      <td>0.533324</td>\n",
       "      <td>0.389673</td>\n",
       "      <td>0.550706</td>\n",
       "    </tr>\n",
       "    <tr>\n",
       "      <th>0</th>\n",
       "      <td>MinMax</td>\n",
       "      <td>Decision Tree</td>\n",
       "      <td>0.580891</td>\n",
       "      <td>0.555105</td>\n",
       "      <td>0.433380</td>\n",
       "      <td>0.569397</td>\n",
       "    </tr>\n",
       "    <tr>\n",
       "      <th>0</th>\n",
       "      <td>MinMax</td>\n",
       "      <td>Random Forest</td>\n",
       "      <td>0.555431</td>\n",
       "      <td>0.521858</td>\n",
       "      <td>0.360856</td>\n",
       "      <td>0.540039</td>\n",
       "    </tr>\n",
       "    <tr>\n",
       "      <th>0</th>\n",
       "      <td>MaxAbs</td>\n",
       "      <td>Logistic Regression</td>\n",
       "      <td>0.563683</td>\n",
       "      <td>0.532241</td>\n",
       "      <td>0.389639</td>\n",
       "      <td>0.550048</td>\n",
       "    </tr>\n",
       "    <tr>\n",
       "      <th>0</th>\n",
       "      <td>MaxABS</td>\n",
       "      <td>Decision Tree</td>\n",
       "      <td>0.580891</td>\n",
       "      <td>0.555105</td>\n",
       "      <td>0.433380</td>\n",
       "      <td>0.569397</td>\n",
       "    </tr>\n",
       "    <tr>\n",
       "      <th>0</th>\n",
       "      <td>MaxABS</td>\n",
       "      <td>Random Forest</td>\n",
       "      <td>0.554743</td>\n",
       "      <td>0.520918</td>\n",
       "      <td>0.359375</td>\n",
       "      <td>0.539298</td>\n",
       "    </tr>\n",
       "    <tr>\n",
       "      <th>0</th>\n",
       "      <td>Robust</td>\n",
       "      <td>Logistic Regression</td>\n",
       "      <td>0.565745</td>\n",
       "      <td>0.535218</td>\n",
       "      <td>0.394348</td>\n",
       "      <td>0.552442</td>\n",
       "    </tr>\n",
       "    <tr>\n",
       "      <th>0</th>\n",
       "      <td>Robust</td>\n",
       "      <td>Decision Tree</td>\n",
       "      <td>0.565745</td>\n",
       "      <td>0.535218</td>\n",
       "      <td>0.394348</td>\n",
       "      <td>0.552442</td>\n",
       "    </tr>\n",
       "  </tbody>\n",
       "</table>\n",
       "</div>"
      ],
      "text/plain": [
       "    Scaling                Model  Accuracy  Precision    Recall   ROC-AUC\n",
       "0  Standard  Logistic Regression  0.560927   0.527719  0.391340  0.547769\n",
       "0  Standard        Decision Tree  0.567833   0.535098  0.354889  0.550978\n",
       "0    MinMax  Logistic Regression  0.564370   0.533324  0.389673  0.550706\n",
       "0    MinMax        Decision Tree  0.580891   0.555105  0.433380  0.569397\n",
       "0    MinMax        Random Forest  0.555431   0.521858  0.360856  0.540039\n",
       "0    MaxAbs  Logistic Regression  0.563683   0.532241  0.389639  0.550048\n",
       "0    MaxABS        Decision Tree  0.580891   0.555105  0.433380  0.569397\n",
       "0    MaxABS        Random Forest  0.554743   0.520918  0.359375  0.539298\n",
       "0    Robust  Logistic Regression  0.565745   0.535218  0.394348  0.552442\n",
       "0    Robust        Decision Tree  0.565745   0.535218  0.394348  0.552442"
      ]
     },
     "execution_count": 105,
     "metadata": {},
     "output_type": "execute_result"
    }
   ],
   "source": [
    "# Storing results in a dataframe\n",
    "tempResultsDf = pd.DataFrame({'Scaling':['Robust'],'Model':['Decision Tree'], \n",
    "                          'Accuracy': [np.mean(accuracy)], 'Precision': [np.mean(precision)],\n",
    "                          'Recall':[np.mean(recall)],'ROC-AUC':[np.mean(roc_auc)]})\n",
    "resultsDf = pd.concat([resultsDf, tempResultsDf])\n",
    "resultsDf = resultsDf[['Scaling','Model', 'Accuracy', 'Precision','Recall','ROC-AUC']]\n",
    "resultsDf"
   ]
  },
  {
   "cell_type": "markdown",
   "metadata": {},
   "source": [
    "# Random Forest"
   ]
  },
  {
   "cell_type": "code",
   "execution_count": 106,
   "metadata": {},
   "outputs": [],
   "source": [
    "RT = RandomForestClassifier(random_state=0)"
   ]
  },
  {
   "cell_type": "code",
   "execution_count": 107,
   "metadata": {
    "scrolled": true
   },
   "outputs": [
    {
     "data": {
      "text/plain": [
       "GridSearchCV(cv=3, error_score='raise-deprecating',\n",
       "       estimator=RandomForestClassifier(bootstrap=True, class_weight=None, criterion='gini',\n",
       "            max_depth=None, max_features='auto', max_leaf_nodes=None,\n",
       "            min_impurity_decrease=0.0, min_impurity_split=None,\n",
       "            min_samples_leaf=1, min_samples_split=2,\n",
       "            min_weight_fraction_leaf=0.0, n_estimators='warn', n_jobs=None,\n",
       "            oob_score=False, random_state=0, verbose=0, warm_start=False),\n",
       "       fit_params=None, iid='warn', n_jobs=None,\n",
       "       param_grid={'n_estimators': array([1, 2, 3, 4, 5, 6, 7, 8, 9]), 'max_depth': array([1, 2, 3, 4, 5, 6, 7, 8, 9])},\n",
       "       pre_dispatch='2*n_jobs', refit=True, return_train_score='warn',\n",
       "       scoring=None, verbose=0)"
      ]
     },
     "execution_count": 107,
     "metadata": {},
     "output_type": "execute_result"
    }
   ],
   "source": [
    "parameter ={'n_estimators':np.arange(1,10),'max_depth':np.arange(1,10)}\n",
    "GS=GridSearchCV(RT,parameter,cv=3)\n",
    "GS.fit(X,Y)"
   ]
  },
  {
   "cell_type": "code",
   "execution_count": 108,
   "metadata": {},
   "outputs": [
    {
     "data": {
      "text/plain": [
       "{'max_depth': 1, 'n_estimators': 1}"
      ]
     },
     "execution_count": 108,
     "metadata": {},
     "output_type": "execute_result"
    }
   ],
   "source": [
    "GS.best_params_"
   ]
  },
  {
   "cell_type": "code",
   "execution_count": 109,
   "metadata": {},
   "outputs": [],
   "source": [
    "RT = RandomForestClassifier(n_estimators=6,max_depth=5,random_state=0)\n"
   ]
  },
  {
   "cell_type": "markdown",
   "metadata": {},
   "source": [
    "\n",
    "# K Fold Cross Validation"
   ]
  },
  {
   "cell_type": "code",
   "execution_count": 110,
   "metadata": {},
   "outputs": [],
   "source": [
    "kf = KFold(n_splits=5,shuffle=True,random_state=0)"
   ]
  },
  {
   "cell_type": "code",
   "execution_count": 111,
   "metadata": {},
   "outputs": [
    {
     "name": "stdout",
     "output_type": "stream",
     "text": [
      " Accuracy: 0.57  Precision: 0.54  Recall: 0.36  ROC-AOC: 0.55\n"
     ]
    }
   ],
   "source": [
    "precision=[]\n",
    "recall  =[]\n",
    "roc_auc = []\n",
    "accuracy=[]\n",
    "for train,test in kf.split(X,Y):\n",
    "    xtrain,xtest=X.iloc[train,:],X.iloc[test,:]\n",
    "    ytrain,ytest=Y.iloc[train],Y.iloc[test]\n",
    "    RT.fit(xtrain,ytrain)\n",
    "    y_predict = RT.predict(xtest)\n",
    "    precision.append(metrics.precision_score(ytest,y_predict))\n",
    "    recall.append(metrics.recall_score(ytest,y_predict))\n",
    "    fpr,tpr,_=metrics.roc_curve(ytest,y_predict)\n",
    "    roc_auc.append(metrics.auc(fpr,tpr))\n",
    "    accuracy.append(metrics.accuracy_score(ytest,y_predict))\n",
    "print(' Accuracy: %0.02f  Precision: %0.02f  Recall: %0.02f  ROC-AOC: %0.02F'\n",
    "      %(np.mean(accuracy),np.mean(precision),np.mean(recall),np.mean(roc_auc)))"
   ]
  },
  {
   "cell_type": "code",
   "execution_count": 112,
   "metadata": {},
   "outputs": [
    {
     "data": {
      "text/html": [
       "<div>\n",
       "<style scoped>\n",
       "    .dataframe tbody tr th:only-of-type {\n",
       "        vertical-align: middle;\n",
       "    }\n",
       "\n",
       "    .dataframe tbody tr th {\n",
       "        vertical-align: top;\n",
       "    }\n",
       "\n",
       "    .dataframe thead th {\n",
       "        text-align: right;\n",
       "    }\n",
       "</style>\n",
       "<table border=\"1\" class=\"dataframe\">\n",
       "  <thead>\n",
       "    <tr style=\"text-align: right;\">\n",
       "      <th></th>\n",
       "      <th>Scaling</th>\n",
       "      <th>Model</th>\n",
       "      <th>Accuracy</th>\n",
       "      <th>Precision</th>\n",
       "      <th>Recall</th>\n",
       "      <th>ROC-AUC</th>\n",
       "    </tr>\n",
       "  </thead>\n",
       "  <tbody>\n",
       "    <tr>\n",
       "      <th>0</th>\n",
       "      <td>Standard</td>\n",
       "      <td>Logistic Regression</td>\n",
       "      <td>0.560927</td>\n",
       "      <td>0.527719</td>\n",
       "      <td>0.391340</td>\n",
       "      <td>0.547769</td>\n",
       "    </tr>\n",
       "    <tr>\n",
       "      <th>0</th>\n",
       "      <td>Standard</td>\n",
       "      <td>Decision Tree</td>\n",
       "      <td>0.567833</td>\n",
       "      <td>0.535098</td>\n",
       "      <td>0.354889</td>\n",
       "      <td>0.550978</td>\n",
       "    </tr>\n",
       "    <tr>\n",
       "      <th>0</th>\n",
       "      <td>MinMax</td>\n",
       "      <td>Logistic Regression</td>\n",
       "      <td>0.564370</td>\n",
       "      <td>0.533324</td>\n",
       "      <td>0.389673</td>\n",
       "      <td>0.550706</td>\n",
       "    </tr>\n",
       "    <tr>\n",
       "      <th>0</th>\n",
       "      <td>MinMax</td>\n",
       "      <td>Decision Tree</td>\n",
       "      <td>0.580891</td>\n",
       "      <td>0.555105</td>\n",
       "      <td>0.433380</td>\n",
       "      <td>0.569397</td>\n",
       "    </tr>\n",
       "    <tr>\n",
       "      <th>0</th>\n",
       "      <td>MinMax</td>\n",
       "      <td>Random Forest</td>\n",
       "      <td>0.555431</td>\n",
       "      <td>0.521858</td>\n",
       "      <td>0.360856</td>\n",
       "      <td>0.540039</td>\n",
       "    </tr>\n",
       "    <tr>\n",
       "      <th>0</th>\n",
       "      <td>MaxAbs</td>\n",
       "      <td>Logistic Regression</td>\n",
       "      <td>0.563683</td>\n",
       "      <td>0.532241</td>\n",
       "      <td>0.389639</td>\n",
       "      <td>0.550048</td>\n",
       "    </tr>\n",
       "    <tr>\n",
       "      <th>0</th>\n",
       "      <td>MaxABS</td>\n",
       "      <td>Decision Tree</td>\n",
       "      <td>0.580891</td>\n",
       "      <td>0.555105</td>\n",
       "      <td>0.433380</td>\n",
       "      <td>0.569397</td>\n",
       "    </tr>\n",
       "    <tr>\n",
       "      <th>0</th>\n",
       "      <td>MaxABS</td>\n",
       "      <td>Random Forest</td>\n",
       "      <td>0.554743</td>\n",
       "      <td>0.520918</td>\n",
       "      <td>0.359375</td>\n",
       "      <td>0.539298</td>\n",
       "    </tr>\n",
       "    <tr>\n",
       "      <th>0</th>\n",
       "      <td>Robust</td>\n",
       "      <td>Logistic Regression</td>\n",
       "      <td>0.565745</td>\n",
       "      <td>0.535218</td>\n",
       "      <td>0.394348</td>\n",
       "      <td>0.552442</td>\n",
       "    </tr>\n",
       "    <tr>\n",
       "      <th>0</th>\n",
       "      <td>Robust</td>\n",
       "      <td>Decision Tree</td>\n",
       "      <td>0.565745</td>\n",
       "      <td>0.535218</td>\n",
       "      <td>0.394348</td>\n",
       "      <td>0.552442</td>\n",
       "    </tr>\n",
       "    <tr>\n",
       "      <th>0</th>\n",
       "      <td>Robust</td>\n",
       "      <td>Random Forest</td>\n",
       "      <td>0.568484</td>\n",
       "      <td>0.544571</td>\n",
       "      <td>0.359679</td>\n",
       "      <td>0.552284</td>\n",
       "    </tr>\n",
       "  </tbody>\n",
       "</table>\n",
       "</div>"
      ],
      "text/plain": [
       "    Scaling                Model  Accuracy  Precision    Recall   ROC-AUC\n",
       "0  Standard  Logistic Regression  0.560927   0.527719  0.391340  0.547769\n",
       "0  Standard        Decision Tree  0.567833   0.535098  0.354889  0.550978\n",
       "0    MinMax  Logistic Regression  0.564370   0.533324  0.389673  0.550706\n",
       "0    MinMax        Decision Tree  0.580891   0.555105  0.433380  0.569397\n",
       "0    MinMax        Random Forest  0.555431   0.521858  0.360856  0.540039\n",
       "0    MaxAbs  Logistic Regression  0.563683   0.532241  0.389639  0.550048\n",
       "0    MaxABS        Decision Tree  0.580891   0.555105  0.433380  0.569397\n",
       "0    MaxABS        Random Forest  0.554743   0.520918  0.359375  0.539298\n",
       "0    Robust  Logistic Regression  0.565745   0.535218  0.394348  0.552442\n",
       "0    Robust        Decision Tree  0.565745   0.535218  0.394348  0.552442\n",
       "0    Robust        Random Forest  0.568484   0.544571  0.359679  0.552284"
      ]
     },
     "execution_count": 112,
     "metadata": {},
     "output_type": "execute_result"
    }
   ],
   "source": [
    "# Storing results in a dataframe\n",
    "tempResultsDf = pd.DataFrame({'Scaling':['Robust'],'Model':['Random Forest'], \n",
    "                          'Accuracy': [np.mean(accuracy)], 'Precision': [np.mean(precision)],\n",
    "                          'Recall':[np.mean(recall)],'ROC-AUC':[np.mean(roc_auc)]})\n",
    "resultsDf = pd.concat([resultsDf, tempResultsDf])\n",
    "resultsDf = resultsDf[['Scaling','Model', 'Accuracy', 'Precision','Recall','ROC-AUC']]\n",
    "resultsDf"
   ]
  },
  {
   "cell_type": "markdown",
   "metadata": {},
   "source": [
    "# QuantileTransformer-Normal Scalar"
   ]
  },
  {
   "cell_type": "markdown",
   "metadata": {},
   "source": [
    "# Logistic Regression"
   ]
  },
  {
   "cell_type": "code",
   "execution_count": 113,
   "metadata": {},
   "outputs": [],
   "source": [
    "X = qt_data.drop('Gender',axis=1)\n",
    "Y = data.Gender"
   ]
  },
  {
   "cell_type": "code",
   "execution_count": null,
   "metadata": {},
   "outputs": [],
   "source": [
    "LR = LogisticRegression()"
   ]
  },
  {
   "cell_type": "markdown",
   "metadata": {},
   "source": [
    "# K Fold Cross Validation"
   ]
  },
  {
   "cell_type": "code",
   "execution_count": null,
   "metadata": {},
   "outputs": [],
   "source": [
    "kf = KFold(n_splits=5,shuffle=True,random_state=0)"
   ]
  },
  {
   "cell_type": "code",
   "execution_count": null,
   "metadata": {},
   "outputs": [],
   "source": [
    "precision=[]\n",
    "recall  =[]\n",
    "roc_auc = []\n",
    "accuracy=[]\n",
    "for train,test in kf.split(X,Y):\n",
    "    xtrain,xtest=X.iloc[train,:],X.iloc[test,:]\n",
    "    ytrain,ytest=Y.iloc[train],Y.iloc[test]\n",
    "    LR.fit(xtrain,ytrain)\n",
    "    y_predict = LR.predict(xtest)\n",
    "    precision.append(metrics.precision_score(ytest,y_predict))\n",
    "    recall.append(metrics.recall_score(ytest,y_predict))\n",
    "    fpr,tpr,_=metrics.roc_curve(ytest,y_predict)\n",
    "    roc_auc.append(metrics.auc(fpr,tpr))\n",
    "    accuracy.append(metrics.accuracy_score(ytest,y_predict))\n",
    "print(' Accuracy: %0.02f  Precision: %0.02f  Recall: %0.02f  ROC-AOC: %0.02F'\n",
    "      %(np.mean(accuracy),np.mean(precision),np.mean(recall),np.mean(roc_auc)))"
   ]
  },
  {
   "cell_type": "code",
   "execution_count": null,
   "metadata": {},
   "outputs": [],
   "source": [
    "# Storing results in a dataframe\n",
    "tempResultsDf = pd.DataFrame({'Scaling':['Quantile-N'],'Model':['Logistic Regression'], \n",
    "                          'Accuracy': [np.mean(accuracy)], 'Precision': [np.mean(precision)],\n",
    "                          'Recall':[np.mean(recall)],'ROC-AUC':[np.mean(roc_auc)]})\n",
    "resultsDf = pd.concat([resultsDf, tempResultsDf])\n",
    "resultsDf = resultsDf[['Scaling','Model', 'Accuracy', 'Precision','Recall','ROC-AUC']]\n",
    "resultsDf"
   ]
  },
  {
   "cell_type": "markdown",
   "metadata": {},
   "source": [
    "\n",
    "# Decision Tree"
   ]
  },
  {
   "cell_type": "code",
   "execution_count": null,
   "metadata": {},
   "outputs": [],
   "source": [
    "DT = DecisionTreeClassifier()"
   ]
  },
  {
   "cell_type": "code",
   "execution_count": null,
   "metadata": {},
   "outputs": [],
   "source": [
    "parameter ={'max_depth':np.arange(1,10)}\n",
    "GS=GridSearchCV(DT,parameter,cv=3)\n",
    "GS.fit(X,Y)"
   ]
  },
  {
   "cell_type": "code",
   "execution_count": null,
   "metadata": {},
   "outputs": [],
   "source": [
    "GS.best_params_"
   ]
  },
  {
   "cell_type": "code",
   "execution_count": null,
   "metadata": {},
   "outputs": [],
   "source": [
    "DT = DecisionTreeClassifier(max_depth=1)"
   ]
  },
  {
   "cell_type": "markdown",
   "metadata": {},
   "source": [
    "# K Fold Cross Validation"
   ]
  },
  {
   "cell_type": "code",
   "execution_count": null,
   "metadata": {},
   "outputs": [],
   "source": [
    "kf = KFold(n_splits=5,shuffle=True,random_state=0)"
   ]
  },
  {
   "cell_type": "code",
   "execution_count": null,
   "metadata": {},
   "outputs": [],
   "source": [
    "precision=[]\n",
    "recall  =[]\n",
    "roc_auc = []\n",
    "accuracy=[]\n",
    "for train,test in kf.split(X,Y):\n",
    "    xtrain,xtest=X.iloc[train,:],X.iloc[test,:]\n",
    "    ytrain,ytest=Y.iloc[train],Y.iloc[test]\n",
    "    DT.fit(xtrain,ytrain)\n",
    "    y_predict = DT.predict(xtest)\n",
    "    precision.append(metrics.precision_score(ytest,y_predict))\n",
    "    recall.append(metrics.recall_score(ytest,y_predict))\n",
    "    fpr,tpr,_=metrics.roc_curve(ytest,y_predict)\n",
    "    roc_auc.append(metrics.auc(fpr,tpr))\n",
    "    accuracy.append(metrics.accuracy_score(ytest,y_predict))\n",
    "print(' Accuracy: %0.02f  Precision: %0.02f  Recall: %0.02f  ROC-AOC: %0.02F'\n",
    "      %(np.mean(accuracy),np.mean(precision),np.mean(recall),np.mean(roc_auc)))"
   ]
  },
  {
   "cell_type": "code",
   "execution_count": null,
   "metadata": {},
   "outputs": [],
   "source": [
    "# Storing results in a dataframe\n",
    "tempResultsDf = pd.DataFrame({'Scaling':['Quantile-N'],'Model':['Decision Tree'], \n",
    "                          'Accuracy': [np.mean(accuracy)], 'Precision': [np.mean(precision)],\n",
    "                          'Recall':[np.mean(recall)],'ROC-AUC':[np.mean(roc_auc)]})\n",
    "resultsDf = pd.concat([resultsDf, tempResultsDf])\n",
    "resultsDf = resultsDf[['Scaling','Model', 'Accuracy', 'Precision','Recall','ROC-AUC']]\n",
    "resultsDf"
   ]
  },
  {
   "cell_type": "markdown",
   "metadata": {},
   "source": [
    "# Random Forest"
   ]
  },
  {
   "cell_type": "code",
   "execution_count": null,
   "metadata": {},
   "outputs": [],
   "source": [
    "RT = RandomForestClassifier(random_state=0)"
   ]
  },
  {
   "cell_type": "code",
   "execution_count": null,
   "metadata": {},
   "outputs": [],
   "source": [
    "parameter ={'n_estimators':np.arange(1,10),'max_depth':np.arange(1,10)}\n",
    "GS=GridSearchCV(RT,parameter,cv=3)\n",
    "GS.fit(X,Y)"
   ]
  },
  {
   "cell_type": "code",
   "execution_count": null,
   "metadata": {},
   "outputs": [],
   "source": [
    "GS.best_params_"
   ]
  },
  {
   "cell_type": "code",
   "execution_count": null,
   "metadata": {},
   "outputs": [],
   "source": [
    "RT = RandomForestClassifier(n_estimators=8,max_depth=5)"
   ]
  },
  {
   "cell_type": "markdown",
   "metadata": {},
   "source": [
    "# K Fold Cross Validation"
   ]
  },
  {
   "cell_type": "code",
   "execution_count": null,
   "metadata": {},
   "outputs": [],
   "source": [
    "kf = KFold(n_splits=5,shuffle=True,random_state=0)"
   ]
  },
  {
   "cell_type": "code",
   "execution_count": null,
   "metadata": {},
   "outputs": [],
   "source": [
    "precision=[]\n",
    "recall  =[]\n",
    "roc_auc = []\n",
    "accuracy=[]\n",
    "for train,test in kf.split(X,Y):\n",
    "    xtrain,xtest=X.iloc[train,:],X.iloc[test,:]\n",
    "    ytrain,ytest=Y.iloc[train],Y.iloc[test]\n",
    "    RT.fit(xtrain,ytrain)\n",
    "    y_predict = RT.predict(xtest)\n",
    "    precision.append(metrics.precision_score(ytest,y_predict))\n",
    "    recall.append(metrics.recall_score(ytest,y_predict))\n",
    "    fpr,tpr,_=metrics.roc_curve(ytest,y_predict)\n",
    "    roc_auc.append(metrics.auc(fpr,tpr))\n",
    "    accuracy.append(metrics.accuracy_score(ytest,y_predict))\n",
    "print(' Accuracy: %0.02f  Precision: %0.02f  Recall: %0.02f  ROC-AOC: %0.02F'\n",
    "      %(np.mean(accuracy),np.mean(precision),np.mean(recall),np.mean(roc_auc)))"
   ]
  },
  {
   "cell_type": "code",
   "execution_count": null,
   "metadata": {},
   "outputs": [],
   "source": [
    "# Storing results in a dataframe\n",
    "tempResultsDf = pd.DataFrame({'Scaling':['Quantile-N'],'Model':['Random Forest'], \n",
    "                          'Accuracy': [np.mean(accuracy)], 'Precision': [np.mean(precision)],\n",
    "                          'Recall':[np.mean(recall)],'ROC-AUC':[np.mean(roc_auc)]})\n",
    "resultsDf = pd.concat([resultsDf, tempResultsDf])\n",
    "resultsDf = resultsDf[['Scaling','Model', 'Accuracy', 'Precision','Recall','ROC-AUC']]\n",
    "resultsDf"
   ]
  },
  {
   "cell_type": "markdown",
   "metadata": {},
   "source": [
    "# QuantileTransformer-Uniform Scalar\n"
   ]
  },
  {
   "cell_type": "markdown",
   "metadata": {},
   "source": [
    "# Logistic Regression"
   ]
  },
  {
   "cell_type": "code",
   "execution_count": null,
   "metadata": {
    "scrolled": true
   },
   "outputs": [],
   "source": [
    "X = nm_data.drop('Gender',axis=1)\n",
    "Y = data.Gender"
   ]
  },
  {
   "cell_type": "code",
   "execution_count": null,
   "metadata": {},
   "outputs": [],
   "source": [
    "LR = LogisticRegression()"
   ]
  },
  {
   "cell_type": "markdown",
   "metadata": {},
   "source": [
    "# K Fold Cross Validation"
   ]
  },
  {
   "cell_type": "code",
   "execution_count": null,
   "metadata": {},
   "outputs": [],
   "source": [
    "kf = KFold(n_splits=5,shuffle=True,random_state=0)"
   ]
  },
  {
   "cell_type": "code",
   "execution_count": null,
   "metadata": {},
   "outputs": [],
   "source": [
    "precision=[]\n",
    "recall  =[]\n",
    "roc_auc = []\n",
    "accuracy=[]\n",
    "for train,test in kf.split(X,Y):\n",
    "    xtrain,xtest=X.iloc[train,:],X.iloc[test,:]\n",
    "    ytrain,ytest=Y.iloc[train],Y.iloc[test]\n",
    "    LR.fit(xtrain,ytrain)\n",
    "    y_predict = LR.predict(xtest)\n",
    "    precision.append(metrics.precision_score(ytest,y_predict))\n",
    "    recall.append(metrics.recall_score(ytest,y_predict))\n",
    "    fpr,tpr,_=metrics.roc_curve(ytest,y_predict)\n",
    "    roc_auc.append(metrics.auc(fpr,tpr))\n",
    "    accuracy.append(metrics.accuracy_score(ytest,y_predict))\n",
    "print(' Accuracy: %0.02f  Precision: %0.02f  Recall: %0.02f  ROC-AOC: %0.02F'\n",
    "      %(np.mean(accuracy),np.mean(precision),np.mean(recall),np.mean(roc_auc)))"
   ]
  },
  {
   "cell_type": "code",
   "execution_count": null,
   "metadata": {},
   "outputs": [],
   "source": [
    "# Storing results in a dataframe\n",
    "tempResultsDf = pd.DataFrame({'Scaling':['Quantile-U'],'Model':['Logistic Regression'], \n",
    "                          'Accuracy': [np.mean(accuracy)], 'Precision': [np.mean(precision)],\n",
    "                          'Recall':[np.mean(recall)],'ROC-AUC':[np.mean(roc_auc)]})\n",
    "resultsDf = pd.concat([resultsDf, tempResultsDf])\n",
    "resultsDf = resultsDf[['Scaling','Model', 'Accuracy', 'Precision','Recall','ROC-AUC']]\n",
    "resultsDf"
   ]
  },
  {
   "cell_type": "markdown",
   "metadata": {},
   "source": [
    "# Decision Tree\n"
   ]
  },
  {
   "cell_type": "code",
   "execution_count": null,
   "metadata": {},
   "outputs": [],
   "source": [
    "DT = DecisionTreeClassifier()"
   ]
  },
  {
   "cell_type": "code",
   "execution_count": null,
   "metadata": {},
   "outputs": [],
   "source": [
    "parameter ={'max_depth':np.arange(1,10)}\n",
    "GS=GridSearchCV(DT,parameter,cv=3)\n",
    "GS.fit(X,Y)"
   ]
  },
  {
   "cell_type": "code",
   "execution_count": null,
   "metadata": {},
   "outputs": [],
   "source": [
    "GS.best_params_"
   ]
  },
  {
   "cell_type": "code",
   "execution_count": null,
   "metadata": {},
   "outputs": [],
   "source": [
    "DT = DecisionTreeClassifier(max_depth=1)"
   ]
  },
  {
   "cell_type": "markdown",
   "metadata": {},
   "source": [
    "# K Fold Cross Validation"
   ]
  },
  {
   "cell_type": "code",
   "execution_count": null,
   "metadata": {},
   "outputs": [],
   "source": [
    "kf = KFold(n_splits=5,shuffle=True,random_state=0)"
   ]
  },
  {
   "cell_type": "code",
   "execution_count": null,
   "metadata": {},
   "outputs": [],
   "source": [
    "precision=[]\n",
    "recall  =[]\n",
    "roc_auc = []\n",
    "accuracy=[]\n",
    "for train,test in kf.split(X,Y):\n",
    "    xtrain,xtest=X.iloc[train,:],X.iloc[test,:]\n",
    "    ytrain,ytest=Y.iloc[train],Y.iloc[test]\n",
    "    DT.fit(xtrain,ytrain)\n",
    "    y_predict = DT.predict(xtest)\n",
    "    precision.append(metrics.precision_score(ytest,y_predict))\n",
    "    recall.append(metrics.recall_score(ytest,y_predict))\n",
    "    fpr,tpr,_=metrics.roc_curve(ytest,y_predict)\n",
    "    roc_auc.append(metrics.auc(fpr,tpr))\n",
    "    accuracy.append(metrics.accuracy_score(ytest,y_predict))\n",
    "print(' Accuracy: %0.02f  Precision: %0.02f  Recall: %0.02f  ROC-AOC: %0.02F'\n",
    "      %(np.mean(accuracy),np.mean(precision),np.mean(recall),np.mean(roc_auc)))"
   ]
  },
  {
   "cell_type": "code",
   "execution_count": null,
   "metadata": {},
   "outputs": [],
   "source": [
    "# Storing results in a dataframe\n",
    "tempResultsDf = pd.DataFrame({'Scaling':['Quantile-U'],'Model':['Decision Tree'], \n",
    "                          'Accuracy': [np.mean(accuracy)], 'Precision': [np.mean(precision)],\n",
    "                          'Recall':[np.mean(recall)],'ROC-AUC':[np.mean(roc_auc)]})\n",
    "resultsDf = pd.concat([resultsDf, tempResultsDf])\n",
    "resultsDf = resultsDf[['Scaling','Model', 'Accuracy', 'Precision','Recall','ROC-AUC']]\n",
    "resultsDf"
   ]
  },
  {
   "cell_type": "markdown",
   "metadata": {},
   "source": [
    "# Random Forest"
   ]
  },
  {
   "cell_type": "code",
   "execution_count": null,
   "metadata": {},
   "outputs": [],
   "source": [
    "RT = RandomForestClassifier(random_state=0)"
   ]
  },
  {
   "cell_type": "code",
   "execution_count": null,
   "metadata": {},
   "outputs": [],
   "source": [
    "parameter ={'n_estimators':np.arange(1,10),'max_depth':np.arange(1,10)}\n",
    "GS=GridSearchCV(RT,parameter,cv=3)\n",
    "GS.fit(X,Y)"
   ]
  },
  {
   "cell_type": "code",
   "execution_count": null,
   "metadata": {},
   "outputs": [],
   "source": [
    "GS.best_params_"
   ]
  },
  {
   "cell_type": "code",
   "execution_count": null,
   "metadata": {},
   "outputs": [],
   "source": [
    "RT = RandomForestClassifier(n_estimators=8,max_depth=5)"
   ]
  },
  {
   "cell_type": "markdown",
   "metadata": {},
   "source": [
    "# K Fold Cross Validation"
   ]
  },
  {
   "cell_type": "code",
   "execution_count": null,
   "metadata": {},
   "outputs": [],
   "source": [
    "kf = KFold(n_splits=5,shuffle=True,random_state=0)"
   ]
  },
  {
   "cell_type": "code",
   "execution_count": null,
   "metadata": {},
   "outputs": [],
   "source": [
    "precision=[]\n",
    "recall  =[]\n",
    "roc_auc = []\n",
    "accuracy=[]\n",
    "for train,test in kf.split(X,Y):\n",
    "    xtrain,xtest=X.iloc[train,:],X.iloc[test,:]\n",
    "    ytrain,ytest=Y.iloc[train],Y.iloc[test]\n",
    "    RT.fit(xtrain,ytrain)\n",
    "    y_predict = RT.predict(xtest)\n",
    "    precision.append(metrics.precision_score(ytest,y_predict))\n",
    "    recall.append(metrics.recall_score(ytest,y_predict))\n",
    "    fpr,tpr,_=metrics.roc_curve(ytest,y_predict)\n",
    "    roc_auc.append(metrics.auc(fpr,tpr))\n",
    "    accuracy.append(metrics.accuracy_score(ytest,y_predict))\n",
    "print(' Accuracy: %0.02f  Precision: %0.02f  Recall: %0.02f  ROC-AOC: %0.02F'\n",
    "      %(np.mean(accuracy),np.mean(precision),np.mean(recall),np.mean(roc_auc)))"
   ]
  },
  {
   "cell_type": "code",
   "execution_count": null,
   "metadata": {},
   "outputs": [],
   "source": [
    "# Storing results in a dataframe\n",
    "tempResultsDf = pd.DataFrame({'Scaling':['Quantile-U'],'Model':['Random Forest'], \n",
    "                          'Accuracy': [np.mean(accuracy)], 'Precision': [np.mean(precision)],\n",
    "                          'Recall':[np.mean(recall)],'ROC-AUC':[np.mean(roc_auc)]})\n",
    "resultsDf = pd.concat([resultsDf, tempResultsDf])\n",
    "resultsDf = resultsDf[['Scaling','Model', 'Accuracy', 'Precision','Recall','ROC-AUC']]\n",
    "resultsDf"
   ]
  },
  {
   "cell_type": "code",
   "execution_count": null,
   "metadata": {},
   "outputs": [],
   "source": []
  },
  {
   "cell_type": "markdown",
   "metadata": {},
   "source": [
    "# PowerTransformer Scalar"
   ]
  },
  {
   "cell_type": "code",
   "execution_count": null,
   "metadata": {},
   "outputs": [],
   "source": [
    "X = nm_data.drop('Gender',axis=1)\n",
    "Y = data.Gender"
   ]
  },
  {
   "cell_type": "markdown",
   "metadata": {},
   "source": [
    "# Logistic Regression"
   ]
  },
  {
   "cell_type": "code",
   "execution_count": null,
   "metadata": {},
   "outputs": [],
   "source": [
    "LR = LogisticRegression()"
   ]
  },
  {
   "cell_type": "markdown",
   "metadata": {},
   "source": [
    "# K Fold Cross Validation"
   ]
  },
  {
   "cell_type": "code",
   "execution_count": null,
   "metadata": {},
   "outputs": [],
   "source": [
    "kf = KFold(n_splits=5,shuffle=True,random_state=0)"
   ]
  },
  {
   "cell_type": "code",
   "execution_count": null,
   "metadata": {},
   "outputs": [],
   "source": [
    "precision=[]\n",
    "recall  =[]\n",
    "roc_auc = []\n",
    "accuracy=[]\n",
    "for train,test in kf.split(X,Y):\n",
    "    xtrain,xtest=X.iloc[train,:],X.iloc[test,:]\n",
    "    ytrain,ytest=Y.iloc[train],Y.iloc[test]\n",
    "    LR.fit(xtrain,ytrain)\n",
    "    y_predict = LR.predict(xtest)\n",
    "    precision.append(metrics.precision_score(ytest,y_predict))\n",
    "    recall.append(metrics.recall_score(ytest,y_predict))\n",
    "    fpr,tpr,_=metrics.roc_curve(ytest,y_predict)\n",
    "    roc_auc.append(metrics.auc(fpr,tpr))\n",
    "    accuracy.append(metrics.accuracy_score(ytest,y_predict))\n",
    "print(' Accuracy: %0.02f  Precision: %0.02f  Recall: %0.02f  ROC-AOC: %0.02F'\n",
    "      %(np.mean(accuracy),np.mean(precision),np.mean(recall),np.mean(roc_auc)))"
   ]
  },
  {
   "cell_type": "code",
   "execution_count": null,
   "metadata": {},
   "outputs": [],
   "source": [
    "# Storing results in a dataframe\n",
    "tempResultsDf = pd.DataFrame({'Scaling':['Power Transform'],'Model':['Logistic Regression'], \n",
    "                          'Accuracy': [np.mean(accuracy)], 'Precision': [np.mean(precision)],\n",
    "                          'Recall':[np.mean(recall)],'ROC-AUC':[np.mean(roc_auc)]})\n",
    "resultsDf = pd.concat([resultsDf, tempResultsDf])\n",
    "resultsDf = resultsDf[['Scaling','Model', 'Accuracy', 'Precision','Recall','ROC-AUC']]\n",
    "resultsDf"
   ]
  },
  {
   "cell_type": "markdown",
   "metadata": {},
   "source": [
    "# Decision Tree"
   ]
  },
  {
   "cell_type": "code",
   "execution_count": null,
   "metadata": {},
   "outputs": [],
   "source": [
    "DT = DecisionTreeClassifier()"
   ]
  },
  {
   "cell_type": "code",
   "execution_count": null,
   "metadata": {},
   "outputs": [],
   "source": [
    "parameter ={'max_depth':np.arange(1,10)}\n",
    "GS=GridSearchCV(DT,parameter,cv=3)\n",
    "GS.fit(X,Y)"
   ]
  },
  {
   "cell_type": "code",
   "execution_count": null,
   "metadata": {},
   "outputs": [],
   "source": [
    "GS.best_params_"
   ]
  },
  {
   "cell_type": "code",
   "execution_count": null,
   "metadata": {},
   "outputs": [],
   "source": [
    "DT = DecisionTreeClassifier(max_depth=1)"
   ]
  },
  {
   "cell_type": "markdown",
   "metadata": {},
   "source": [
    "# K Fold Cross Validation"
   ]
  },
  {
   "cell_type": "code",
   "execution_count": null,
   "metadata": {},
   "outputs": [],
   "source": [
    "kf = KFold(n_splits=5,shuffle=True,random_state=0)"
   ]
  },
  {
   "cell_type": "code",
   "execution_count": null,
   "metadata": {},
   "outputs": [],
   "source": [
    "precision=[]\n",
    "recall  =[]\n",
    "roc_auc = []\n",
    "accuracy=[]\n",
    "for train,test in kf.split(X,Y):\n",
    "    xtrain,xtest=X.iloc[train,:],X.iloc[test,:]\n",
    "    ytrain,ytest=Y.iloc[train],Y.iloc[test]\n",
    "    DT.fit(xtrain,ytrain)\n",
    "    y_predict = DT.predict(xtest)\n",
    "    precision.append(metrics.precision_score(ytest,y_predict))\n",
    "    recall.append(metrics.recall_score(ytest,y_predict))\n",
    "    fpr,tpr,_=metrics.roc_curve(ytest,y_predict)\n",
    "    roc_auc.append(metrics.auc(fpr,tpr))\n",
    "    accuracy.append(metrics.accuracy_score(ytest,y_predict))\n",
    "print(' Accuracy: %0.02f  Precision: %0.02f  Recall: %0.02f  ROC-AOC: %0.02F'\n",
    "      %(np.mean(accuracy),np.mean(precision),np.mean(recall),np.mean(roc_auc)))"
   ]
  },
  {
   "cell_type": "code",
   "execution_count": null,
   "metadata": {},
   "outputs": [],
   "source": [
    "# Storing results in a dataframe\n",
    "tempResultsDf = pd.DataFrame({'Scaling':['Power Transform'],'Model':['Decision Tree'], \n",
    "                          'Accuracy': [np.mean(accuracy)], 'Precision': [np.mean(precision)],\n",
    "                          'Recall':[np.mean(recall)],'ROC-AUC':[np.mean(roc_auc)]})\n",
    "resultsDf = pd.concat([resultsDf, tempResultsDf])\n",
    "resultsDf = resultsDf[['Scaling','Model', 'Accuracy', 'Precision','Recall','ROC-AUC']]\n",
    "resultsDf"
   ]
  },
  {
   "cell_type": "markdown",
   "metadata": {},
   "source": [
    "# Random Forest"
   ]
  },
  {
   "cell_type": "code",
   "execution_count": null,
   "metadata": {},
   "outputs": [],
   "source": [
    "RT = RandomForestClassifier(random_state=0)"
   ]
  },
  {
   "cell_type": "code",
   "execution_count": null,
   "metadata": {},
   "outputs": [],
   "source": [
    "parameter ={'n_estimators':np.arange(1,10),'max_depth':np.arange(1,10)}\n",
    "GS=GridSearchCV(RT,parameter,cv=3)\n",
    "GS.fit(X,Y)"
   ]
  },
  {
   "cell_type": "code",
   "execution_count": null,
   "metadata": {},
   "outputs": [],
   "source": [
    "GS.best_params_"
   ]
  },
  {
   "cell_type": "code",
   "execution_count": null,
   "metadata": {},
   "outputs": [],
   "source": [
    "RT = RandomForestClassifier(n_estimators=8,max_depth=5)"
   ]
  },
  {
   "cell_type": "markdown",
   "metadata": {},
   "source": [
    "# K Fold Cross Validation"
   ]
  },
  {
   "cell_type": "code",
   "execution_count": null,
   "metadata": {},
   "outputs": [],
   "source": [
    "kf = KFold(n_splits=5,shuffle=True,random_state=0)"
   ]
  },
  {
   "cell_type": "code",
   "execution_count": null,
   "metadata": {},
   "outputs": [],
   "source": [
    "precision=[]\n",
    "recall  =[]\n",
    "roc_auc = []\n",
    "accuracy=[]\n",
    "for train,test in kf.split(X,Y):\n",
    "    xtrain,xtest=X.iloc[train,:],X.iloc[test,:]\n",
    "    ytrain,ytest=Y.iloc[train],Y.iloc[test]\n",
    "    RT.fit(xtrain,ytrain)\n",
    "    y_predict = RT.predict(xtest)\n",
    "    precision.append(metrics.precision_score(ytest,y_predict))\n",
    "    recall.append(metrics.recall_score(ytest,y_predict))\n",
    "    fpr,tpr,_=metrics.roc_curve(ytest,y_predict)\n",
    "    roc_auc.append(metrics.auc(fpr,tpr))\n",
    "    accuracy.append(metrics.accuracy_score(ytest,y_predict))\n",
    "print(' Accuracy: %0.02f  Precision: %0.02f  Recall: %0.02f  ROC-AOC: %0.02F'\n",
    "      %(np.mean(accuracy),np.mean(precision),np.mean(recall),np.mean(roc_auc)))"
   ]
  },
  {
   "cell_type": "code",
   "execution_count": null,
   "metadata": {},
   "outputs": [],
   "source": [
    "# Storing results in a dataframe\n",
    "tempResultsDf = pd.DataFrame({'Scaling':['Power Transform'],'Model':['Random Forest'], \n",
    "                          'Accuracy': [np.mean(accuracy)], 'Precision': [np.mean(precision)],\n",
    "                          'Recall':[np.mean(recall)],'ROC-AUC':[np.mean(roc_auc)]})\n",
    "resultsDf = pd.concat([resultsDf, tempResultsDf])\n",
    "resultsDf = resultsDf[['Scaling','Model', 'Accuracy', 'Precision','Recall','ROC-AUC']]\n",
    "resultsDf"
   ]
  },
  {
   "cell_type": "markdown",
   "metadata": {},
   "source": [
    "# Normalizer"
   ]
  },
  {
   "cell_type": "code",
   "execution_count": null,
   "metadata": {},
   "outputs": [],
   "source": [
    "X = nm_data.drop('Gender',axis=1)\n",
    "Y = data.Gender"
   ]
  },
  {
   "cell_type": "markdown",
   "metadata": {},
   "source": [
    "# Logistic Regression\n"
   ]
  },
  {
   "cell_type": "code",
   "execution_count": null,
   "metadata": {},
   "outputs": [],
   "source": [
    "LR = LogisticRegression()"
   ]
  },
  {
   "cell_type": "markdown",
   "metadata": {},
   "source": [
    "# K Fold Cross Validation\n"
   ]
  },
  {
   "cell_type": "code",
   "execution_count": null,
   "metadata": {},
   "outputs": [],
   "source": [
    "kf = KFold(n_splits=5,shuffle=True,random_state=0)"
   ]
  },
  {
   "cell_type": "code",
   "execution_count": null,
   "metadata": {},
   "outputs": [],
   "source": [
    "precision=[]\n",
    "recall  =[]\n",
    "roc_auc = []\n",
    "accuracy=[]\n",
    "for train,test in kf.split(X,Y):\n",
    "    xtrain,xtest=X.iloc[train,:],X.iloc[test,:]\n",
    "    ytrain,ytest=Y.iloc[train],Y.iloc[test]\n",
    "    RT.fit(xtrain,ytrain)\n",
    "    y_predict = RT.predict(xtest)\n",
    "    precision.append(metrics.precision_score(ytest,y_predict))\n",
    "    recall.append(metrics.recall_score(ytest,y_predict))\n",
    "    fpr,tpr,_=metrics.roc_curve(ytest,y_predict)\n",
    "    roc_auc.append(metrics.auc(fpr,tpr))\n",
    "    accuracy.append(metrics.accuracy_score(ytest,y_predict))\n",
    "print(' Accuracy: %0.02f  Precision: %0.02f  Recall: %0.02f  ROC-AOC: %0.02F'\n",
    "      %(np.mean(accuracy),np.mean(precision),np.mean(recall),np.mean(roc_auc)))"
   ]
  },
  {
   "cell_type": "code",
   "execution_count": null,
   "metadata": {},
   "outputs": [],
   "source": [
    "# Storing results in a dataframe\n",
    "tempResultsDf = pd.DataFrame({'Scaling':['Normalizer'],'Model':['Logistic Regression'], \n",
    "                          'Accuracy': [np.mean(accuracy)], 'Precision': [np.mean(precision)],\n",
    "                          'Recall':[np.mean(recall)],'ROC-AUC':[np.mean(roc_auc)]})\n",
    "resultsDf = pd.concat([resultsDf, tempResultsDf])\n",
    "resultsDf = resultsDf[['Scaling','Model', 'Accuracy', 'Precision','Recall','ROC-AUC']]\n",
    "resultsDf"
   ]
  },
  {
   "cell_type": "markdown",
   "metadata": {},
   "source": [
    "# Decision Tree\n"
   ]
  },
  {
   "cell_type": "code",
   "execution_count": null,
   "metadata": {},
   "outputs": [],
   "source": [
    "DT = DecisionTreeClassifier()"
   ]
  },
  {
   "cell_type": "code",
   "execution_count": null,
   "metadata": {},
   "outputs": [],
   "source": [
    "parameter ={'max_depth':np.arange(1,10)}\n",
    "GS=GridSearchCV(DT,parameter,cv=3)\n",
    "GS.fit(X,Y)"
   ]
  },
  {
   "cell_type": "code",
   "execution_count": null,
   "metadata": {},
   "outputs": [],
   "source": [
    "GS.best_params_"
   ]
  },
  {
   "cell_type": "code",
   "execution_count": null,
   "metadata": {},
   "outputs": [],
   "source": [
    "DT = DecisionTreeClassifier(max_depth=1)"
   ]
  },
  {
   "cell_type": "markdown",
   "metadata": {},
   "source": [
    "# K Fold Cross Validation\n"
   ]
  },
  {
   "cell_type": "code",
   "execution_count": null,
   "metadata": {},
   "outputs": [],
   "source": [
    "kf = KFold(n_splits=5,shuffle=True,random_state=0)"
   ]
  },
  {
   "cell_type": "code",
   "execution_count": null,
   "metadata": {},
   "outputs": [],
   "source": [
    "precision=[]\n",
    "recall  =[]\n",
    "roc_auc = []\n",
    "accuracy=[]\n",
    "for train,test in kf.split(X,Y):\n",
    "    xtrain,xtest=X.iloc[train,:],X.iloc[test,:]\n",
    "    ytrain,ytest=Y.iloc[train],Y.iloc[test]\n",
    "    RT.fit(xtrain,ytrain)\n",
    "    y_predict = RT.predict(xtest)\n",
    "    precision.append(metrics.precision_score(ytest,y_predict))\n",
    "    recall.append(metrics.recall_score(ytest,y_predict))\n",
    "    fpr,tpr,_=metrics.roc_curve(ytest,y_predict)\n",
    "    roc_auc.append(metrics.auc(fpr,tpr))\n",
    "    accuracy.append(metrics.accuracy_score(ytest,y_predict))\n",
    "print(' Accuracy: %0.02f  Precision: %0.02f  Recall: %0.02f  ROC-AOC: %0.02F'\n",
    "      %(np.mean(accuracy),np.mean(precision),np.mean(recall),np.mean(roc_auc)))"
   ]
  },
  {
   "cell_type": "code",
   "execution_count": null,
   "metadata": {},
   "outputs": [],
   "source": [
    "# Storing results in a dataframe\n",
    "tempResultsDf = pd.DataFrame({'Scaling':['Normalizer'],'Model':['Decision Tree'], \n",
    "                          'Accuracy': [np.mean(accuracy)], 'Precision': [np.mean(precision)],\n",
    "                          'Recall':[np.mean(recall)],'ROC-AUC':[np.mean(roc_auc)]})\n",
    "resultsDf = pd.concat([resultsDf, tempResultsDf])\n",
    "resultsDf = resultsDf[['Scaling','Model', 'Accuracy', 'Precision','Recall','ROC-AUC']]\n",
    "resultsDf"
   ]
  },
  {
   "cell_type": "markdown",
   "metadata": {},
   "source": [
    "# Random Forest\n"
   ]
  },
  {
   "cell_type": "code",
   "execution_count": null,
   "metadata": {},
   "outputs": [],
   "source": [
    "RT = RandomForestClassifier(random_state=0)"
   ]
  },
  {
   "cell_type": "code",
   "execution_count": null,
   "metadata": {},
   "outputs": [],
   "source": [
    "parameter ={'n_estimators':np.arange(1,10),'max_depth':np.arange(1,10)}\n",
    "GS=GridSearchCV(RT,parameter,cv=3)\n",
    "GS.fit(X,Y)"
   ]
  },
  {
   "cell_type": "code",
   "execution_count": null,
   "metadata": {},
   "outputs": [],
   "source": [
    "GS.best_params_"
   ]
  },
  {
   "cell_type": "code",
   "execution_count": null,
   "metadata": {},
   "outputs": [],
   "source": [
    "RT = RandomForestClassifier(n_estimators=9,max_depth=9)"
   ]
  },
  {
   "cell_type": "markdown",
   "metadata": {},
   "source": [
    "# K Fold Cross Validation"
   ]
  },
  {
   "cell_type": "code",
   "execution_count": null,
   "metadata": {},
   "outputs": [],
   "source": [
    "kf = KFold(n_splits=5,shuffle=True,random_state=0)"
   ]
  },
  {
   "cell_type": "code",
   "execution_count": null,
   "metadata": {},
   "outputs": [],
   "source": [
    "precision=[]\n",
    "recall  =[]\n",
    "roc_auc = []\n",
    "accuracy=[]\n",
    "for train,test in kf.split(X,Y):\n",
    "    xtrain,xtest=X.iloc[train,:],X.iloc[test,:]\n",
    "    ytrain,ytest=Y.iloc[train],Y.iloc[test]\n",
    "    RT.fit(xtrain,ytrain)\n",
    "    y_predict = RT.predict(xtest)\n",
    "    precision.append(metrics.precision_score(ytest,y_predict))\n",
    "    recall.append(metrics.recall_score(ytest,y_predict))\n",
    "    fpr,tpr,_=metrics.roc_curve(ytest,y_predict)\n",
    "    roc_auc.append(metrics.auc(fpr,tpr))\n",
    "    accuracy.append(metrics.accuracy_score(ytest,y_predict))\n",
    "print(' Accuracy: %0.02f  Precision: %0.02f  Recall: %0.02f  ROC-AOC: %0.02F'\n",
    "      %(np.mean(accuracy),np.mean(precision),np.mean(recall),np.mean(roc_auc)))"
   ]
  },
  {
   "cell_type": "code",
   "execution_count": null,
   "metadata": {},
   "outputs": [],
   "source": [
    "# Storing results in a dataframe\n",
    "tempResultsDf = pd.DataFrame({'Scaling':['Normalizer'],'Model':['Random Forest'], \n",
    "                          'Accuracy': [np.mean(accuracy)], 'Precision': [np.mean(precision)],\n",
    "                          'Recall':[np.mean(recall)],'ROC-AUC':[np.mean(roc_auc)]})\n",
    "resultsDf = pd.concat([resultsDf, tempResultsDf])\n",
    "resultsDf = resultsDf[['Scaling','Model', 'Accuracy', 'Precision','Recall','ROC-AUC']]\n",
    "resultsDf.index = [i for i in range(len(resultsDf))]\n",
    "resultsDf"
   ]
  },
  {
   "cell_type": "code",
   "execution_count": null,
   "metadata": {},
   "outputs": [],
   "source": [
    "resultsDf.max()"
   ]
  },
  {
   "cell_type": "markdown",
   "metadata": {},
   "source": [
    "# Inference:\n",
    "From all the scaling methods Standard scaling has provided us the best scores\n",
    "From all the model scores of Random Forest is par 50 for all the metrics.\n",
    "It provided us a good Auc as well."
   ]
  },
  {
   "cell_type": "code",
   "execution_count": null,
   "metadata": {},
   "outputs": [],
   "source": []
  }
 ],
 "metadata": {
  "kernelspec": {
   "display_name": "Python 3",
   "language": "python",
   "name": "python3"
  },
  "language_info": {
   "codemirror_mode": {
    "name": "ipython",
    "version": 3
   },
   "file_extension": ".py",
   "mimetype": "text/x-python",
   "name": "python",
   "nbconvert_exporter": "python",
   "pygments_lexer": "ipython3",
   "version": "3.7.1"
  }
 },
 "nbformat": 4,
 "nbformat_minor": 2
}
